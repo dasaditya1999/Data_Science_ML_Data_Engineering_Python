{
 "cells": [
  {
   "cell_type": "code",
   "execution_count": 89,
   "id": "d1826414",
   "metadata": {},
   "outputs": [],
   "source": [
    "class Node:\n",
    "    def __init__(self,data=None,nxt=None):\n",
    "        self.data = data\n",
    "        self.nxt = nxt"
   ]
  },
  {
   "cell_type": "code",
   "execution_count": 101,
   "id": "85794923",
   "metadata": {},
   "outputs": [],
   "source": [
    "class LinkedList:\n",
    "    def __init__(self, head=None):\n",
    "        self.head = None\n",
    "        \n",
    "    def insert_at_beginning(self,data):\n",
    "        \n",
    "        # Check if the LL is empty\n",
    "        if self.head == None:\n",
    "            node = Node(data)\n",
    "            self.head = node\n",
    "        else:\n",
    "            node = Node(data)\n",
    "            node.nxt = self.head\n",
    "            self.head = node\n",
    "            \n",
    "    def insert_at_end(self,val):\n",
    "        if self.head == None:\n",
    "            node = Node(val)\n",
    "            self.head = node\n",
    "        else:\n",
    "            node = Node(val)\n",
    "            itr = self.head\n",
    "            while itr:\n",
    "                if itr.nxt == None:\n",
    "                    break\n",
    "                itr = itr.nxt\n",
    "            itr.nxt = node\n",
    "        \n",
    "    def traverse_linkedlist(self):\n",
    "        \n",
    "        # check if the LL is empty\n",
    "        if self.head == None:\n",
    "            print(\"The linkedlist is empty\")\n",
    "        \n",
    "        else:    \n",
    "            itr = self.head\n",
    "            \n",
    "            while itr:\n",
    "                print(f'{itr.data}, {itr.nxt}', end=' --> ')\n",
    "                itr = itr.nxt\n",
    "                \n",
    "    def insert_at_any_pos(self,data,pos):\n",
    "        if pos == 0:\n",
    "            self.insert_at_beginning(data)\n",
    "        else:\n",
    "            itr = self.head\n",
    "            count = 0\n",
    "            while itr:\n",
    "                count = count + 1\n",
    "                if count == pos:\n",
    "                    break\n",
    "                itr = itr.nxt\n",
    "                \n",
    "            # create a new node \n",
    "            node = Node(data)\n",
    "            next_address = itr.nxt\n",
    "            node.nxt = next_address\n",
    "            itr.nxt = node"
   ]
  },
  {
   "cell_type": "code",
   "execution_count": 102,
   "id": "dc391530",
   "metadata": {},
   "outputs": [],
   "source": [
    "ll = LinkedList()"
   ]
  },
  {
   "cell_type": "code",
   "execution_count": 103,
   "id": "b08c5485",
   "metadata": {},
   "outputs": [],
   "source": [
    "list1_ = [1,2,3,4]"
   ]
  },
  {
   "cell_type": "code",
   "execution_count": 109,
   "id": "8a67e3cc",
   "metadata": {},
   "outputs": [
    {
     "data": {
      "text/plain": [
       "<__main__.LinkedList at 0x1108b7090>"
      ]
     },
     "execution_count": 109,
     "metadata": {},
     "output_type": "execute_result"
    }
   ],
   "source": [
    "convert(list1_)"
   ]
  },
  {
   "cell_type": "code",
   "execution_count": 106,
   "id": "c408437a",
   "metadata": {},
   "outputs": [],
   "source": [
    "def convert(list_):\n",
    "    for i in list1_:\n",
    "        ll.insert_at_end(i)\n",
    "    return ll"
   ]
  },
  {
   "cell_type": "code",
   "execution_count": 105,
   "id": "1ae926ec",
   "metadata": {},
   "outputs": [
    {
     "name": "stdout",
     "output_type": "stream",
     "text": [
      "1, <__main__.Node object at 0x1107c1e10> --> 2, <__main__.Node object at 0x1107c3f10> --> 3, <__main__.Node object at 0x1107dc4d0> --> 4, None --> "
     ]
    }
   ],
   "source": [
    "ll.traverse_linkedlist()"
   ]
  },
  {
   "cell_type": "code",
   "execution_count": 92,
   "id": "6699d1c3",
   "metadata": {},
   "outputs": [],
   "source": [
    "ll.insert_at_end(996)\n",
    "ll.insert_at_end(997)\n",
    "ll.insert_at_end(998)\n",
    "ll.insert_at_end(999)"
   ]
  },
  {
   "cell_type": "code",
   "execution_count": 78,
   "id": "f454ca37",
   "metadata": {},
   "outputs": [],
   "source": [
    "ll.insert_at_beginning(30)\n",
    "ll.insert_at_beginning(40)\n",
    "ll.insert_at_beginning(80)\n",
    "ll.insert_at_any_pos(100,0)\n",
    "ll.insert_at_any_pos(111,1)"
   ]
  },
  {
   "cell_type": "code",
   "execution_count": 93,
   "id": "0bc7269a",
   "metadata": {},
   "outputs": [
    {
     "name": "stdout",
     "output_type": "stream",
     "text": [
      "996, | <__main__.Node object at 0x1076f8190> --> 997, | <__main__.Node object at 0x1106dfad0> --> 998, | <__main__.Node object at 0x1106dd190> --> 999, | None --> "
     ]
    }
   ],
   "source": [
    "ll.traverse_linkedlist()"
   ]
  },
  {
   "cell_type": "code",
   "execution_count": null,
   "id": "3fc1e259",
   "metadata": {},
   "outputs": [],
   "source": []
  },
  {
   "cell_type": "code",
   "execution_count": null,
   "id": "dd443b95",
   "metadata": {},
   "outputs": [],
   "source": []
  },
  {
   "cell_type": "code",
   "execution_count": null,
   "id": "d63a776c",
   "metadata": {},
   "outputs": [],
   "source": []
  },
  {
   "cell_type": "code",
   "execution_count": 113,
   "id": "3977bcd1",
   "metadata": {},
   "outputs": [
    {
     "data": {
      "text/plain": [
       "[5, 2]"
      ]
     },
     "execution_count": 113,
     "metadata": {},
     "output_type": "execute_result"
    }
   ],
   "source": [
    "l1 = [1,5,2]\n",
    "# l1.sort()\n",
    "l1.pop(0)\n",
    "l1"
   ]
  },
  {
   "cell_type": "code",
   "execution_count": null,
   "id": "3aa47fbe",
   "metadata": {},
   "outputs": [],
   "source": []
  }
 ],
 "metadata": {
  "kernelspec": {
   "display_name": "Python 3 (ipykernel)",
   "language": "python",
   "name": "python3"
  },
  "language_info": {
   "codemirror_mode": {
    "name": "ipython",
    "version": 3
   },
   "file_extension": ".py",
   "mimetype": "text/x-python",
   "name": "python",
   "nbconvert_exporter": "python",
   "pygments_lexer": "ipython3",
   "version": "3.11.4"
  }
 },
 "nbformat": 4,
 "nbformat_minor": 5
}
