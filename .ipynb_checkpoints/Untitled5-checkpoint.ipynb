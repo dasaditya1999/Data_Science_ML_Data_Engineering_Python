{
 "cells": [
  {
   "cell_type": "code",
   "execution_count": 12,
   "id": "b530b4ec",
   "metadata": {},
   "outputs": [
    {
     "name": "stdout",
     "output_type": "stream",
     "text": [
      "here 5\n"
     ]
    }
   ],
   "source": [
    "string = 'MCMXCIV'\n",
    "for i in range(0,len(string)):\n",
    "    if string.startswith('IV',i):\n",
    "        print('here',i)"
   ]
  },
  {
   "cell_type": "code",
   "execution_count": 18,
   "id": "5cd59a9a",
   "metadata": {},
   "outputs": [
    {
     "data": {
      "text/plain": [
       "True"
      ]
     },
     "execution_count": 18,
     "metadata": {},
     "output_type": "execute_result"
    }
   ],
   "source": [
    "bool(string.find('hhIVV'))"
   ]
  },
  {
   "cell_type": "code",
   "execution_count": 19,
   "id": "357cb38f",
   "metadata": {},
   "outputs": [
    {
     "data": {
      "text/plain": [
       "-1"
      ]
     },
     "execution_count": 19,
     "metadata": {},
     "output_type": "execute_result"
    }
   ],
   "source": [
    "string.find('hhIVV')"
   ]
  },
  {
   "cell_type": "code",
   "execution_count": 22,
   "id": "5f5a08cb",
   "metadata": {},
   "outputs": [],
   "source": [
    "string2 = string.replace('IV','')"
   ]
  },
  {
   "cell_type": "code",
   "execution_count": 25,
   "id": "3bae0b11",
   "metadata": {},
   "outputs": [],
   "source": [
    "string = string2"
   ]
  },
  {
   "cell_type": "code",
   "execution_count": 27,
   "id": "44295a09",
   "metadata": {},
   "outputs": [
    {
     "data": {
      "text/plain": [
       "'MCMXC'"
      ]
     },
     "execution_count": 27,
     "metadata": {},
     "output_type": "execute_result"
    }
   ],
   "source": [
    "string"
   ]
  },
  {
   "cell_type": "code",
   "execution_count": 48,
   "id": "2c6ae732",
   "metadata": {},
   "outputs": [],
   "source": [
    "d = {'IV':4,'IX':9,'XL':40,'XC':90,'CD':400,'CM':900}\n",
    "d0 = {'I':1,'V':5,'X':10,'L':50,'C':100,'D':500,'M':1000}"
   ]
  },
  {
   "cell_type": "code",
   "execution_count": 49,
   "id": "edc2c97d",
   "metadata": {},
   "outputs": [
    {
     "data": {
      "text/plain": [
       "4"
      ]
     },
     "execution_count": 49,
     "metadata": {},
     "output_type": "execute_result"
    }
   ],
   "source": [
    "d['IV']"
   ]
  },
  {
   "cell_type": "code",
   "execution_count": 50,
   "id": "43ab7fd4",
   "metadata": {},
   "outputs": [
    {
     "data": {
      "text/plain": [
       "1"
      ]
     },
     "execution_count": 50,
     "metadata": {},
     "output_type": "execute_result"
    }
   ],
   "source": [
    "d0['I']"
   ]
  },
  {
   "cell_type": "code",
   "execution_count": 63,
   "id": "e1964176",
   "metadata": {},
   "outputs": [
    {
     "name": "stdout",
     "output_type": "stream",
     "text": [
      "Enter the roman numeric hereMCMXCIV\n"
     ]
    }
   ],
   "source": [
    "roman = str(input('Enter the roman numeric here'))"
   ]
  },
  {
   "cell_type": "code",
   "execution_count": 64,
   "id": "9a9e326d",
   "metadata": {},
   "outputs": [
    {
     "data": {
      "text/plain": [
       "'MCMXCIV'"
      ]
     },
     "execution_count": 64,
     "metadata": {},
     "output_type": "execute_result"
    }
   ],
   "source": [
    "roman"
   ]
  },
  {
   "cell_type": "code",
   "execution_count": 65,
   "id": "77aa4237",
   "metadata": {},
   "outputs": [
    {
     "name": "stdout",
     "output_type": "stream",
     "text": [
      "the integer value of given roman M is 1994\n"
     ]
    }
   ],
   "source": [
    "num = 0\n",
    "for key in d:\n",
    "    if key in roman:\n",
    "        num = num + d[key]\n",
    "        roman = roman.replace(key,'')\n",
    "\n",
    "for i in roman:\n",
    "    \n",
    "    num = num + d0[i]\n",
    "        \n",
    "print('the integer value of given roman',roman,'is',num)"
   ]
  },
  {
   "cell_type": "code",
   "execution_count": null,
   "id": "43a187cc",
   "metadata": {},
   "outputs": [],
   "source": []
  },
  {
   "cell_type": "code",
   "execution_count": null,
   "id": "01ad163a",
   "metadata": {},
   "outputs": [],
   "source": []
  },
  {
   "cell_type": "code",
   "execution_count": 105,
   "id": "929d3718",
   "metadata": {},
   "outputs": [],
   "source": [
    "lists = ['cricket','cricketer','cricketing']"
   ]
  },
  {
   "cell_type": "code",
   "execution_count": 89,
   "id": "9e4cbf50",
   "metadata": {},
   "outputs": [
    {
     "name": "stdout",
     "output_type": "stream",
     "text": [
      "cricketcricketercricketing\n"
     ]
    }
   ],
   "source": [
    "main_str = ''\n",
    "for i in lists:\n",
    "    main_str = main_str + i\n",
    "print(main_str)"
   ]
  },
  {
   "cell_type": "code",
   "execution_count": 92,
   "id": "3420305b",
   "metadata": {},
   "outputs": [],
   "source": [
    "import re\n"
   ]
  },
  {
   "cell_type": "code",
   "execution_count": 107,
   "id": "5c4267a1",
   "metadata": {},
   "outputs": [],
   "source": [
    "lists = ['aa','ab']"
   ]
  },
  {
   "cell_type": "code",
   "execution_count": 110,
   "id": "2c41c80b",
   "metadata": {},
   "outputs": [
    {
     "name": "stdout",
     "output_type": "stream",
     "text": [
      "a\n",
      "[0, 1, 2]\n",
      "aa\n",
      "[0]\n",
      "\"\"\n"
     ]
    }
   ],
   "source": [
    "main_str = ''\n",
    "for i in lists:\n",
    "    main_str = main_str + i\n",
    "\n",
    "prefix = ''\n",
    "\n",
    "referal_string = lists[0]\n",
    "\n",
    "for i in range(0,len(referal_string)):\n",
    "    sub_str = referal_string[0:i+1]\n",
    "    \n",
    "    print(sub_str)\n",
    "    \n",
    "    res = [j.start() for j in re.finditer(sub_str, main_str)]\n",
    "    \n",
    "    print(res)\n",
    "\n",
    "    if len(res) == len(lists):\n",
    "        prefix = sub_str\n",
    "\n",
    "if len(prefix) == 0:\n",
    "    prefix = '\"\"'\n",
    "    \n",
    "print(prefix)"
   ]
  },
  {
   "cell_type": "code",
   "execution_count": null,
   "id": "8a04fe88",
   "metadata": {},
   "outputs": [],
   "source": []
  },
  {
   "cell_type": "code",
   "execution_count": 117,
   "id": "1f30152e",
   "metadata": {},
   "outputs": [
    {
     "data": {
      "text/plain": [
       "True"
      ]
     },
     "execution_count": 117,
     "metadata": {},
     "output_type": "execute_result"
    }
   ],
   "source": [
    "'fl' in 'flower'"
   ]
  },
  {
   "cell_type": "code",
   "execution_count": 121,
   "id": "55bf7241",
   "metadata": {},
   "outputs": [
    {
     "name": "stdout",
     "output_type": "stream",
     "text": [
      "fl\n"
     ]
    }
   ],
   "source": [
    "strs = [\"flower\",\"flow\",\"flight\"]\n",
    "\n",
    "referral = strs[0]\n",
    "\n",
    "maxsubstring=''\n",
    "count = 0\n",
    "\n",
    "for i in range(0,len(referral)):\n",
    "    substring = referral[0:i+1]\n",
    "    count = 0\n",
    "    \n",
    "    for j in strs:\n",
    "        if substring in j:\n",
    "            count = count + 1\n",
    "            \n",
    "    if count == len(strs):\n",
    "        maxsubstring = substring\n",
    "\n",
    "print(maxsubstring)"
   ]
  },
  {
   "cell_type": "code",
   "execution_count": null,
   "id": "b5b1e65f",
   "metadata": {},
   "outputs": [],
   "source": []
  },
  {
   "cell_type": "code",
   "execution_count": null,
   "id": "0276a4bb",
   "metadata": {},
   "outputs": [],
   "source": []
  },
  {
   "cell_type": "code",
   "execution_count": null,
   "id": "89571a97",
   "metadata": {},
   "outputs": [],
   "source": []
  }
 ],
 "metadata": {
  "kernelspec": {
   "display_name": "Python 3 (ipykernel)",
   "language": "python",
   "name": "python3"
  },
  "language_info": {
   "codemirror_mode": {
    "name": "ipython",
    "version": 3
   },
   "file_extension": ".py",
   "mimetype": "text/x-python",
   "name": "python",
   "nbconvert_exporter": "python",
   "pygments_lexer": "ipython3",
   "version": "3.11.4"
  }
 },
 "nbformat": 4,
 "nbformat_minor": 5
}
