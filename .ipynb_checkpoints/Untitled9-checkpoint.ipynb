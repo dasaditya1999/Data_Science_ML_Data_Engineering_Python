{
 "cells": [
  {
   "cell_type": "code",
   "execution_count": 29,
   "id": "2538362a",
   "metadata": {},
   "outputs": [],
   "source": [
    "a = 'bulgogi'\n",
    "b = 'kimchi'"
   ]
  },
  {
   "cell_type": "code",
   "execution_count": 38,
   "id": "43c9ccfd",
   "metadata": {},
   "outputs": [
    {
     "data": {
      "text/plain": [
       "'bulgogi'"
      ]
     },
     "execution_count": 38,
     "metadata": {},
     "output_type": "execute_result"
    }
   ],
   "source": [
    "l = ['bulgogi','kimchi']\n",
    "l.sort()\n",
    "l[0]"
   ]
  },
  {
   "cell_type": "code",
   "execution_count": 36,
   "id": "e70c5218",
   "metadata": {},
   "outputs": [
    {
     "data": {
      "text/plain": [
       "['ramen', 'sushi']"
      ]
     },
     "execution_count": 36,
     "metadata": {},
     "output_type": "execute_result"
    }
   ],
   "source": [
    "l2 = ['ramen','sushi']\n",
    "l2.sort()\n",
    "l2"
   ]
  },
  {
   "cell_type": "code",
   "execution_count": 31,
   "id": "0ab8c884",
   "metadata": {},
   "outputs": [
    {
     "data": {
      "text/plain": [
       "True"
      ]
     },
     "execution_count": 31,
     "metadata": {},
     "output_type": "execute_result"
    }
   ],
   "source": [
    "a<b"
   ]
  },
  {
   "cell_type": "code",
   "execution_count": 34,
   "id": "4dd619a4",
   "metadata": {},
   "outputs": [
    {
     "data": {
      "text/plain": [
       "False"
      ]
     },
     "execution_count": 34,
     "metadata": {},
     "output_type": "execute_result"
    }
   ],
   "source": [
    "'ramen'>'sushi'"
   ]
  },
  {
   "cell_type": "code",
   "execution_count": 7,
   "id": "d58a3ca0",
   "metadata": {},
   "outputs": [],
   "source": [
    "d1 = {'a':2, 'b':3}\n",
    "d2 = {'b':3,'a':2}"
   ]
  },
  {
   "cell_type": "code",
   "execution_count": 8,
   "id": "070a372c",
   "metadata": {},
   "outputs": [
    {
     "name": "stdout",
     "output_type": "stream",
     "text": [
      "True\n"
     ]
    }
   ],
   "source": [
    "if d1 == d2:\n",
    "    print('True')"
   ]
  },
  {
   "cell_type": "code",
   "execution_count": 16,
   "id": "f9ea75f5",
   "metadata": {},
   "outputs": [],
   "source": [
    "s = 'anagram'\n",
    "t = 'nagaram'"
   ]
  },
  {
   "cell_type": "code",
   "execution_count": 22,
   "id": "4bd41cd9",
   "metadata": {},
   "outputs": [],
   "source": [
    "l1 = list(s)\n",
    "l1.sort()\n",
    "l2 = list(t)\n",
    "l2.sort()"
   ]
  },
  {
   "cell_type": "code",
   "execution_count": 24,
   "id": "c7bb6a53",
   "metadata": {},
   "outputs": [
    {
     "name": "stdout",
     "output_type": "stream",
     "text": [
      "True\n"
     ]
    }
   ],
   "source": [
    "if l1 == l2:\n",
    "    print('True')"
   ]
  },
  {
   "cell_type": "code",
   "execution_count": 15,
   "id": "d34c8b60",
   "metadata": {},
   "outputs": [
    {
     "name": "stdout",
     "output_type": "stream",
     "text": [
      "{'r': 1, 'a': 1, 't': 1}\n",
      "{'c': 0, 'a': 1, 't': 1}\n",
      "False\n"
     ]
    }
   ],
   "source": [
    "if len(s) != len(t):\n",
    "    print('False')\n",
    "else:\n",
    "    d1 = dict()\n",
    "    d2 = dict()\n",
    "    \n",
    "    for i in range(0,len(s)):\n",
    "        d1[s[i]] = s.count(s[i])\n",
    "        d2[t[i]] = s.count(t[i])\n",
    "    print(d1)\n",
    "    print(d2)\n",
    "    if d1==d2:\n",
    "        print(\"True\")\n",
    "    else:\n",
    "        print('False')"
   ]
  },
  {
   "cell_type": "code",
   "execution_count": null,
   "id": "72fd378c",
   "metadata": {},
   "outputs": [],
   "source": []
  },
  {
   "cell_type": "code",
   "execution_count": 25,
   "id": "857bd7c5",
   "metadata": {},
   "outputs": [],
   "source": [
    "from sklearn.model_selection import train_test_split\n",
    "from sklearn.linear_model import LinearRegression"
   ]
  },
  {
   "cell_type": "code",
   "execution_count": null,
   "id": "a000362f",
   "metadata": {},
   "outputs": [],
   "source": [
    "linreg = LinearRegression()"
   ]
  },
  {
   "cell_type": "code",
   "execution_count": 26,
   "id": "d7983deb",
   "metadata": {},
   "outputs": [],
   "source": [
    "from sklearn.linear_model import Lasso, Ridge"
   ]
  },
  {
   "cell_type": "code",
   "execution_count": null,
   "id": "601e1975",
   "metadata": {},
   "outputs": [],
   "source": [
    "Ridge()"
   ]
  },
  {
   "cell_type": "code",
   "execution_count": null,
   "id": "303e6296",
   "metadata": {},
   "outputs": [],
   "source": [
    "Lasso()"
   ]
  },
  {
   "cell_type": "code",
   "execution_count": 28,
   "id": "7b62ae55",
   "metadata": {},
   "outputs": [],
   "source": [
    "from sklearn.linear_model import LinearRegression, LogisticRegression"
   ]
  },
  {
   "cell_type": "code",
   "execution_count": null,
   "id": "73689fac",
   "metadata": {},
   "outputs": [],
   "source": [
    "LogisticRegression()"
   ]
  },
  {
   "cell_type": "code",
   "execution_count": 39,
   "id": "a26451f2",
   "metadata": {},
   "outputs": [],
   "source": [
    "from sklearn.svm import SVC"
   ]
  },
  {
   "cell_type": "code",
   "execution_count": null,
   "id": "63bc92b2",
   "metadata": {},
   "outputs": [],
   "source": [
    "supportvectormachine = SVC()"
   ]
  },
  {
   "cell_type": "code",
   "execution_count": null,
   "id": "dde41258",
   "metadata": {},
   "outputs": [],
   "source": []
  },
  {
   "cell_type": "code",
   "execution_count": 75,
   "id": "f1b93541",
   "metadata": {},
   "outputs": [],
   "source": []
  },
  {
   "cell_type": "code",
   "execution_count": 100,
   "id": "4fa034d4",
   "metadata": {},
   "outputs": [],
   "source": [
    "def checkValidParenthesis(string):\n",
    "    global validParenthesis\n",
    "    stack = []\n",
    "    \n",
    "    for i in string:\n",
    "        if i == '(':\n",
    "            stack.append(i)\n",
    "        elif i == ')':\n",
    "            if len(stack) == 0:\n",
    "                stack.append(i)\n",
    "                return\n",
    "            elif stack[-1] == '(':\n",
    "                stack.pop()\n",
    "    validParenthesis.append(string)"
   ]
  },
  {
   "cell_type": "code",
   "execution_count": 98,
   "id": "f835ddc3",
   "metadata": {},
   "outputs": [],
   "source": [
    "import itertools\n",
    "\n",
    "def foo(l):\n",
    "    yield from itertools.permutations(l,6)\n",
    "\n",
    "result = []\n",
    "for x in foo('()()()'):\n",
    "    result.append(''.join(x))"
   ]
  },
  {
   "cell_type": "code",
   "execution_count": 99,
   "id": "a16dd146",
   "metadata": {},
   "outputs": [],
   "source": [
    "validParenthesis = []"
   ]
  },
  {
   "cell_type": "code",
   "execution_count": 101,
   "id": "ae3ee341",
   "metadata": {},
   "outputs": [],
   "source": [
    "for i in result:\n",
    "    checkValidParenthesis(i)"
   ]
  },
  {
   "cell_type": "code",
   "execution_count": 104,
   "id": "1ba91b8f",
   "metadata": {},
   "outputs": [
    {
     "data": {
      "text/plain": [
       "{'((()))', '(()())', '(())()', '()(())', '()()()'}"
      ]
     },
     "execution_count": 104,
     "metadata": {},
     "output_type": "execute_result"
    }
   ],
   "source": [
    "s = set(validParenthesis)\n",
    "s"
   ]
  },
  {
   "cell_type": "code",
   "execution_count": 95,
   "id": "0b5204d3",
   "metadata": {},
   "outputs": [
    {
     "name": "stdout",
     "output_type": "stream",
     "text": [
      "[]\n"
     ]
    }
   ],
   "source": [
    "print(checkValidParenthesis('()()()'))"
   ]
  }
 ],
 "metadata": {
  "kernelspec": {
   "display_name": "Python 3 (ipykernel)",
   "language": "python",
   "name": "python3"
  },
  "language_info": {
   "codemirror_mode": {
    "name": "ipython",
    "version": 3
   },
   "file_extension": ".py",
   "mimetype": "text/x-python",
   "name": "python",
   "nbconvert_exporter": "python",
   "pygments_lexer": "ipython3",
   "version": "3.11.4"
  }
 },
 "nbformat": 4,
 "nbformat_minor": 5
}
