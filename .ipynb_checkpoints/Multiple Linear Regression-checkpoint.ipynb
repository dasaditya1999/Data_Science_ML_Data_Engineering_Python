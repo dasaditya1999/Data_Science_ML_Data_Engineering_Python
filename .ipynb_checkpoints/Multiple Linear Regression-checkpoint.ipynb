{
 "cells": [
  {
   "cell_type": "code",
   "execution_count": 1,
   "id": "d3c9fe96",
   "metadata": {},
   "outputs": [],
   "source": [
    "import numpy as np\n",
    "import pandas as pd\n",
    "import matplotlib.pyplot as plt"
   ]
  },
  {
   "cell_type": "code",
   "execution_count": 2,
   "id": "a485f27b",
   "metadata": {},
   "outputs": [],
   "source": [
    "from sklearn.model_selection import train_test_split\n",
    "from sklearn.linear_model import LinearRegression\n",
    "from sklearn.datasets import make_regression"
   ]
  },
  {
   "cell_type": "code",
   "execution_count": 3,
   "id": "2c1065f5",
   "metadata": {},
   "outputs": [],
   "source": [
    "from sklearn.metrics import r2_score,mean_absolute_error,mean_squared_error"
   ]
  },
  {
   "cell_type": "code",
   "execution_count": 4,
   "id": "935fa398",
   "metadata": {},
   "outputs": [],
   "source": [
    "import plotly.express as px"
   ]
  },
  {
   "cell_type": "code",
   "execution_count": 63,
   "id": "af05bcac",
   "metadata": {},
   "outputs": [],
   "source": [
    "import plotly.graph_objects as go"
   ]
  },
  {
   "cell_type": "code",
   "execution_count": 5,
   "id": "28eaf0e2",
   "metadata": {},
   "outputs": [],
   "source": [
    "X, y = make_regression(n_samples=200, n_features=2, n_targets=1)"
   ]
  },
  {
   "cell_type": "code",
   "execution_count": 6,
   "id": "fc54295b",
   "metadata": {},
   "outputs": [
    {
     "data": {
      "text/plain": [
       "numpy.ndarray"
      ]
     },
     "execution_count": 6,
     "metadata": {},
     "output_type": "execute_result"
    }
   ],
   "source": [
    "type(X)"
   ]
  },
  {
   "cell_type": "code",
   "execution_count": 7,
   "id": "4975ebff",
   "metadata": {},
   "outputs": [
    {
     "data": {
      "text/plain": [
       "numpy.ndarray"
      ]
     },
     "execution_count": 7,
     "metadata": {},
     "output_type": "execute_result"
    }
   ],
   "source": [
    "type(y)"
   ]
  },
  {
   "cell_type": "code",
   "execution_count": 8,
   "id": "bd4fd2b2",
   "metadata": {},
   "outputs": [],
   "source": [
    "X_train,X_test,y_train,y_test = train_test_split(X,y,test_size=0.2)"
   ]
  },
  {
   "cell_type": "code",
   "execution_count": 9,
   "id": "afe1d02e",
   "metadata": {},
   "outputs": [
    {
     "data": {
      "text/plain": [
       "(160, 2)"
      ]
     },
     "execution_count": 9,
     "metadata": {},
     "output_type": "execute_result"
    }
   ],
   "source": [
    "X_train.shape"
   ]
  },
  {
   "cell_type": "code",
   "execution_count": 10,
   "id": "427048e5",
   "metadata": {},
   "outputs": [
    {
     "data": {
      "text/plain": [
       "(160,)"
      ]
     },
     "execution_count": 10,
     "metadata": {},
     "output_type": "execute_result"
    }
   ],
   "source": [
    "y_train.shape"
   ]
  },
  {
   "cell_type": "code",
   "execution_count": 11,
   "id": "933a8870",
   "metadata": {},
   "outputs": [
    {
     "data": {
      "text/plain": [
       "(40, 2)"
      ]
     },
     "execution_count": 11,
     "metadata": {},
     "output_type": "execute_result"
    }
   ],
   "source": [
    "X_test.shape"
   ]
  },
  {
   "cell_type": "code",
   "execution_count": 12,
   "id": "d3db94e2",
   "metadata": {},
   "outputs": [
    {
     "data": {
      "text/plain": [
       "(40,)"
      ]
     },
     "execution_count": 12,
     "metadata": {},
     "output_type": "execute_result"
    }
   ],
   "source": [
    "y_test.shape"
   ]
  },
  {
   "cell_type": "markdown",
   "id": "24964735",
   "metadata": {},
   "source": [
    "### Checking for the missing data"
   ]
  },
  {
   "cell_type": "code",
   "execution_count": 13,
   "id": "902cafd9",
   "metadata": {},
   "outputs": [
    {
     "data": {
      "text/plain": [
       "0    0\n",
       "1    0\n",
       "dtype: int64"
      ]
     },
     "execution_count": 13,
     "metadata": {},
     "output_type": "execute_result"
    }
   ],
   "source": [
    "pd.DataFrame(X).isnull().sum()"
   ]
  },
  {
   "cell_type": "code",
   "execution_count": 14,
   "id": "bd46d0e6",
   "metadata": {},
   "outputs": [
    {
     "data": {
      "text/plain": [
       "a    0\n",
       "b    0\n",
       "dtype: int64"
      ]
     },
     "execution_count": 14,
     "metadata": {},
     "output_type": "execute_result"
    }
   ],
   "source": [
    "pd.DataFrame(X,columns=['a','b']).isnull().sum()"
   ]
  },
  {
   "cell_type": "code",
   "execution_count": 15,
   "id": "6efe8bc4",
   "metadata": {},
   "outputs": [
    {
     "data": {
      "text/plain": [
       "0    0\n",
       "dtype: int64"
      ]
     },
     "execution_count": 15,
     "metadata": {},
     "output_type": "execute_result"
    }
   ],
   "source": [
    "pd.DataFrame(y).isnull().sum()"
   ]
  },
  {
   "cell_type": "code",
   "execution_count": null,
   "id": "98d6c782",
   "metadata": {},
   "outputs": [],
   "source": []
  },
  {
   "cell_type": "markdown",
   "id": "04548ea1",
   "metadata": {},
   "source": [
    "### Training the model"
   ]
  },
  {
   "cell_type": "code",
   "execution_count": 16,
   "id": "4a687a20",
   "metadata": {},
   "outputs": [],
   "source": [
    "lin_reg = LinearRegression()"
   ]
  },
  {
   "cell_type": "code",
   "execution_count": 17,
   "id": "59c1a072",
   "metadata": {},
   "outputs": [
    {
     "data": {
      "text/html": [
       "<style>#sk-container-id-1 {color: black;background-color: white;}#sk-container-id-1 pre{padding: 0;}#sk-container-id-1 div.sk-toggleable {background-color: white;}#sk-container-id-1 label.sk-toggleable__label {cursor: pointer;display: block;width: 100%;margin-bottom: 0;padding: 0.3em;box-sizing: border-box;text-align: center;}#sk-container-id-1 label.sk-toggleable__label-arrow:before {content: \"▸\";float: left;margin-right: 0.25em;color: #696969;}#sk-container-id-1 label.sk-toggleable__label-arrow:hover:before {color: black;}#sk-container-id-1 div.sk-estimator:hover label.sk-toggleable__label-arrow:before {color: black;}#sk-container-id-1 div.sk-toggleable__content {max-height: 0;max-width: 0;overflow: hidden;text-align: left;background-color: #f0f8ff;}#sk-container-id-1 div.sk-toggleable__content pre {margin: 0.2em;color: black;border-radius: 0.25em;background-color: #f0f8ff;}#sk-container-id-1 input.sk-toggleable__control:checked~div.sk-toggleable__content {max-height: 200px;max-width: 100%;overflow: auto;}#sk-container-id-1 input.sk-toggleable__control:checked~label.sk-toggleable__label-arrow:before {content: \"▾\";}#sk-container-id-1 div.sk-estimator input.sk-toggleable__control:checked~label.sk-toggleable__label {background-color: #d4ebff;}#sk-container-id-1 div.sk-label input.sk-toggleable__control:checked~label.sk-toggleable__label {background-color: #d4ebff;}#sk-container-id-1 input.sk-hidden--visually {border: 0;clip: rect(1px 1px 1px 1px);clip: rect(1px, 1px, 1px, 1px);height: 1px;margin: -1px;overflow: hidden;padding: 0;position: absolute;width: 1px;}#sk-container-id-1 div.sk-estimator {font-family: monospace;background-color: #f0f8ff;border: 1px dotted black;border-radius: 0.25em;box-sizing: border-box;margin-bottom: 0.5em;}#sk-container-id-1 div.sk-estimator:hover {background-color: #d4ebff;}#sk-container-id-1 div.sk-parallel-item::after {content: \"\";width: 100%;border-bottom: 1px solid gray;flex-grow: 1;}#sk-container-id-1 div.sk-label:hover label.sk-toggleable__label {background-color: #d4ebff;}#sk-container-id-1 div.sk-serial::before {content: \"\";position: absolute;border-left: 1px solid gray;box-sizing: border-box;top: 0;bottom: 0;left: 50%;z-index: 0;}#sk-container-id-1 div.sk-serial {display: flex;flex-direction: column;align-items: center;background-color: white;padding-right: 0.2em;padding-left: 0.2em;position: relative;}#sk-container-id-1 div.sk-item {position: relative;z-index: 1;}#sk-container-id-1 div.sk-parallel {display: flex;align-items: stretch;justify-content: center;background-color: white;position: relative;}#sk-container-id-1 div.sk-item::before, #sk-container-id-1 div.sk-parallel-item::before {content: \"\";position: absolute;border-left: 1px solid gray;box-sizing: border-box;top: 0;bottom: 0;left: 50%;z-index: -1;}#sk-container-id-1 div.sk-parallel-item {display: flex;flex-direction: column;z-index: 1;position: relative;background-color: white;}#sk-container-id-1 div.sk-parallel-item:first-child::after {align-self: flex-end;width: 50%;}#sk-container-id-1 div.sk-parallel-item:last-child::after {align-self: flex-start;width: 50%;}#sk-container-id-1 div.sk-parallel-item:only-child::after {width: 0;}#sk-container-id-1 div.sk-dashed-wrapped {border: 1px dashed gray;margin: 0 0.4em 0.5em 0.4em;box-sizing: border-box;padding-bottom: 0.4em;background-color: white;}#sk-container-id-1 div.sk-label label {font-family: monospace;font-weight: bold;display: inline-block;line-height: 1.2em;}#sk-container-id-1 div.sk-label-container {text-align: center;}#sk-container-id-1 div.sk-container {/* jupyter's `normalize.less` sets `[hidden] { display: none; }` but bootstrap.min.css set `[hidden] { display: none !important; }` so we also need the `!important` here to be able to override the default hidden behavior on the sphinx rendered scikit-learn.org. See: https://github.com/scikit-learn/scikit-learn/issues/21755 */display: inline-block !important;position: relative;}#sk-container-id-1 div.sk-text-repr-fallback {display: none;}</style><div id=\"sk-container-id-1\" class=\"sk-top-container\"><div class=\"sk-text-repr-fallback\"><pre>LinearRegression()</pre><b>In a Jupyter environment, please rerun this cell to show the HTML representation or trust the notebook. <br />On GitHub, the HTML representation is unable to render, please try loading this page with nbviewer.org.</b></div><div class=\"sk-container\" hidden><div class=\"sk-item\"><div class=\"sk-estimator sk-toggleable\"><input class=\"sk-toggleable__control sk-hidden--visually\" id=\"sk-estimator-id-1\" type=\"checkbox\" checked><label for=\"sk-estimator-id-1\" class=\"sk-toggleable__label sk-toggleable__label-arrow\">LinearRegression</label><div class=\"sk-toggleable__content\"><pre>LinearRegression()</pre></div></div></div></div></div>"
      ],
      "text/plain": [
       "LinearRegression()"
      ]
     },
     "execution_count": 17,
     "metadata": {},
     "output_type": "execute_result"
    }
   ],
   "source": [
    "lin_reg.fit(X_train,y_train)"
   ]
  },
  {
   "cell_type": "code",
   "execution_count": 18,
   "id": "93568140",
   "metadata": {},
   "outputs": [],
   "source": [
    "y_pred = lin_reg.predict(X_test)"
   ]
  },
  {
   "cell_type": "code",
   "execution_count": 19,
   "id": "072650ed",
   "metadata": {},
   "outputs": [
    {
     "data": {
      "text/plain": [
       "array([ -81.86765936,   45.47997628,   44.77264743,   73.21020801,\n",
       "        -93.54035228,  -56.33156871,  -91.36387354,  -53.26881269,\n",
       "        -21.30704725,   38.57184405,    3.49750206,   23.39303838,\n",
       "         58.47607598,  -26.56378586, -166.66457915,   25.64939931,\n",
       "        -17.67361872,  -54.14005857,  -83.51005271,  -97.57896025,\n",
       "         47.34008485,  111.82517878,   -8.27488268,  -26.76536044,\n",
       "         65.12610054,  -13.47789581,  -40.92797799,   17.78222631,\n",
       "       -172.84881649,  206.0374376 , -100.43251563,   43.5652829 ,\n",
       "        -64.02337614,   39.67618037,  -99.72661865,   39.41948284,\n",
       "        -74.31492119,  -94.989516  ,   36.42367369,   31.65367614])"
      ]
     },
     "execution_count": 19,
     "metadata": {},
     "output_type": "execute_result"
    }
   ],
   "source": [
    "y_pred"
   ]
  },
  {
   "cell_type": "code",
   "execution_count": 20,
   "id": "65a2e81b",
   "metadata": {},
   "outputs": [
    {
     "data": {
      "text/plain": [
       "array([ -81.86765936,   45.47997628,   44.77264743,   73.21020801,\n",
       "        -93.54035228,  -56.33156871,  -91.36387354,  -53.26881269,\n",
       "        -21.30704725,   38.57184405,    3.49750206,   23.39303838,\n",
       "         58.47607598,  -26.56378586, -166.66457915,   25.64939931,\n",
       "        -17.67361872,  -54.14005857,  -83.51005271,  -97.57896025,\n",
       "         47.34008485,  111.82517878,   -8.27488268,  -26.76536044,\n",
       "         65.12610054,  -13.47789581,  -40.92797799,   17.78222631,\n",
       "       -172.84881649,  206.0374376 , -100.43251563,   43.5652829 ,\n",
       "        -64.02337614,   39.67618037,  -99.72661865,   39.41948284,\n",
       "        -74.31492119,  -94.989516  ,   36.42367369,   31.65367614])"
      ]
     },
     "execution_count": 20,
     "metadata": {},
     "output_type": "execute_result"
    }
   ],
   "source": [
    "y_test"
   ]
  },
  {
   "cell_type": "code",
   "execution_count": 21,
   "id": "ca56815e",
   "metadata": {},
   "outputs": [
    {
     "data": {
      "text/plain": [
       "1.0"
      ]
     },
     "execution_count": 21,
     "metadata": {},
     "output_type": "execute_result"
    }
   ],
   "source": [
    "r2_score(y_test,y_pred)"
   ]
  },
  {
   "cell_type": "code",
   "execution_count": 22,
   "id": "92912ce5",
   "metadata": {},
   "outputs": [],
   "source": [
    "mae = mean_absolute_error(y_test,y_pred)"
   ]
  },
  {
   "cell_type": "code",
   "execution_count": 23,
   "id": "ec95a3c3",
   "metadata": {},
   "outputs": [
    {
     "data": {
      "text/plain": [
       "1.1124434706744069e-14"
      ]
     },
     "execution_count": 23,
     "metadata": {},
     "output_type": "execute_result"
    }
   ],
   "source": [
    "mae"
   ]
  },
  {
   "cell_type": "code",
   "execution_count": 24,
   "id": "5d873f44",
   "metadata": {},
   "outputs": [],
   "source": [
    "rmse = np.sqrt(mean_squared_error(y_test,y_pred))"
   ]
  },
  {
   "cell_type": "code",
   "execution_count": 25,
   "id": "aed2678e",
   "metadata": {},
   "outputs": [
    {
     "data": {
      "text/plain": [
       "1.3996209640077836e-14"
      ]
     },
     "execution_count": 25,
     "metadata": {},
     "output_type": "execute_result"
    }
   ],
   "source": [
    "rmse"
   ]
  },
  {
   "cell_type": "code",
   "execution_count": 26,
   "id": "8e952ccd",
   "metadata": {},
   "outputs": [
    {
     "data": {
      "text/plain": [
       "array([ 0.36198852, -1.20341552])"
      ]
     },
     "execution_count": 26,
     "metadata": {},
     "output_type": "execute_result"
    }
   ],
   "source": [
    "X_test[0]"
   ]
  },
  {
   "cell_type": "code",
   "execution_count": 27,
   "id": "794a37fc",
   "metadata": {},
   "outputs": [
    {
     "data": {
      "text/plain": [
       "-81.867659358228"
      ]
     },
     "execution_count": 27,
     "metadata": {},
     "output_type": "execute_result"
    }
   ],
   "source": [
    "y_test[0]"
   ]
  },
  {
   "cell_type": "code",
   "execution_count": 30,
   "id": "91d120ec",
   "metadata": {},
   "outputs": [
    {
     "data": {
      "text/plain": [
       "array([-81.86765932])"
      ]
     },
     "execution_count": 30,
     "metadata": {},
     "output_type": "execute_result"
    }
   ],
   "source": [
    "lin_reg.predict([[0.36198852, -1.20341552]])"
   ]
  },
  {
   "cell_type": "code",
   "execution_count": null,
   "id": "5ffb342b",
   "metadata": {},
   "outputs": [],
   "source": []
  },
  {
   "cell_type": "markdown",
   "id": "3504f776",
   "metadata": {},
   "source": [
    "### Visulizing the Data"
   ]
  },
  {
   "cell_type": "code",
   "execution_count": 32,
   "id": "2f62cd79",
   "metadata": {},
   "outputs": [],
   "source": [
    "df = pd.DataFrame({'feature1':X[:,0],'feature2':X[:,1],'target':y})"
   ]
  },
  {
   "cell_type": "code",
   "execution_count": 37,
   "id": "68104cc0",
   "metadata": {},
   "outputs": [],
   "source": [
    "# df.shape"
   ]
  },
  {
   "cell_type": "code",
   "execution_count": 36,
   "id": "5ecd82d8",
   "metadata": {},
   "outputs": [
    {
     "data": {
      "application/vnd.plotly.v1+json": {
       "config": {
        "plotlyServerURL": "https://plot.ly"
       },
       "data": [
        {
         "hovertemplate": "x=%{x}<br>y=%{y}<br>z=%{z}<extra></extra>",
         "legendgroup": "",
         "marker": {
          "color": "#636efa",
          "symbol": "circle"
         },
         "mode": "markers",
         "name": "",
         "scene": "scene",
         "showlegend": false,
         "type": "scatter3d",
         "x": [
          -2.7404214310930133,
          0.756298938777305,
          0.7363664016493839,
          1.3978587689737527,
          0.4315219956711879,
          0.3992393097624814,
          0.37376581891640304,
          0.26550829522157426,
          1.5076164674199892,
          -0.4084738821038356,
          1.4793752141996492,
          -0.7474512803501561,
          0.42367773084813654,
          0.5393179012108041,
          -1.0216127703638322,
          0.361988524492243,
          -1.0229940281647134,
          1.0992299653186934,
          -0.38867040479896703,
          -0.44309260579723686,
          -1.5657086853466538,
          -0.24426487891244694,
          0.7651214596299497,
          -0.7937246542055413,
          2.103248775082058,
          0.788015283069314,
          -0.02936313610990527,
          0.463248810246937,
          -1.5560511426554615,
          -1.4112490548387608,
          0.3666164488066735,
          0.2115485467770326,
          -0.9150384302830085,
          0.5741693463565865,
          -1.8092855402207366,
          1.325919604807037,
          0.3533030230113455,
          -1.8570330749671897,
          0.7371764160320069,
          1.0006755220852908,
          -0.43940606264341675,
          -0.9657555627515988,
          -1.5422977390776398,
          -0.45304284867779654,
          1.9804138696806275,
          -1.077638152681857,
          1.1383170838764987,
          -0.8758381740739317,
          -0.674201702848922,
          1.5249600821652416,
          0.3971213371560235,
          1.0190007075457537,
          0.6896264922579272,
          -0.8677473962497055,
          0.6596295998286604,
          -1.1764369620467232,
          0.059540336749803115,
          0.6732152894755405,
          0.4015068969797587,
          0.10198258317231526,
          -1.6371031370099338,
          -0.053028685180200354,
          1.0341963335568753,
          1.5685820876832328,
          0.06072725714055917,
          0.08870149043851416,
          -0.23354654060165633,
          0.9922991509714498,
          -1.42145383084429,
          -0.5269855872603837,
          -2.5330626210269998,
          -1.0201740689171301,
          -1.2005791611210874,
          0.8272720694875421,
          -1.8450583156600675,
          -0.18092820278958718,
          0.6760031111535906,
          2.458145659828142,
          -1.4746528319438896,
          0.57855225373747,
          0.1441841072713185,
          1.1881929564721943,
          -0.9697402518303501,
          0.4958023385859116,
          0.5155446731829938,
          1.1826385105159563,
          -0.8615918403319165,
          0.6253659238010879,
          -0.2692670568115434,
          -0.7285479259428495,
          -1.4943648794959685,
          0.6018325619945405,
          -0.42080175196246494,
          -0.1757096594588406,
          0.3381165367775282,
          0.6270903372238696,
          0.4364941293908397,
          0.25943991723387066,
          0.33614685674755096,
          0.5242078192553201,
          0.8276996436209203,
          -0.7476092780672899,
          -0.8795670462319346,
          -0.8115295449386162,
          -1.245642168810563,
          -1.4935441818769362,
          -0.9214865273016474,
          0.07214463789101971,
          0.5967149191014381,
          -0.004666769379821463,
          -0.07177039778452644,
          -0.23981430334981152,
          0.7597274642458374,
          -1.0380760601413788,
          1.0220724789377242,
          1.8403093831192814,
          0.6574434406283387,
          -0.5790359637334612,
          -1.224370922596681,
          -0.14655813337220688,
          -0.33078505761487786,
          0.10450619270054476,
          0.8173595543913869,
          -1.2838037288797333,
          -1.5740871318788279,
          0.9993927771128988,
          -1.0146695934333507,
          0.6264798087322719,
          -0.6537837571446528,
          1.7846143894260138,
          -1.3663732739145937,
          -0.9792267808770964,
          -0.17985857289103432,
          0.764360540138168,
          0.5829042265224819,
          -0.5590579210307043,
          1.3282113625769036,
          0.14232826531490272,
          0.23140965774215294,
          -0.8640519542183781,
          0.5701080338593009,
          -0.0867012428989616,
          -0.5347702063463131,
          1.2499320520220114,
          -0.08719207241558352,
          -0.5407594004447006,
          0.3310834928944406,
          0.9486170886205822,
          -2.1471444561280726,
          1.6246228584003481,
          -0.4792127902314807,
          0.8103071874540028,
          -1.0830719753648512,
          -0.07510036785025839,
          0.4585456169490373,
          -0.24771740897529315,
          0.5882539190925763,
          -0.001781426547957886,
          -0.5945240120150787,
          0.09283767034450549,
          -1.8221901239478264,
          0.22612918952248434,
          0.6973268011457368,
          -0.3355557206491432,
          0.7548063270781508,
          0.3514795238549474,
          0.4817078740394855,
          -0.3481280582223469,
          -0.11338228445969524,
          0.4213132805346624,
          0.679706215649143,
          0.2678922057840874,
          -0.697393164396531,
          -0.2854040598702138,
          -0.3755280974459029,
          -0.547192975970595,
          1.2588180052829636,
          -1.3274501418934088,
          0.09622499375325567,
          1.6518147387670048,
          -1.1454962582852737,
          1.8341592224631917,
          0.6348895322500112,
          0.44806671653370495,
          0.6646118708011874,
          -1.0948777822705278,
          0.8990198602411588,
          -0.02608153949809387,
          0.47281857579863823,
          0.17574108394044738,
          -1.2153257861235736,
          1.0628430759048824,
          0.8534823574237286,
          -0.110314778797973,
          0.04817021431759646,
          0.6308545670819519,
          -0.04267489862256465,
          -0.4256338314300946,
          -0.18349575338789478,
          -0.1717551809505416
         ],
         "y": [
          0.3449693168652559,
          -1.5536209358804252,
          0.5798529465041892,
          2.2065070404971148,
          -0.864248247043304,
          0.5014608550825753,
          -0.8322472909005199,
          0.4117161109690246,
          1.0497571713361262,
          -0.4840728306429534,
          0.04598486161346908,
          0.8537962653651716,
          1.8548987158552748,
          -0.07129005630226519,
          -1.2408820401641307,
          -1.2034155220763463,
          -1.2910994683972927,
          -0.1583939994627977,
          -0.9172175147725683,
          0.46481149045929215,
          -0.41787177920777363,
          -0.12260306944119817,
          -1.5889876398084362,
          -1.2692401649775849,
          2.007943475011101,
          0.8143540557926388,
          0.5312082845466601,
          0.3679850908585404,
          2.054462827148719,
          0.3939084826824076,
          -0.6601469852165045,
          -0.15426684440142113,
          -0.659499936960472,
          -0.5326546174170824,
          -0.5834741891577425,
          0.31914706090177813,
          -0.2444626990122522,
          -0.11541100209316087,
          0.5922912412389303,
          -0.2679308804119594,
          -0.07550399013802975,
          -0.31556556858057055,
          0.5533980795298881,
          0.20010917260064112,
          -0.017933636622856724,
          0.03242764080775955,
          -2.2575800830841852,
          -0.1606190736526602,
          -1.0021201516090623,
          0.02879034602062702,
          -1.563814404176309,
          -0.29966271054844673,
          0.8448343226877557,
          0.7441021785050004,
          0.24318269341181784,
          0.535624686031647,
          0.020230256612552566,
          -0.19381322333357426,
          0.5623372366344741,
          0.40519734032995075,
          -0.8407484585037434,
          0.8751104073398459,
          0.06792032359047644,
          -0.22188979621150187,
          0.1906852754761893,
          0.3903309519519775,
          -0.05076192178402993,
          -0.9459082271378318,
          -0.302576351503677,
          0.20815020840287127,
          0.8059557369080798,
          -1.9053898329854373,
          0.10232803779958723,
          0.3642085158269869,
          -1.553424143996662,
          2.6608960952643974,
          -0.007317893819040483,
          -0.6325197833323587,
          1.02944200351822,
          0.6269650278651903,
          -1.7025490722464198,
          -0.618292027210444,
          0.17727000524925537,
          0.2389116727194623,
          -0.27020996916092854,
          -2.228654407067271,
          -0.8684103036555167,
          0.17891646153403062,
          -1.696890818479976,
          0.05863236512533004,
          0.9995690974179172,
          0.30308324252845437,
          1.1554038599662713,
          -1.184177500609756,
          0.5412852849643979,
          -0.4302828930783831,
          0.4659153355770083,
          -0.2692795798115742,
          0.041255915578476465,
          -0.20296851004826436,
          0.5104839868659314,
          0.27180927215499145,
          -0.7828795243620958,
          1.1346619139967367,
          -2.0248206561065247,
          1.539770368097492,
          0.465510346708212,
          -0.683814943839369,
          -1.301504892238512,
          0.910316411148885,
          -0.5026762430372367,
          -0.1910208619255626,
          0.4969792319622857,
          -1.3664335860086014,
          0.8156391028867419,
          -1.7850806497584641,
          1.539889351729457,
          -0.14246871266889544,
          0.5194878836182734,
          -0.7572474043434616,
          0.894761609448463,
          -0.7430094672172333,
          -0.5631459178589063,
          0.6588374598336517,
          0.98694613443432,
          0.37685244291479636,
          0.12279473209345895,
          -0.7481762394359939,
          -1.3051952939376201,
          0.6423359525283183,
          -0.2528182663811908,
          0.19072354830391325,
          -0.15396701389988476,
          -0.6597304406373338,
          -0.919365114782285,
          -0.8723639375777668,
          -0.9827029163769265,
          -0.7081940999493784,
          -0.13219332950432539,
          -2.097437383403791,
          -1.0698012071755418,
          1.2378753961858129,
          0.5893481357454812,
          -0.5240075361033153,
          0.0005058003102440981,
          0.7894812587138563,
          0.3787627868541867,
          0.17270657104516052,
          0.5732859776490717,
          1.2535060721701121,
          1.2657334585315427,
          1.5484435505894296,
          -0.8950709906267009,
          -0.25291479781145704,
          -0.6538347005336015,
          0.7518129789509828,
          0.5916190851980656,
          0.5092220636936825,
          0.048118758590599935,
          -0.9600973074210131,
          0.3374962005415619,
          -1.8486262237589968,
          0.8911136370651813,
          -0.9527839619996875,
          -0.0910685381574486,
          0.8357344922137714,
          0.42695571125379794,
          -1.184957645088585,
          -1.2778107581251044,
          -1.095659154027167,
          1.0176237721553842,
          1.2919174861406406,
          -0.03241362551011702,
          1.5693399224094575,
          -0.002021032019801926,
          -2.296039658340236,
          -1.6473966265004216,
          1.0139302845570664,
          0.6848195723977176,
          -0.36556003132188486,
          -0.47289356571621083,
          -0.32743414915638724,
          1.6308535677315084,
          1.4974708600635775,
          -0.1276354770875392,
          0.2793511816252689,
          -0.204821252546674,
          -0.31898441900793495,
          1.366666783347189,
          -0.5997604079188171,
          0.9587549613612666,
          -0.8919098556637698,
          -0.5886757719188691,
          0.8108678569173443,
          0.6364905866313099,
          -1.0649457377633063,
          -2.1722887276820484,
          2.0666677335276735,
          0.4359994127062807,
          -2.100204046056216
         ],
         "z": [
          -48.06363927055246,
          -97.85230056142943,
          64.15645058279664,
          206.03743760222739,
          -54.14005856740725,
          49.03758738090365,
          -53.26881268933461,
          38.57184405227586,
          120.8822849765197,
          -47.96332404496701,
          43.63862933465647,
          44.77264743004805,
          152.81911456216312,
          9.19995116731726,
          -122.2589556417174,
          -81.867659358228,
          -126.12249794157978,
          17.75375518914596,
          -80.427383151104,
          23.39303837702722,
          -74.31492118797092,
          -15.967974412821142,
          -100.30753951224283,
          -118.23702157979695,
          210.0459019339723,
          83.42432535944745,
          39.676180373740806,
          40.60462014445173,
          114.31442146016423,
          -8.274882684663316,
          -40.350439515698106,
          -6.0143475512638735,
          -75.0720826580243,
          -25.005935022973027,
          -93.54035227940216,
          60.28766708776257,
          -9.040615975940955,
          -59.17396467567668,
          65.12610054212354,
          6.734378287891158,
          -17.67361871580811,
          -50.24364227364451,
          0.32132568725304217,
          2.955404045078166,
          52.36171466411394,
          -26.765360441251723,
          -141.12294782573719,
          -35.99882479533359,
          -94.64250564380875,
          43.56528290003466,
          -108.37333040404323,
          4.81388526834048,
          83.07735826154433,
          33.151447444124045,
          36.42367369313806,
          8.89287118853233,
          3.1566574218254067,
          3.4975020642796397,
          53.737281906356415,
          33.638771225095475,
          -108.47083487763358,
          65.23606592779362,
          33.2323139282169,
          25.649399307933276,
          16.175837336192163,
          32.145787750870156,
          -10.203607101065435,
          -45.148008957313024,
          -61.61696073430831,
          1.562005079314502,
          -7.31546655304439,
          -172.84881649010475,
          -24.77500009772553,
          50.19273281629111,
          -168.41140859039712,
          197.82531641038403,
          17.782226310034247,
          18.497086855893144,
          38.426331140974206,
          63.464469047890816,
          -125.80565085613006,
          -14.872364475723186,
          -12.802571015114772,
          31.653676136089903,
          -6.600731160555501,
          -137.71667064279868,
          -89.53898605219275,
          30.597661223492274,
          -136.59136366599,
          -15.298099635642085,
          35.61553007240517,
          39.41948284425638,
          76.61406109849808,
          -94.98951600107682,
          50.41356941445155,
          -15.7704947950064,
          47.34008484819236,
          -13.477895810794703,
          12.262862015298369,
          -1.2425712174361987,
          61.34907053873364,
          0.42673372302630835,
          -83.51005271109784,
          64.43339409788565,
          -188.06514584005112,
          76.79576569755059,
          10.46758972760233,
          -50.14264148682263,
          -82.97303286373352,
          69.23045904961701,
          -40.24604701127807,
          -21.059987638019248,
          58.47607597983693,
          -132.27138066397902,
          89.87214006117061,
          -86.07832834452918,
          135.16052934290846,
          -26.563785860295138,
          6.362972082041551,
          -61.67081107360465,
          59.197838875651044,
          -53.774716098130945,
          -20.731386239197676,
          15.367629885986753,
          32.49094307248387,
          55.82566156473541,
          -18.171966248245024,
          -40.00737322125373,
          -117.17988745186301,
          97.35571241420018,
          -56.33156870809281,
          -12.034911590166354,
          -16.610270164197537,
          -29.528015952678686,
          -54.232458360790844,
          -81.6325522660145,
          -38.83819351183912,
          -50.096028625669305,
          -3.793738562103815,
          -183.24538226309213,
          -66.04135129176825,
          91.96162711423528,
          30.394305664545357,
          -6.013858342317063,
          -2.326959809472723,
          45.47997628373005,
          37.84016506707727,
          38.89424380479976,
          -14.572737910419617,
          139.58027809665737,
          83.43540518064073,
          139.95942541739473,
          -97.57896024832121,
          -21.307047245440266,
          -37.37549326770305,
          50.56017561452774,
          61.034662845696936,
          38.749332900564895,
          -12.463100354709876,
          -70.63121669348776,
          -23.7216555246145,
          -134.71213125417827,
          86.81228951316139,
          -81.6962064377514,
          13.539168627956897,
          73.2102080092229,
          45.598384875787026,
          -99.72661865071701,
          -100.43251563052168,
          -72.04823039691173,
          95.97306341970996,
          105.69911952447904,
          -21.389679598125877,
          111.82517878334117,
          -10.341955807351681,
          -189.78060635155,
          -91.3638735415503,
          41.238060452632524,
          54.78700566299179,
          16.96123341451177,
          -67.10678799147894,
          24.813002207857036,
          141.47921765430783,
          126.24832915671358,
          8.306180536228384,
          -8.419946008077456,
          8.784815041329056,
          -25.011028795150594,
          116.95386903702,
          -40.927977988987934,
          40.076151659454496,
          -39.12003234534613,
          -21.696505859803253,
          58.7872659388448,
          49.80110420761042,
          -64.02337614134368,
          -166.66457914586945,
          145.9122225547277,
          28.240634964331104,
          -164.67435481221906
         ]
        }
       ],
       "layout": {
        "legend": {
         "tracegroupgap": 0
        },
        "margin": {
         "t": 60
        },
        "scene": {
         "domain": {
          "x": [
           0,
           1
          ],
          "y": [
           0,
           1
          ]
         },
         "xaxis": {
          "title": {
           "text": "x"
          }
         },
         "yaxis": {
          "title": {
           "text": "y"
          }
         },
         "zaxis": {
          "title": {
           "text": "z"
          }
         }
        },
        "template": {
         "data": {
          "bar": [
           {
            "error_x": {
             "color": "#2a3f5f"
            },
            "error_y": {
             "color": "#2a3f5f"
            },
            "marker": {
             "line": {
              "color": "#E5ECF6",
              "width": 0.5
             },
             "pattern": {
              "fillmode": "overlay",
              "size": 10,
              "solidity": 0.2
             }
            },
            "type": "bar"
           }
          ],
          "barpolar": [
           {
            "marker": {
             "line": {
              "color": "#E5ECF6",
              "width": 0.5
             },
             "pattern": {
              "fillmode": "overlay",
              "size": 10,
              "solidity": 0.2
             }
            },
            "type": "barpolar"
           }
          ],
          "carpet": [
           {
            "aaxis": {
             "endlinecolor": "#2a3f5f",
             "gridcolor": "white",
             "linecolor": "white",
             "minorgridcolor": "white",
             "startlinecolor": "#2a3f5f"
            },
            "baxis": {
             "endlinecolor": "#2a3f5f",
             "gridcolor": "white",
             "linecolor": "white",
             "minorgridcolor": "white",
             "startlinecolor": "#2a3f5f"
            },
            "type": "carpet"
           }
          ],
          "choropleth": [
           {
            "colorbar": {
             "outlinewidth": 0,
             "ticks": ""
            },
            "type": "choropleth"
           }
          ],
          "contour": [
           {
            "colorbar": {
             "outlinewidth": 0,
             "ticks": ""
            },
            "colorscale": [
             [
              0,
              "#0d0887"
             ],
             [
              0.1111111111111111,
              "#46039f"
             ],
             [
              0.2222222222222222,
              "#7201a8"
             ],
             [
              0.3333333333333333,
              "#9c179e"
             ],
             [
              0.4444444444444444,
              "#bd3786"
             ],
             [
              0.5555555555555556,
              "#d8576b"
             ],
             [
              0.6666666666666666,
              "#ed7953"
             ],
             [
              0.7777777777777778,
              "#fb9f3a"
             ],
             [
              0.8888888888888888,
              "#fdca26"
             ],
             [
              1,
              "#f0f921"
             ]
            ],
            "type": "contour"
           }
          ],
          "contourcarpet": [
           {
            "colorbar": {
             "outlinewidth": 0,
             "ticks": ""
            },
            "type": "contourcarpet"
           }
          ],
          "heatmap": [
           {
            "colorbar": {
             "outlinewidth": 0,
             "ticks": ""
            },
            "colorscale": [
             [
              0,
              "#0d0887"
             ],
             [
              0.1111111111111111,
              "#46039f"
             ],
             [
              0.2222222222222222,
              "#7201a8"
             ],
             [
              0.3333333333333333,
              "#9c179e"
             ],
             [
              0.4444444444444444,
              "#bd3786"
             ],
             [
              0.5555555555555556,
              "#d8576b"
             ],
             [
              0.6666666666666666,
              "#ed7953"
             ],
             [
              0.7777777777777778,
              "#fb9f3a"
             ],
             [
              0.8888888888888888,
              "#fdca26"
             ],
             [
              1,
              "#f0f921"
             ]
            ],
            "type": "heatmap"
           }
          ],
          "heatmapgl": [
           {
            "colorbar": {
             "outlinewidth": 0,
             "ticks": ""
            },
            "colorscale": [
             [
              0,
              "#0d0887"
             ],
             [
              0.1111111111111111,
              "#46039f"
             ],
             [
              0.2222222222222222,
              "#7201a8"
             ],
             [
              0.3333333333333333,
              "#9c179e"
             ],
             [
              0.4444444444444444,
              "#bd3786"
             ],
             [
              0.5555555555555556,
              "#d8576b"
             ],
             [
              0.6666666666666666,
              "#ed7953"
             ],
             [
              0.7777777777777778,
              "#fb9f3a"
             ],
             [
              0.8888888888888888,
              "#fdca26"
             ],
             [
              1,
              "#f0f921"
             ]
            ],
            "type": "heatmapgl"
           }
          ],
          "histogram": [
           {
            "marker": {
             "pattern": {
              "fillmode": "overlay",
              "size": 10,
              "solidity": 0.2
             }
            },
            "type": "histogram"
           }
          ],
          "histogram2d": [
           {
            "colorbar": {
             "outlinewidth": 0,
             "ticks": ""
            },
            "colorscale": [
             [
              0,
              "#0d0887"
             ],
             [
              0.1111111111111111,
              "#46039f"
             ],
             [
              0.2222222222222222,
              "#7201a8"
             ],
             [
              0.3333333333333333,
              "#9c179e"
             ],
             [
              0.4444444444444444,
              "#bd3786"
             ],
             [
              0.5555555555555556,
              "#d8576b"
             ],
             [
              0.6666666666666666,
              "#ed7953"
             ],
             [
              0.7777777777777778,
              "#fb9f3a"
             ],
             [
              0.8888888888888888,
              "#fdca26"
             ],
             [
              1,
              "#f0f921"
             ]
            ],
            "type": "histogram2d"
           }
          ],
          "histogram2dcontour": [
           {
            "colorbar": {
             "outlinewidth": 0,
             "ticks": ""
            },
            "colorscale": [
             [
              0,
              "#0d0887"
             ],
             [
              0.1111111111111111,
              "#46039f"
             ],
             [
              0.2222222222222222,
              "#7201a8"
             ],
             [
              0.3333333333333333,
              "#9c179e"
             ],
             [
              0.4444444444444444,
              "#bd3786"
             ],
             [
              0.5555555555555556,
              "#d8576b"
             ],
             [
              0.6666666666666666,
              "#ed7953"
             ],
             [
              0.7777777777777778,
              "#fb9f3a"
             ],
             [
              0.8888888888888888,
              "#fdca26"
             ],
             [
              1,
              "#f0f921"
             ]
            ],
            "type": "histogram2dcontour"
           }
          ],
          "mesh3d": [
           {
            "colorbar": {
             "outlinewidth": 0,
             "ticks": ""
            },
            "type": "mesh3d"
           }
          ],
          "parcoords": [
           {
            "line": {
             "colorbar": {
              "outlinewidth": 0,
              "ticks": ""
             }
            },
            "type": "parcoords"
           }
          ],
          "pie": [
           {
            "automargin": true,
            "type": "pie"
           }
          ],
          "scatter": [
           {
            "fillpattern": {
             "fillmode": "overlay",
             "size": 10,
             "solidity": 0.2
            },
            "type": "scatter"
           }
          ],
          "scatter3d": [
           {
            "line": {
             "colorbar": {
              "outlinewidth": 0,
              "ticks": ""
             }
            },
            "marker": {
             "colorbar": {
              "outlinewidth": 0,
              "ticks": ""
             }
            },
            "type": "scatter3d"
           }
          ],
          "scattercarpet": [
           {
            "marker": {
             "colorbar": {
              "outlinewidth": 0,
              "ticks": ""
             }
            },
            "type": "scattercarpet"
           }
          ],
          "scattergeo": [
           {
            "marker": {
             "colorbar": {
              "outlinewidth": 0,
              "ticks": ""
             }
            },
            "type": "scattergeo"
           }
          ],
          "scattergl": [
           {
            "marker": {
             "colorbar": {
              "outlinewidth": 0,
              "ticks": ""
             }
            },
            "type": "scattergl"
           }
          ],
          "scattermapbox": [
           {
            "marker": {
             "colorbar": {
              "outlinewidth": 0,
              "ticks": ""
             }
            },
            "type": "scattermapbox"
           }
          ],
          "scatterpolar": [
           {
            "marker": {
             "colorbar": {
              "outlinewidth": 0,
              "ticks": ""
             }
            },
            "type": "scatterpolar"
           }
          ],
          "scatterpolargl": [
           {
            "marker": {
             "colorbar": {
              "outlinewidth": 0,
              "ticks": ""
             }
            },
            "type": "scatterpolargl"
           }
          ],
          "scatterternary": [
           {
            "marker": {
             "colorbar": {
              "outlinewidth": 0,
              "ticks": ""
             }
            },
            "type": "scatterternary"
           }
          ],
          "surface": [
           {
            "colorbar": {
             "outlinewidth": 0,
             "ticks": ""
            },
            "colorscale": [
             [
              0,
              "#0d0887"
             ],
             [
              0.1111111111111111,
              "#46039f"
             ],
             [
              0.2222222222222222,
              "#7201a8"
             ],
             [
              0.3333333333333333,
              "#9c179e"
             ],
             [
              0.4444444444444444,
              "#bd3786"
             ],
             [
              0.5555555555555556,
              "#d8576b"
             ],
             [
              0.6666666666666666,
              "#ed7953"
             ],
             [
              0.7777777777777778,
              "#fb9f3a"
             ],
             [
              0.8888888888888888,
              "#fdca26"
             ],
             [
              1,
              "#f0f921"
             ]
            ],
            "type": "surface"
           }
          ],
          "table": [
           {
            "cells": {
             "fill": {
              "color": "#EBF0F8"
             },
             "line": {
              "color": "white"
             }
            },
            "header": {
             "fill": {
              "color": "#C8D4E3"
             },
             "line": {
              "color": "white"
             }
            },
            "type": "table"
           }
          ]
         },
         "layout": {
          "annotationdefaults": {
           "arrowcolor": "#2a3f5f",
           "arrowhead": 0,
           "arrowwidth": 1
          },
          "autotypenumbers": "strict",
          "coloraxis": {
           "colorbar": {
            "outlinewidth": 0,
            "ticks": ""
           }
          },
          "colorscale": {
           "diverging": [
            [
             0,
             "#8e0152"
            ],
            [
             0.1,
             "#c51b7d"
            ],
            [
             0.2,
             "#de77ae"
            ],
            [
             0.3,
             "#f1b6da"
            ],
            [
             0.4,
             "#fde0ef"
            ],
            [
             0.5,
             "#f7f7f7"
            ],
            [
             0.6,
             "#e6f5d0"
            ],
            [
             0.7,
             "#b8e186"
            ],
            [
             0.8,
             "#7fbc41"
            ],
            [
             0.9,
             "#4d9221"
            ],
            [
             1,
             "#276419"
            ]
           ],
           "sequential": [
            [
             0,
             "#0d0887"
            ],
            [
             0.1111111111111111,
             "#46039f"
            ],
            [
             0.2222222222222222,
             "#7201a8"
            ],
            [
             0.3333333333333333,
             "#9c179e"
            ],
            [
             0.4444444444444444,
             "#bd3786"
            ],
            [
             0.5555555555555556,
             "#d8576b"
            ],
            [
             0.6666666666666666,
             "#ed7953"
            ],
            [
             0.7777777777777778,
             "#fb9f3a"
            ],
            [
             0.8888888888888888,
             "#fdca26"
            ],
            [
             1,
             "#f0f921"
            ]
           ],
           "sequentialminus": [
            [
             0,
             "#0d0887"
            ],
            [
             0.1111111111111111,
             "#46039f"
            ],
            [
             0.2222222222222222,
             "#7201a8"
            ],
            [
             0.3333333333333333,
             "#9c179e"
            ],
            [
             0.4444444444444444,
             "#bd3786"
            ],
            [
             0.5555555555555556,
             "#d8576b"
            ],
            [
             0.6666666666666666,
             "#ed7953"
            ],
            [
             0.7777777777777778,
             "#fb9f3a"
            ],
            [
             0.8888888888888888,
             "#fdca26"
            ],
            [
             1,
             "#f0f921"
            ]
           ]
          },
          "colorway": [
           "#636efa",
           "#EF553B",
           "#00cc96",
           "#ab63fa",
           "#FFA15A",
           "#19d3f3",
           "#FF6692",
           "#B6E880",
           "#FF97FF",
           "#FECB52"
          ],
          "font": {
           "color": "#2a3f5f"
          },
          "geo": {
           "bgcolor": "white",
           "lakecolor": "white",
           "landcolor": "#E5ECF6",
           "showlakes": true,
           "showland": true,
           "subunitcolor": "white"
          },
          "hoverlabel": {
           "align": "left"
          },
          "hovermode": "closest",
          "mapbox": {
           "style": "light"
          },
          "paper_bgcolor": "white",
          "plot_bgcolor": "#E5ECF6",
          "polar": {
           "angularaxis": {
            "gridcolor": "white",
            "linecolor": "white",
            "ticks": ""
           },
           "bgcolor": "#E5ECF6",
           "radialaxis": {
            "gridcolor": "white",
            "linecolor": "white",
            "ticks": ""
           }
          },
          "scene": {
           "xaxis": {
            "backgroundcolor": "#E5ECF6",
            "gridcolor": "white",
            "gridwidth": 2,
            "linecolor": "white",
            "showbackground": true,
            "ticks": "",
            "zerolinecolor": "white"
           },
           "yaxis": {
            "backgroundcolor": "#E5ECF6",
            "gridcolor": "white",
            "gridwidth": 2,
            "linecolor": "white",
            "showbackground": true,
            "ticks": "",
            "zerolinecolor": "white"
           },
           "zaxis": {
            "backgroundcolor": "#E5ECF6",
            "gridcolor": "white",
            "gridwidth": 2,
            "linecolor": "white",
            "showbackground": true,
            "ticks": "",
            "zerolinecolor": "white"
           }
          },
          "shapedefaults": {
           "line": {
            "color": "#2a3f5f"
           }
          },
          "ternary": {
           "aaxis": {
            "gridcolor": "white",
            "linecolor": "white",
            "ticks": ""
           },
           "baxis": {
            "gridcolor": "white",
            "linecolor": "white",
            "ticks": ""
           },
           "bgcolor": "#E5ECF6",
           "caxis": {
            "gridcolor": "white",
            "linecolor": "white",
            "ticks": ""
           }
          },
          "title": {
           "x": 0.05
          },
          "xaxis": {
           "automargin": true,
           "gridcolor": "white",
           "linecolor": "white",
           "ticks": "",
           "title": {
            "standoff": 15
           },
           "zerolinecolor": "white",
           "zerolinewidth": 2
          },
          "yaxis": {
           "automargin": true,
           "gridcolor": "white",
           "linecolor": "white",
           "ticks": "",
           "title": {
            "standoff": 15
           },
           "zerolinecolor": "white",
           "zerolinewidth": 2
          }
         }
        }
       }
      },
      "text/html": [
       "<div>                            <div id=\"caa6565b-5dfd-4b60-9ded-0bd2818a7d74\" class=\"plotly-graph-div\" style=\"height:525px; width:100%;\"></div>            <script type=\"text/javascript\">                require([\"plotly\"], function(Plotly) {                    window.PLOTLYENV=window.PLOTLYENV || {};                                    if (document.getElementById(\"caa6565b-5dfd-4b60-9ded-0bd2818a7d74\")) {                    Plotly.newPlot(                        \"caa6565b-5dfd-4b60-9ded-0bd2818a7d74\",                        [{\"hovertemplate\":\"x=%{x}<br>y=%{y}<br>z=%{z}<extra></extra>\",\"legendgroup\":\"\",\"marker\":{\"color\":\"#636efa\",\"symbol\":\"circle\"},\"mode\":\"markers\",\"name\":\"\",\"scene\":\"scene\",\"showlegend\":false,\"x\":[-2.7404214310930133,0.756298938777305,0.7363664016493839,1.3978587689737527,0.4315219956711879,0.3992393097624814,0.37376581891640304,0.26550829522157426,1.5076164674199892,-0.4084738821038356,1.4793752141996492,-0.7474512803501561,0.42367773084813654,0.5393179012108041,-1.0216127703638322,0.361988524492243,-1.0229940281647134,1.0992299653186934,-0.38867040479896703,-0.44309260579723686,-1.5657086853466538,-0.24426487891244694,0.7651214596299497,-0.7937246542055413,2.103248775082058,0.788015283069314,-0.02936313610990527,0.463248810246937,-1.5560511426554615,-1.4112490548387608,0.3666164488066735,0.2115485467770326,-0.9150384302830085,0.5741693463565865,-1.8092855402207366,1.325919604807037,0.3533030230113455,-1.8570330749671897,0.7371764160320069,1.0006755220852908,-0.43940606264341675,-0.9657555627515988,-1.5422977390776398,-0.45304284867779654,1.9804138696806275,-1.077638152681857,1.1383170838764987,-0.8758381740739317,-0.674201702848922,1.5249600821652416,0.3971213371560235,1.0190007075457537,0.6896264922579272,-0.8677473962497055,0.6596295998286604,-1.1764369620467232,0.059540336749803115,0.6732152894755405,0.4015068969797587,0.10198258317231526,-1.6371031370099338,-0.053028685180200354,1.0341963335568753,1.5685820876832328,0.06072725714055917,0.08870149043851416,-0.23354654060165633,0.9922991509714498,-1.42145383084429,-0.5269855872603837,-2.5330626210269998,-1.0201740689171301,-1.2005791611210874,0.8272720694875421,-1.8450583156600675,-0.18092820278958718,0.6760031111535906,2.458145659828142,-1.4746528319438896,0.57855225373747,0.1441841072713185,1.1881929564721943,-0.9697402518303501,0.4958023385859116,0.5155446731829938,1.1826385105159563,-0.8615918403319165,0.6253659238010879,-0.2692670568115434,-0.7285479259428495,-1.4943648794959685,0.6018325619945405,-0.42080175196246494,-0.1757096594588406,0.3381165367775282,0.6270903372238696,0.4364941293908397,0.25943991723387066,0.33614685674755096,0.5242078192553201,0.8276996436209203,-0.7476092780672899,-0.8795670462319346,-0.8115295449386162,-1.245642168810563,-1.4935441818769362,-0.9214865273016474,0.07214463789101971,0.5967149191014381,-0.004666769379821463,-0.07177039778452644,-0.23981430334981152,0.7597274642458374,-1.0380760601413788,1.0220724789377242,1.8403093831192814,0.6574434406283387,-0.5790359637334612,-1.224370922596681,-0.14655813337220688,-0.33078505761487786,0.10450619270054476,0.8173595543913869,-1.2838037288797333,-1.5740871318788279,0.9993927771128988,-1.0146695934333507,0.6264798087322719,-0.6537837571446528,1.7846143894260138,-1.3663732739145937,-0.9792267808770964,-0.17985857289103432,0.764360540138168,0.5829042265224819,-0.5590579210307043,1.3282113625769036,0.14232826531490272,0.23140965774215294,-0.8640519542183781,0.5701080338593009,-0.0867012428989616,-0.5347702063463131,1.2499320520220114,-0.08719207241558352,-0.5407594004447006,0.3310834928944406,0.9486170886205822,-2.1471444561280726,1.6246228584003481,-0.4792127902314807,0.8103071874540028,-1.0830719753648512,-0.07510036785025839,0.4585456169490373,-0.24771740897529315,0.5882539190925763,-0.001781426547957886,-0.5945240120150787,0.09283767034450549,-1.8221901239478264,0.22612918952248434,0.6973268011457368,-0.3355557206491432,0.7548063270781508,0.3514795238549474,0.4817078740394855,-0.3481280582223469,-0.11338228445969524,0.4213132805346624,0.679706215649143,0.2678922057840874,-0.697393164396531,-0.2854040598702138,-0.3755280974459029,-0.547192975970595,1.2588180052829636,-1.3274501418934088,0.09622499375325567,1.6518147387670048,-1.1454962582852737,1.8341592224631917,0.6348895322500112,0.44806671653370495,0.6646118708011874,-1.0948777822705278,0.8990198602411588,-0.02608153949809387,0.47281857579863823,0.17574108394044738,-1.2153257861235736,1.0628430759048824,0.8534823574237286,-0.110314778797973,0.04817021431759646,0.6308545670819519,-0.04267489862256465,-0.4256338314300946,-0.18349575338789478,-0.1717551809505416],\"y\":[0.3449693168652559,-1.5536209358804252,0.5798529465041892,2.2065070404971148,-0.864248247043304,0.5014608550825753,-0.8322472909005199,0.4117161109690246,1.0497571713361262,-0.4840728306429534,0.04598486161346908,0.8537962653651716,1.8548987158552748,-0.07129005630226519,-1.2408820401641307,-1.2034155220763463,-1.2910994683972927,-0.1583939994627977,-0.9172175147725683,0.46481149045929215,-0.41787177920777363,-0.12260306944119817,-1.5889876398084362,-1.2692401649775849,2.007943475011101,0.8143540557926388,0.5312082845466601,0.3679850908585404,2.054462827148719,0.3939084826824076,-0.6601469852165045,-0.15426684440142113,-0.659499936960472,-0.5326546174170824,-0.5834741891577425,0.31914706090177813,-0.2444626990122522,-0.11541100209316087,0.5922912412389303,-0.2679308804119594,-0.07550399013802975,-0.31556556858057055,0.5533980795298881,0.20010917260064112,-0.017933636622856724,0.03242764080775955,-2.2575800830841852,-0.1606190736526602,-1.0021201516090623,0.02879034602062702,-1.563814404176309,-0.29966271054844673,0.8448343226877557,0.7441021785050004,0.24318269341181784,0.535624686031647,0.020230256612552566,-0.19381322333357426,0.5623372366344741,0.40519734032995075,-0.8407484585037434,0.8751104073398459,0.06792032359047644,-0.22188979621150187,0.1906852754761893,0.3903309519519775,-0.05076192178402993,-0.9459082271378318,-0.302576351503677,0.20815020840287127,0.8059557369080798,-1.9053898329854373,0.10232803779958723,0.3642085158269869,-1.553424143996662,2.6608960952643974,-0.007317893819040483,-0.6325197833323587,1.02944200351822,0.6269650278651903,-1.7025490722464198,-0.618292027210444,0.17727000524925537,0.2389116727194623,-0.27020996916092854,-2.228654407067271,-0.8684103036555167,0.17891646153403062,-1.696890818479976,0.05863236512533004,0.9995690974179172,0.30308324252845437,1.1554038599662713,-1.184177500609756,0.5412852849643979,-0.4302828930783831,0.4659153355770083,-0.2692795798115742,0.041255915578476465,-0.20296851004826436,0.5104839868659314,0.27180927215499145,-0.7828795243620958,1.1346619139967367,-2.0248206561065247,1.539770368097492,0.465510346708212,-0.683814943839369,-1.301504892238512,0.910316411148885,-0.5026762430372367,-0.1910208619255626,0.4969792319622857,-1.3664335860086014,0.8156391028867419,-1.7850806497584641,1.539889351729457,-0.14246871266889544,0.5194878836182734,-0.7572474043434616,0.894761609448463,-0.7430094672172333,-0.5631459178589063,0.6588374598336517,0.98694613443432,0.37685244291479636,0.12279473209345895,-0.7481762394359939,-1.3051952939376201,0.6423359525283183,-0.2528182663811908,0.19072354830391325,-0.15396701389988476,-0.6597304406373338,-0.919365114782285,-0.8723639375777668,-0.9827029163769265,-0.7081940999493784,-0.13219332950432539,-2.097437383403791,-1.0698012071755418,1.2378753961858129,0.5893481357454812,-0.5240075361033153,0.0005058003102440981,0.7894812587138563,0.3787627868541867,0.17270657104516052,0.5732859776490717,1.2535060721701121,1.2657334585315427,1.5484435505894296,-0.8950709906267009,-0.25291479781145704,-0.6538347005336015,0.7518129789509828,0.5916190851980656,0.5092220636936825,0.048118758590599935,-0.9600973074210131,0.3374962005415619,-1.8486262237589968,0.8911136370651813,-0.9527839619996875,-0.0910685381574486,0.8357344922137714,0.42695571125379794,-1.184957645088585,-1.2778107581251044,-1.095659154027167,1.0176237721553842,1.2919174861406406,-0.03241362551011702,1.5693399224094575,-0.002021032019801926,-2.296039658340236,-1.6473966265004216,1.0139302845570664,0.6848195723977176,-0.36556003132188486,-0.47289356571621083,-0.32743414915638724,1.6308535677315084,1.4974708600635775,-0.1276354770875392,0.2793511816252689,-0.204821252546674,-0.31898441900793495,1.366666783347189,-0.5997604079188171,0.9587549613612666,-0.8919098556637698,-0.5886757719188691,0.8108678569173443,0.6364905866313099,-1.0649457377633063,-2.1722887276820484,2.0666677335276735,0.4359994127062807,-2.100204046056216],\"z\":[-48.06363927055246,-97.85230056142943,64.15645058279664,206.03743760222739,-54.14005856740725,49.03758738090365,-53.26881268933461,38.57184405227586,120.8822849765197,-47.96332404496701,43.63862933465647,44.77264743004805,152.81911456216312,9.19995116731726,-122.2589556417174,-81.867659358228,-126.12249794157978,17.75375518914596,-80.427383151104,23.39303837702722,-74.31492118797092,-15.967974412821142,-100.30753951224283,-118.23702157979695,210.0459019339723,83.42432535944745,39.676180373740806,40.60462014445173,114.31442146016423,-8.274882684663316,-40.350439515698106,-6.0143475512638735,-75.0720826580243,-25.005935022973027,-93.54035227940216,60.28766708776257,-9.040615975940955,-59.17396467567668,65.12610054212354,6.734378287891158,-17.67361871580811,-50.24364227364451,0.32132568725304217,2.955404045078166,52.36171466411394,-26.765360441251723,-141.12294782573719,-35.99882479533359,-94.64250564380875,43.56528290003466,-108.37333040404323,4.81388526834048,83.07735826154433,33.151447444124045,36.42367369313806,8.89287118853233,3.1566574218254067,3.4975020642796397,53.737281906356415,33.638771225095475,-108.47083487763358,65.23606592779362,33.2323139282169,25.649399307933276,16.175837336192163,32.145787750870156,-10.203607101065435,-45.148008957313024,-61.61696073430831,1.562005079314502,-7.31546655304439,-172.84881649010475,-24.77500009772553,50.19273281629111,-168.41140859039712,197.82531641038403,17.782226310034247,18.497086855893144,38.426331140974206,63.464469047890816,-125.80565085613006,-14.872364475723186,-12.802571015114772,31.653676136089903,-6.600731160555501,-137.71667064279868,-89.53898605219275,30.597661223492274,-136.59136366599,-15.298099635642085,35.61553007240517,39.41948284425638,76.61406109849808,-94.98951600107682,50.41356941445155,-15.7704947950064,47.34008484819236,-13.477895810794703,12.262862015298369,-1.2425712174361987,61.34907053873364,0.42673372302630835,-83.51005271109784,64.43339409788565,-188.06514584005112,76.79576569755059,10.46758972760233,-50.14264148682263,-82.97303286373352,69.23045904961701,-40.24604701127807,-21.059987638019248,58.47607597983693,-132.27138066397902,89.87214006117061,-86.07832834452918,135.16052934290846,-26.563785860295138,6.362972082041551,-61.67081107360465,59.197838875651044,-53.774716098130945,-20.731386239197676,15.367629885986753,32.49094307248387,55.82566156473541,-18.171966248245024,-40.00737322125373,-117.17988745186301,97.35571241420018,-56.33156870809281,-12.034911590166354,-16.610270164197537,-29.528015952678686,-54.232458360790844,-81.6325522660145,-38.83819351183912,-50.096028625669305,-3.793738562103815,-183.24538226309213,-66.04135129176825,91.96162711423528,30.394305664545357,-6.013858342317063,-2.326959809472723,45.47997628373005,37.84016506707727,38.89424380479976,-14.572737910419617,139.58027809665737,83.43540518064073,139.95942541739473,-97.57896024832121,-21.307047245440266,-37.37549326770305,50.56017561452774,61.034662845696936,38.749332900564895,-12.463100354709876,-70.63121669348776,-23.7216555246145,-134.71213125417827,86.81228951316139,-81.6962064377514,13.539168627956897,73.2102080092229,45.598384875787026,-99.72661865071701,-100.43251563052168,-72.04823039691173,95.97306341970996,105.69911952447904,-21.389679598125877,111.82517878334117,-10.341955807351681,-189.78060635155,-91.3638735415503,41.238060452632524,54.78700566299179,16.96123341451177,-67.10678799147894,24.813002207857036,141.47921765430783,126.24832915671358,8.306180536228384,-8.419946008077456,8.784815041329056,-25.011028795150594,116.95386903702,-40.927977988987934,40.076151659454496,-39.12003234534613,-21.696505859803253,58.7872659388448,49.80110420761042,-64.02337614134368,-166.66457914586945,145.9122225547277,28.240634964331104,-164.67435481221906],\"type\":\"scatter3d\"}],                        {\"template\":{\"data\":{\"histogram2dcontour\":[{\"type\":\"histogram2dcontour\",\"colorbar\":{\"outlinewidth\":0,\"ticks\":\"\"},\"colorscale\":[[0.0,\"#0d0887\"],[0.1111111111111111,\"#46039f\"],[0.2222222222222222,\"#7201a8\"],[0.3333333333333333,\"#9c179e\"],[0.4444444444444444,\"#bd3786\"],[0.5555555555555556,\"#d8576b\"],[0.6666666666666666,\"#ed7953\"],[0.7777777777777778,\"#fb9f3a\"],[0.8888888888888888,\"#fdca26\"],[1.0,\"#f0f921\"]]}],\"choropleth\":[{\"type\":\"choropleth\",\"colorbar\":{\"outlinewidth\":0,\"ticks\":\"\"}}],\"histogram2d\":[{\"type\":\"histogram2d\",\"colorbar\":{\"outlinewidth\":0,\"ticks\":\"\"},\"colorscale\":[[0.0,\"#0d0887\"],[0.1111111111111111,\"#46039f\"],[0.2222222222222222,\"#7201a8\"],[0.3333333333333333,\"#9c179e\"],[0.4444444444444444,\"#bd3786\"],[0.5555555555555556,\"#d8576b\"],[0.6666666666666666,\"#ed7953\"],[0.7777777777777778,\"#fb9f3a\"],[0.8888888888888888,\"#fdca26\"],[1.0,\"#f0f921\"]]}],\"heatmap\":[{\"type\":\"heatmap\",\"colorbar\":{\"outlinewidth\":0,\"ticks\":\"\"},\"colorscale\":[[0.0,\"#0d0887\"],[0.1111111111111111,\"#46039f\"],[0.2222222222222222,\"#7201a8\"],[0.3333333333333333,\"#9c179e\"],[0.4444444444444444,\"#bd3786\"],[0.5555555555555556,\"#d8576b\"],[0.6666666666666666,\"#ed7953\"],[0.7777777777777778,\"#fb9f3a\"],[0.8888888888888888,\"#fdca26\"],[1.0,\"#f0f921\"]]}],\"heatmapgl\":[{\"type\":\"heatmapgl\",\"colorbar\":{\"outlinewidth\":0,\"ticks\":\"\"},\"colorscale\":[[0.0,\"#0d0887\"],[0.1111111111111111,\"#46039f\"],[0.2222222222222222,\"#7201a8\"],[0.3333333333333333,\"#9c179e\"],[0.4444444444444444,\"#bd3786\"],[0.5555555555555556,\"#d8576b\"],[0.6666666666666666,\"#ed7953\"],[0.7777777777777778,\"#fb9f3a\"],[0.8888888888888888,\"#fdca26\"],[1.0,\"#f0f921\"]]}],\"contourcarpet\":[{\"type\":\"contourcarpet\",\"colorbar\":{\"outlinewidth\":0,\"ticks\":\"\"}}],\"contour\":[{\"type\":\"contour\",\"colorbar\":{\"outlinewidth\":0,\"ticks\":\"\"},\"colorscale\":[[0.0,\"#0d0887\"],[0.1111111111111111,\"#46039f\"],[0.2222222222222222,\"#7201a8\"],[0.3333333333333333,\"#9c179e\"],[0.4444444444444444,\"#bd3786\"],[0.5555555555555556,\"#d8576b\"],[0.6666666666666666,\"#ed7953\"],[0.7777777777777778,\"#fb9f3a\"],[0.8888888888888888,\"#fdca26\"],[1.0,\"#f0f921\"]]}],\"surface\":[{\"type\":\"surface\",\"colorbar\":{\"outlinewidth\":0,\"ticks\":\"\"},\"colorscale\":[[0.0,\"#0d0887\"],[0.1111111111111111,\"#46039f\"],[0.2222222222222222,\"#7201a8\"],[0.3333333333333333,\"#9c179e\"],[0.4444444444444444,\"#bd3786\"],[0.5555555555555556,\"#d8576b\"],[0.6666666666666666,\"#ed7953\"],[0.7777777777777778,\"#fb9f3a\"],[0.8888888888888888,\"#fdca26\"],[1.0,\"#f0f921\"]]}],\"mesh3d\":[{\"type\":\"mesh3d\",\"colorbar\":{\"outlinewidth\":0,\"ticks\":\"\"}}],\"scatter\":[{\"fillpattern\":{\"fillmode\":\"overlay\",\"size\":10,\"solidity\":0.2},\"type\":\"scatter\"}],\"parcoords\":[{\"type\":\"parcoords\",\"line\":{\"colorbar\":{\"outlinewidth\":0,\"ticks\":\"\"}}}],\"scatterpolargl\":[{\"type\":\"scatterpolargl\",\"marker\":{\"colorbar\":{\"outlinewidth\":0,\"ticks\":\"\"}}}],\"bar\":[{\"error_x\":{\"color\":\"#2a3f5f\"},\"error_y\":{\"color\":\"#2a3f5f\"},\"marker\":{\"line\":{\"color\":\"#E5ECF6\",\"width\":0.5},\"pattern\":{\"fillmode\":\"overlay\",\"size\":10,\"solidity\":0.2}},\"type\":\"bar\"}],\"scattergeo\":[{\"type\":\"scattergeo\",\"marker\":{\"colorbar\":{\"outlinewidth\":0,\"ticks\":\"\"}}}],\"scatterpolar\":[{\"type\":\"scatterpolar\",\"marker\":{\"colorbar\":{\"outlinewidth\":0,\"ticks\":\"\"}}}],\"histogram\":[{\"marker\":{\"pattern\":{\"fillmode\":\"overlay\",\"size\":10,\"solidity\":0.2}},\"type\":\"histogram\"}],\"scattergl\":[{\"type\":\"scattergl\",\"marker\":{\"colorbar\":{\"outlinewidth\":0,\"ticks\":\"\"}}}],\"scatter3d\":[{\"type\":\"scatter3d\",\"line\":{\"colorbar\":{\"outlinewidth\":0,\"ticks\":\"\"}},\"marker\":{\"colorbar\":{\"outlinewidth\":0,\"ticks\":\"\"}}}],\"scattermapbox\":[{\"type\":\"scattermapbox\",\"marker\":{\"colorbar\":{\"outlinewidth\":0,\"ticks\":\"\"}}}],\"scatterternary\":[{\"type\":\"scatterternary\",\"marker\":{\"colorbar\":{\"outlinewidth\":0,\"ticks\":\"\"}}}],\"scattercarpet\":[{\"type\":\"scattercarpet\",\"marker\":{\"colorbar\":{\"outlinewidth\":0,\"ticks\":\"\"}}}],\"carpet\":[{\"aaxis\":{\"endlinecolor\":\"#2a3f5f\",\"gridcolor\":\"white\",\"linecolor\":\"white\",\"minorgridcolor\":\"white\",\"startlinecolor\":\"#2a3f5f\"},\"baxis\":{\"endlinecolor\":\"#2a3f5f\",\"gridcolor\":\"white\",\"linecolor\":\"white\",\"minorgridcolor\":\"white\",\"startlinecolor\":\"#2a3f5f\"},\"type\":\"carpet\"}],\"table\":[{\"cells\":{\"fill\":{\"color\":\"#EBF0F8\"},\"line\":{\"color\":\"white\"}},\"header\":{\"fill\":{\"color\":\"#C8D4E3\"},\"line\":{\"color\":\"white\"}},\"type\":\"table\"}],\"barpolar\":[{\"marker\":{\"line\":{\"color\":\"#E5ECF6\",\"width\":0.5},\"pattern\":{\"fillmode\":\"overlay\",\"size\":10,\"solidity\":0.2}},\"type\":\"barpolar\"}],\"pie\":[{\"automargin\":true,\"type\":\"pie\"}]},\"layout\":{\"autotypenumbers\":\"strict\",\"colorway\":[\"#636efa\",\"#EF553B\",\"#00cc96\",\"#ab63fa\",\"#FFA15A\",\"#19d3f3\",\"#FF6692\",\"#B6E880\",\"#FF97FF\",\"#FECB52\"],\"font\":{\"color\":\"#2a3f5f\"},\"hovermode\":\"closest\",\"hoverlabel\":{\"align\":\"left\"},\"paper_bgcolor\":\"white\",\"plot_bgcolor\":\"#E5ECF6\",\"polar\":{\"bgcolor\":\"#E5ECF6\",\"angularaxis\":{\"gridcolor\":\"white\",\"linecolor\":\"white\",\"ticks\":\"\"},\"radialaxis\":{\"gridcolor\":\"white\",\"linecolor\":\"white\",\"ticks\":\"\"}},\"ternary\":{\"bgcolor\":\"#E5ECF6\",\"aaxis\":{\"gridcolor\":\"white\",\"linecolor\":\"white\",\"ticks\":\"\"},\"baxis\":{\"gridcolor\":\"white\",\"linecolor\":\"white\",\"ticks\":\"\"},\"caxis\":{\"gridcolor\":\"white\",\"linecolor\":\"white\",\"ticks\":\"\"}},\"coloraxis\":{\"colorbar\":{\"outlinewidth\":0,\"ticks\":\"\"}},\"colorscale\":{\"sequential\":[[0.0,\"#0d0887\"],[0.1111111111111111,\"#46039f\"],[0.2222222222222222,\"#7201a8\"],[0.3333333333333333,\"#9c179e\"],[0.4444444444444444,\"#bd3786\"],[0.5555555555555556,\"#d8576b\"],[0.6666666666666666,\"#ed7953\"],[0.7777777777777778,\"#fb9f3a\"],[0.8888888888888888,\"#fdca26\"],[1.0,\"#f0f921\"]],\"sequentialminus\":[[0.0,\"#0d0887\"],[0.1111111111111111,\"#46039f\"],[0.2222222222222222,\"#7201a8\"],[0.3333333333333333,\"#9c179e\"],[0.4444444444444444,\"#bd3786\"],[0.5555555555555556,\"#d8576b\"],[0.6666666666666666,\"#ed7953\"],[0.7777777777777778,\"#fb9f3a\"],[0.8888888888888888,\"#fdca26\"],[1.0,\"#f0f921\"]],\"diverging\":[[0,\"#8e0152\"],[0.1,\"#c51b7d\"],[0.2,\"#de77ae\"],[0.3,\"#f1b6da\"],[0.4,\"#fde0ef\"],[0.5,\"#f7f7f7\"],[0.6,\"#e6f5d0\"],[0.7,\"#b8e186\"],[0.8,\"#7fbc41\"],[0.9,\"#4d9221\"],[1,\"#276419\"]]},\"xaxis\":{\"gridcolor\":\"white\",\"linecolor\":\"white\",\"ticks\":\"\",\"title\":{\"standoff\":15},\"zerolinecolor\":\"white\",\"automargin\":true,\"zerolinewidth\":2},\"yaxis\":{\"gridcolor\":\"white\",\"linecolor\":\"white\",\"ticks\":\"\",\"title\":{\"standoff\":15},\"zerolinecolor\":\"white\",\"automargin\":true,\"zerolinewidth\":2},\"scene\":{\"xaxis\":{\"backgroundcolor\":\"#E5ECF6\",\"gridcolor\":\"white\",\"linecolor\":\"white\",\"showbackground\":true,\"ticks\":\"\",\"zerolinecolor\":\"white\",\"gridwidth\":2},\"yaxis\":{\"backgroundcolor\":\"#E5ECF6\",\"gridcolor\":\"white\",\"linecolor\":\"white\",\"showbackground\":true,\"ticks\":\"\",\"zerolinecolor\":\"white\",\"gridwidth\":2},\"zaxis\":{\"backgroundcolor\":\"#E5ECF6\",\"gridcolor\":\"white\",\"linecolor\":\"white\",\"showbackground\":true,\"ticks\":\"\",\"zerolinecolor\":\"white\",\"gridwidth\":2}},\"shapedefaults\":{\"line\":{\"color\":\"#2a3f5f\"}},\"annotationdefaults\":{\"arrowcolor\":\"#2a3f5f\",\"arrowhead\":0,\"arrowwidth\":1},\"geo\":{\"bgcolor\":\"white\",\"landcolor\":\"#E5ECF6\",\"subunitcolor\":\"white\",\"showland\":true,\"showlakes\":true,\"lakecolor\":\"white\"},\"title\":{\"x\":0.05},\"mapbox\":{\"style\":\"light\"}}},\"scene\":{\"domain\":{\"x\":[0.0,1.0],\"y\":[0.0,1.0]},\"xaxis\":{\"title\":{\"text\":\"x\"}},\"yaxis\":{\"title\":{\"text\":\"y\"}},\"zaxis\":{\"title\":{\"text\":\"z\"}}},\"legend\":{\"tracegroupgap\":0},\"margin\":{\"t\":60}},                        {\"responsive\": true}                    ).then(function(){\n",
       "                            \n",
       "var gd = document.getElementById('caa6565b-5dfd-4b60-9ded-0bd2818a7d74');\n",
       "var x = new MutationObserver(function (mutations, observer) {{\n",
       "        var display = window.getComputedStyle(gd).display;\n",
       "        if (!display || display === 'none') {{\n",
       "            console.log([gd, 'removed!']);\n",
       "            Plotly.purge(gd);\n",
       "            observer.disconnect();\n",
       "        }}\n",
       "}});\n",
       "\n",
       "// Listen for the removal of the full notebook cells\n",
       "var notebookContainer = gd.closest('#notebook-container');\n",
       "if (notebookContainer) {{\n",
       "    x.observe(notebookContainer, {childList: true});\n",
       "}}\n",
       "\n",
       "// Listen for the clearing of the current output cell\n",
       "var outputEl = gd.closest('.output');\n",
       "if (outputEl) {{\n",
       "    x.observe(outputEl, {childList: true});\n",
       "}}\n",
       "\n",
       "                        })                };                });            </script>        </div>"
      ]
     },
     "metadata": {},
     "output_type": "display_data"
    }
   ],
   "source": [
    "px.scatter_3d(df,x=df.iloc[:,0],y=df.iloc[:,1],z=df.iloc[:,2])"
   ]
  },
  {
   "cell_type": "markdown",
   "id": "4de6bb04",
   "metadata": {},
   "source": [
    "+ ### Here in the above plot, the z-column defines the output column in the dataset and we could see that the data is spread in a \"sort of linear\" structure which means we can use Linear Regression to train the model."
   ]
  },
  {
   "cell_type": "code",
   "execution_count": 41,
   "id": "3d0cae3a",
   "metadata": {},
   "outputs": [
    {
     "name": "stdout",
     "output_type": "stream",
     "text": [
      "Weights of input Features are: [27.12972295 76.19006574]\n"
     ]
    }
   ],
   "source": [
    "#Weights of the input features\n",
    "print('Weights of input Features are:',lin_reg.coef_)"
   ]
  },
  {
   "cell_type": "code",
   "execution_count": 46,
   "id": "95c1fe52",
   "metadata": {},
   "outputs": [],
   "source": [
    "w1 = lin_reg.coef_[0]\n",
    "w2 = lin_reg.coef_[1]"
   ]
  },
  {
   "cell_type": "code",
   "execution_count": 45,
   "id": "5cfe0b11",
   "metadata": {},
   "outputs": [
    {
     "name": "stdout",
     "output_type": "stream",
     "text": [
      "Bias / Intercept of the trained Model: 1.7763568394002505e-15\n"
     ]
    }
   ],
   "source": [
    "# Bias of the hyperplane/plane/line\n",
    "print('Bias / Intercept of the trained Model:',lin_reg.intercept_)\n",
    "w0=lin_reg.intercept_"
   ]
  },
  {
   "cell_type": "code",
   "execution_count": 47,
   "id": "f77a7ab2",
   "metadata": {},
   "outputs": [],
   "source": [
    "# 'So the model hyperplane equation looks like:' \n",
    "# y = w0 + w1*x1 + w2+x2"
   ]
  },
  {
   "cell_type": "markdown",
   "id": "c2d9cb4d",
   "metadata": {},
   "source": [
    "### let's test the above equation with model's prediction"
   ]
  },
  {
   "cell_type": "code",
   "execution_count": 50,
   "id": "915ea636",
   "metadata": {},
   "outputs": [
    {
     "data": {
      "text/plain": [
       "array([-0.5407594 ,  0.78948126])"
      ]
     },
     "execution_count": 50,
     "metadata": {},
     "output_type": "execute_result"
    }
   ],
   "source": [
    "X_test[1]"
   ]
  },
  {
   "cell_type": "code",
   "execution_count": 53,
   "id": "b6327f55",
   "metadata": {},
   "outputs": [
    {
     "data": {
      "text/plain": [
       "45.47997628373005"
      ]
     },
     "execution_count": 53,
     "metadata": {},
     "output_type": "execute_result"
    }
   ],
   "source": [
    "y_test[1]"
   ]
  },
  {
   "cell_type": "code",
   "execution_count": 57,
   "id": "a7358379",
   "metadata": {},
   "outputs": [
    {
     "data": {
      "text/plain": [
       "45.47997628373006"
      ]
     },
     "execution_count": 57,
     "metadata": {},
     "output_type": "execute_result"
    }
   ],
   "source": [
    "y_pred[1]"
   ]
  },
  {
   "cell_type": "code",
   "execution_count": 54,
   "id": "8241c241",
   "metadata": {},
   "outputs": [],
   "source": [
    "x1 = X_test[1][0]\n",
    "x2 = X_test[1][1]"
   ]
  },
  {
   "cell_type": "code",
   "execution_count": 55,
   "id": "6162e92c",
   "metadata": {},
   "outputs": [],
   "source": [
    "y = w0 + w1*x1 + w2*x2"
   ]
  },
  {
   "cell_type": "code",
   "execution_count": 56,
   "id": "15fcda7d",
   "metadata": {},
   "outputs": [
    {
     "data": {
      "text/plain": [
       "45.47997628373007"
      ]
     },
     "execution_count": 56,
     "metadata": {},
     "output_type": "execute_result"
    }
   ],
   "source": [
    "y"
   ]
  },
  {
   "cell_type": "code",
   "execution_count": null,
   "id": "ef7e59ff",
   "metadata": {},
   "outputs": [],
   "source": []
  },
  {
   "cell_type": "markdown",
   "id": "ac350e5c",
   "metadata": {},
   "source": [
    "### Let's draw the hyperplane/plane found after training the model"
   ]
  },
  {
   "cell_type": "code",
   "execution_count": 69,
   "id": "b3c33522",
   "metadata": {},
   "outputs": [],
   "source": [
    "\n",
    "x = np.linspace(-5, 5, 10)\n",
    "y = np.linspace(-5, 5, 10)\n",
    "xGrid, yGrid = np.meshgrid(y, x)\n",
    "\n",
    "final = np.vstack((xGrid.ravel().reshape(1,100),yGrid.ravel().reshape(1,100))).T\n",
    "\n",
    "z_final = lin_reg.predict(final).reshape(10,10)\n",
    "\n",
    "z = z_final"
   ]
  },
  {
   "cell_type": "code",
   "execution_count": 70,
   "id": "ef2c68ba",
   "metadata": {},
   "outputs": [
    {
     "data": {
      "application/vnd.plotly.v1+json": {
       "config": {
        "plotlyServerURL": "https://plot.ly"
       },
       "data": [
        {
         "hovertemplate": "feature1=%{x}<br>feature2=%{y}<br>target=%{z}<extra></extra>",
         "legendgroup": "",
         "marker": {
          "color": "#636efa",
          "symbol": "circle"
         },
         "mode": "markers",
         "name": "",
         "scene": "scene",
         "showlegend": false,
         "type": "scatter3d",
         "x": [
          -2.7404214310930133,
          0.756298938777305,
          0.7363664016493839,
          1.3978587689737527,
          0.4315219956711879,
          0.3992393097624814,
          0.37376581891640304,
          0.26550829522157426,
          1.5076164674199892,
          -0.4084738821038356,
          1.4793752141996492,
          -0.7474512803501561,
          0.42367773084813654,
          0.5393179012108041,
          -1.0216127703638322,
          0.361988524492243,
          -1.0229940281647134,
          1.0992299653186934,
          -0.38867040479896703,
          -0.44309260579723686,
          -1.5657086853466538,
          -0.24426487891244694,
          0.7651214596299497,
          -0.7937246542055413,
          2.103248775082058,
          0.788015283069314,
          -0.02936313610990527,
          0.463248810246937,
          -1.5560511426554615,
          -1.4112490548387608,
          0.3666164488066735,
          0.2115485467770326,
          -0.9150384302830085,
          0.5741693463565865,
          -1.8092855402207366,
          1.325919604807037,
          0.3533030230113455,
          -1.8570330749671897,
          0.7371764160320069,
          1.0006755220852908,
          -0.43940606264341675,
          -0.9657555627515988,
          -1.5422977390776398,
          -0.45304284867779654,
          1.9804138696806275,
          -1.077638152681857,
          1.1383170838764987,
          -0.8758381740739317,
          -0.674201702848922,
          1.5249600821652416,
          0.3971213371560235,
          1.0190007075457537,
          0.6896264922579272,
          -0.8677473962497055,
          0.6596295998286604,
          -1.1764369620467232,
          0.059540336749803115,
          0.6732152894755405,
          0.4015068969797587,
          0.10198258317231526,
          -1.6371031370099338,
          -0.053028685180200354,
          1.0341963335568753,
          1.5685820876832328,
          0.06072725714055917,
          0.08870149043851416,
          -0.23354654060165633,
          0.9922991509714498,
          -1.42145383084429,
          -0.5269855872603837,
          -2.5330626210269998,
          -1.0201740689171301,
          -1.2005791611210874,
          0.8272720694875421,
          -1.8450583156600675,
          -0.18092820278958718,
          0.6760031111535906,
          2.458145659828142,
          -1.4746528319438896,
          0.57855225373747,
          0.1441841072713185,
          1.1881929564721943,
          -0.9697402518303501,
          0.4958023385859116,
          0.5155446731829938,
          1.1826385105159563,
          -0.8615918403319165,
          0.6253659238010879,
          -0.2692670568115434,
          -0.7285479259428495,
          -1.4943648794959685,
          0.6018325619945405,
          -0.42080175196246494,
          -0.1757096594588406,
          0.3381165367775282,
          0.6270903372238696,
          0.4364941293908397,
          0.25943991723387066,
          0.33614685674755096,
          0.5242078192553201,
          0.8276996436209203,
          -0.7476092780672899,
          -0.8795670462319346,
          -0.8115295449386162,
          -1.245642168810563,
          -1.4935441818769362,
          -0.9214865273016474,
          0.07214463789101971,
          0.5967149191014381,
          -0.004666769379821463,
          -0.07177039778452644,
          -0.23981430334981152,
          0.7597274642458374,
          -1.0380760601413788,
          1.0220724789377242,
          1.8403093831192814,
          0.6574434406283387,
          -0.5790359637334612,
          -1.224370922596681,
          -0.14655813337220688,
          -0.33078505761487786,
          0.10450619270054476,
          0.8173595543913869,
          -1.2838037288797333,
          -1.5740871318788279,
          0.9993927771128988,
          -1.0146695934333507,
          0.6264798087322719,
          -0.6537837571446528,
          1.7846143894260138,
          -1.3663732739145937,
          -0.9792267808770964,
          -0.17985857289103432,
          0.764360540138168,
          0.5829042265224819,
          -0.5590579210307043,
          1.3282113625769036,
          0.14232826531490272,
          0.23140965774215294,
          -0.8640519542183781,
          0.5701080338593009,
          -0.0867012428989616,
          -0.5347702063463131,
          1.2499320520220114,
          -0.08719207241558352,
          -0.5407594004447006,
          0.3310834928944406,
          0.9486170886205822,
          -2.1471444561280726,
          1.6246228584003481,
          -0.4792127902314807,
          0.8103071874540028,
          -1.0830719753648512,
          -0.07510036785025839,
          0.4585456169490373,
          -0.24771740897529315,
          0.5882539190925763,
          -0.001781426547957886,
          -0.5945240120150787,
          0.09283767034450549,
          -1.8221901239478264,
          0.22612918952248434,
          0.6973268011457368,
          -0.3355557206491432,
          0.7548063270781508,
          0.3514795238549474,
          0.4817078740394855,
          -0.3481280582223469,
          -0.11338228445969524,
          0.4213132805346624,
          0.679706215649143,
          0.2678922057840874,
          -0.697393164396531,
          -0.2854040598702138,
          -0.3755280974459029,
          -0.547192975970595,
          1.2588180052829636,
          -1.3274501418934088,
          0.09622499375325567,
          1.6518147387670048,
          -1.1454962582852737,
          1.8341592224631917,
          0.6348895322500112,
          0.44806671653370495,
          0.6646118708011874,
          -1.0948777822705278,
          0.8990198602411588,
          -0.02608153949809387,
          0.47281857579863823,
          0.17574108394044738,
          -1.2153257861235736,
          1.0628430759048824,
          0.8534823574237286,
          -0.110314778797973,
          0.04817021431759646,
          0.6308545670819519,
          -0.04267489862256465,
          -0.4256338314300946,
          -0.18349575338789478,
          -0.1717551809505416
         ],
         "y": [
          0.3449693168652559,
          -1.5536209358804252,
          0.5798529465041892,
          2.2065070404971148,
          -0.864248247043304,
          0.5014608550825753,
          -0.8322472909005199,
          0.4117161109690246,
          1.0497571713361262,
          -0.4840728306429534,
          0.04598486161346908,
          0.8537962653651716,
          1.8548987158552748,
          -0.07129005630226519,
          -1.2408820401641307,
          -1.2034155220763463,
          -1.2910994683972927,
          -0.1583939994627977,
          -0.9172175147725683,
          0.46481149045929215,
          -0.41787177920777363,
          -0.12260306944119817,
          -1.5889876398084362,
          -1.2692401649775849,
          2.007943475011101,
          0.8143540557926388,
          0.5312082845466601,
          0.3679850908585404,
          2.054462827148719,
          0.3939084826824076,
          -0.6601469852165045,
          -0.15426684440142113,
          -0.659499936960472,
          -0.5326546174170824,
          -0.5834741891577425,
          0.31914706090177813,
          -0.2444626990122522,
          -0.11541100209316087,
          0.5922912412389303,
          -0.2679308804119594,
          -0.07550399013802975,
          -0.31556556858057055,
          0.5533980795298881,
          0.20010917260064112,
          -0.017933636622856724,
          0.03242764080775955,
          -2.2575800830841852,
          -0.1606190736526602,
          -1.0021201516090623,
          0.02879034602062702,
          -1.563814404176309,
          -0.29966271054844673,
          0.8448343226877557,
          0.7441021785050004,
          0.24318269341181784,
          0.535624686031647,
          0.020230256612552566,
          -0.19381322333357426,
          0.5623372366344741,
          0.40519734032995075,
          -0.8407484585037434,
          0.8751104073398459,
          0.06792032359047644,
          -0.22188979621150187,
          0.1906852754761893,
          0.3903309519519775,
          -0.05076192178402993,
          -0.9459082271378318,
          -0.302576351503677,
          0.20815020840287127,
          0.8059557369080798,
          -1.9053898329854373,
          0.10232803779958723,
          0.3642085158269869,
          -1.553424143996662,
          2.6608960952643974,
          -0.007317893819040483,
          -0.6325197833323587,
          1.02944200351822,
          0.6269650278651903,
          -1.7025490722464198,
          -0.618292027210444,
          0.17727000524925537,
          0.2389116727194623,
          -0.27020996916092854,
          -2.228654407067271,
          -0.8684103036555167,
          0.17891646153403062,
          -1.696890818479976,
          0.05863236512533004,
          0.9995690974179172,
          0.30308324252845437,
          1.1554038599662713,
          -1.184177500609756,
          0.5412852849643979,
          -0.4302828930783831,
          0.4659153355770083,
          -0.2692795798115742,
          0.041255915578476465,
          -0.20296851004826436,
          0.5104839868659314,
          0.27180927215499145,
          -0.7828795243620958,
          1.1346619139967367,
          -2.0248206561065247,
          1.539770368097492,
          0.465510346708212,
          -0.683814943839369,
          -1.301504892238512,
          0.910316411148885,
          -0.5026762430372367,
          -0.1910208619255626,
          0.4969792319622857,
          -1.3664335860086014,
          0.8156391028867419,
          -1.7850806497584641,
          1.539889351729457,
          -0.14246871266889544,
          0.5194878836182734,
          -0.7572474043434616,
          0.894761609448463,
          -0.7430094672172333,
          -0.5631459178589063,
          0.6588374598336517,
          0.98694613443432,
          0.37685244291479636,
          0.12279473209345895,
          -0.7481762394359939,
          -1.3051952939376201,
          0.6423359525283183,
          -0.2528182663811908,
          0.19072354830391325,
          -0.15396701389988476,
          -0.6597304406373338,
          -0.919365114782285,
          -0.8723639375777668,
          -0.9827029163769265,
          -0.7081940999493784,
          -0.13219332950432539,
          -2.097437383403791,
          -1.0698012071755418,
          1.2378753961858129,
          0.5893481357454812,
          -0.5240075361033153,
          0.0005058003102440981,
          0.7894812587138563,
          0.3787627868541867,
          0.17270657104516052,
          0.5732859776490717,
          1.2535060721701121,
          1.2657334585315427,
          1.5484435505894296,
          -0.8950709906267009,
          -0.25291479781145704,
          -0.6538347005336015,
          0.7518129789509828,
          0.5916190851980656,
          0.5092220636936825,
          0.048118758590599935,
          -0.9600973074210131,
          0.3374962005415619,
          -1.8486262237589968,
          0.8911136370651813,
          -0.9527839619996875,
          -0.0910685381574486,
          0.8357344922137714,
          0.42695571125379794,
          -1.184957645088585,
          -1.2778107581251044,
          -1.095659154027167,
          1.0176237721553842,
          1.2919174861406406,
          -0.03241362551011702,
          1.5693399224094575,
          -0.002021032019801926,
          -2.296039658340236,
          -1.6473966265004216,
          1.0139302845570664,
          0.6848195723977176,
          -0.36556003132188486,
          -0.47289356571621083,
          -0.32743414915638724,
          1.6308535677315084,
          1.4974708600635775,
          -0.1276354770875392,
          0.2793511816252689,
          -0.204821252546674,
          -0.31898441900793495,
          1.366666783347189,
          -0.5997604079188171,
          0.9587549613612666,
          -0.8919098556637698,
          -0.5886757719188691,
          0.8108678569173443,
          0.6364905866313099,
          -1.0649457377633063,
          -2.1722887276820484,
          2.0666677335276735,
          0.4359994127062807,
          -2.100204046056216
         ],
         "z": [
          -48.06363927055246,
          -97.85230056142943,
          64.15645058279664,
          206.03743760222739,
          -54.14005856740725,
          49.03758738090365,
          -53.26881268933461,
          38.57184405227586,
          120.8822849765197,
          -47.96332404496701,
          43.63862933465647,
          44.77264743004805,
          152.81911456216312,
          9.19995116731726,
          -122.2589556417174,
          -81.867659358228,
          -126.12249794157978,
          17.75375518914596,
          -80.427383151104,
          23.39303837702722,
          -74.31492118797092,
          -15.967974412821142,
          -100.30753951224283,
          -118.23702157979695,
          210.0459019339723,
          83.42432535944745,
          39.676180373740806,
          40.60462014445173,
          114.31442146016423,
          -8.274882684663316,
          -40.350439515698106,
          -6.0143475512638735,
          -75.0720826580243,
          -25.005935022973027,
          -93.54035227940216,
          60.28766708776257,
          -9.040615975940955,
          -59.17396467567668,
          65.12610054212354,
          6.734378287891158,
          -17.67361871580811,
          -50.24364227364451,
          0.32132568725304217,
          2.955404045078166,
          52.36171466411394,
          -26.765360441251723,
          -141.12294782573719,
          -35.99882479533359,
          -94.64250564380875,
          43.56528290003466,
          -108.37333040404323,
          4.81388526834048,
          83.07735826154433,
          33.151447444124045,
          36.42367369313806,
          8.89287118853233,
          3.1566574218254067,
          3.4975020642796397,
          53.737281906356415,
          33.638771225095475,
          -108.47083487763358,
          65.23606592779362,
          33.2323139282169,
          25.649399307933276,
          16.175837336192163,
          32.145787750870156,
          -10.203607101065435,
          -45.148008957313024,
          -61.61696073430831,
          1.562005079314502,
          -7.31546655304439,
          -172.84881649010475,
          -24.77500009772553,
          50.19273281629111,
          -168.41140859039712,
          197.82531641038403,
          17.782226310034247,
          18.497086855893144,
          38.426331140974206,
          63.464469047890816,
          -125.80565085613006,
          -14.872364475723186,
          -12.802571015114772,
          31.653676136089903,
          -6.600731160555501,
          -137.71667064279868,
          -89.53898605219275,
          30.597661223492274,
          -136.59136366599,
          -15.298099635642085,
          35.61553007240517,
          39.41948284425638,
          76.61406109849808,
          -94.98951600107682,
          50.41356941445155,
          -15.7704947950064,
          47.34008484819236,
          -13.477895810794703,
          12.262862015298369,
          -1.2425712174361987,
          61.34907053873364,
          0.42673372302630835,
          -83.51005271109784,
          64.43339409788565,
          -188.06514584005112,
          76.79576569755059,
          10.46758972760233,
          -50.14264148682263,
          -82.97303286373352,
          69.23045904961701,
          -40.24604701127807,
          -21.059987638019248,
          58.47607597983693,
          -132.27138066397902,
          89.87214006117061,
          -86.07832834452918,
          135.16052934290846,
          -26.563785860295138,
          6.362972082041551,
          -61.67081107360465,
          59.197838875651044,
          -53.774716098130945,
          -20.731386239197676,
          15.367629885986753,
          32.49094307248387,
          55.82566156473541,
          -18.171966248245024,
          -40.00737322125373,
          -117.17988745186301,
          97.35571241420018,
          -56.33156870809281,
          -12.034911590166354,
          -16.610270164197537,
          -29.528015952678686,
          -54.232458360790844,
          -81.6325522660145,
          -38.83819351183912,
          -50.096028625669305,
          -3.793738562103815,
          -183.24538226309213,
          -66.04135129176825,
          91.96162711423528,
          30.394305664545357,
          -6.013858342317063,
          -2.326959809472723,
          45.47997628373005,
          37.84016506707727,
          38.89424380479976,
          -14.572737910419617,
          139.58027809665737,
          83.43540518064073,
          139.95942541739473,
          -97.57896024832121,
          -21.307047245440266,
          -37.37549326770305,
          50.56017561452774,
          61.034662845696936,
          38.749332900564895,
          -12.463100354709876,
          -70.63121669348776,
          -23.7216555246145,
          -134.71213125417827,
          86.81228951316139,
          -81.6962064377514,
          13.539168627956897,
          73.2102080092229,
          45.598384875787026,
          -99.72661865071701,
          -100.43251563052168,
          -72.04823039691173,
          95.97306341970996,
          105.69911952447904,
          -21.389679598125877,
          111.82517878334117,
          -10.341955807351681,
          -189.78060635155,
          -91.3638735415503,
          41.238060452632524,
          54.78700566299179,
          16.96123341451177,
          -67.10678799147894,
          24.813002207857036,
          141.47921765430783,
          126.24832915671358,
          8.306180536228384,
          -8.419946008077456,
          8.784815041329056,
          -25.011028795150594,
          116.95386903702,
          -40.927977988987934,
          40.076151659454496,
          -39.12003234534613,
          -21.696505859803253,
          58.7872659388448,
          49.80110420761042,
          -64.02337614134368,
          -166.66457914586945,
          145.9122225547277,
          28.240634964331104,
          -164.67435481221906
         ]
        },
        {
         "type": "surface",
         "x": [
          -5,
          -3.888888888888889,
          -2.7777777777777777,
          -1.6666666666666665,
          -0.5555555555555554,
          0.5555555555555554,
          1.666666666666667,
          2.7777777777777786,
          3.8888888888888893,
          5
         ],
         "y": [
          -5,
          -3.888888888888889,
          -2.7777777777777777,
          -1.6666666666666665,
          -0.5555555555555554,
          0.5555555555555554,
          1.666666666666667,
          2.7777777777777786,
          3.8888888888888893,
          5
         ],
         "z": [
          [
           -516.5989434685556,
           -486.4548068537412,
           -456.31067023892683,
           -426.16653362411245,
           -396.02239700929806,
           -365.8782603944837,
           -335.7341237796693,
           -305.58998716485485,
           -275.4458505500405,
           -245.3017139352261
          ],
          [
           -431.9433148681354,
           -401.79917825332103,
           -371.65504163850665,
           -341.51090502369226,
           -311.3667684088779,
           -281.2226317940635,
           -251.07849517924907,
           -220.9343585644347,
           -190.7902219496203,
           -160.64608533480592
          ],
          [
           -347.28768626771523,
           -317.14354965290084,
           -286.99941303808646,
           -256.8552764232721,
           -226.71113980845766,
           -196.56700319364327,
           -166.4228665788289,
           -136.27872996401447,
           -106.1345933492001,
           -75.99045673438572
          ],
          [
           -262.63205766729504,
           -232.48792105248063,
           -202.34378443766624,
           -172.19964782285186,
           -142.05551120803747,
           -111.91137459322309,
           -81.76723797840869,
           -51.62310136359429,
           -21.478964748779894,
           8.665171866034488
          ],
          [
           -177.97642906687486,
           -147.83229245206044,
           -117.68815583724606,
           -87.54401922243166,
           -57.39988260761727,
           -27.255745992802893,
           2.888390622011513,
           33.03252723682591,
           63.1766638516403,
           93.32080046645468
          ],
          [
           -93.32080046645468,
           -63.176663851640285,
           -33.0325272368259,
           -2.8883906220114954,
           27.255745992802893,
           57.39988260761727,
           87.54401922243167,
           117.68815583724607,
           147.83229245206047,
           177.97642906687486
          ],
          [
           -8.66517186603445,
           21.47896474877995,
           51.62310136359434,
           81.76723797840873,
           111.91137459322313,
           142.0555112080375,
           172.19964782285192,
           202.3437844376663,
           232.4879210524807,
           262.6320576672951
          ],
          [
           75.99045673438577,
           106.13459334920017,
           136.27872996401456,
           166.42286657882897,
           196.56700319364336,
           226.71113980845774,
           256.85527642327213,
           286.9994130380865,
           317.1435496529009,
           347.2876862677153
          ],
          [
           160.64608533480595,
           190.79022194962033,
           220.93435856443472,
           251.07849517924913,
           281.2226317940635,
           311.3667684088779,
           341.5109050236923,
           371.6550416385067,
           401.7991782533211,
           431.9433148681355
          ],
          [
           245.3017139352261,
           275.4458505500405,
           305.5899871648549,
           335.7341237796693,
           365.8782603944837,
           396.02239700929806,
           426.16653362411245,
           456.31067023892683,
           486.4548068537413,
           516.5989434685556
          ]
         ]
        }
       ],
       "layout": {
        "legend": {
         "tracegroupgap": 0
        },
        "margin": {
         "t": 60
        },
        "scene": {
         "domain": {
          "x": [
           0,
           1
          ],
          "y": [
           0,
           1
          ]
         },
         "xaxis": {
          "title": {
           "text": "feature1"
          }
         },
         "yaxis": {
          "title": {
           "text": "feature2"
          }
         },
         "zaxis": {
          "title": {
           "text": "target"
          }
         }
        },
        "template": {
         "data": {
          "bar": [
           {
            "error_x": {
             "color": "#2a3f5f"
            },
            "error_y": {
             "color": "#2a3f5f"
            },
            "marker": {
             "line": {
              "color": "#E5ECF6",
              "width": 0.5
             },
             "pattern": {
              "fillmode": "overlay",
              "size": 10,
              "solidity": 0.2
             }
            },
            "type": "bar"
           }
          ],
          "barpolar": [
           {
            "marker": {
             "line": {
              "color": "#E5ECF6",
              "width": 0.5
             },
             "pattern": {
              "fillmode": "overlay",
              "size": 10,
              "solidity": 0.2
             }
            },
            "type": "barpolar"
           }
          ],
          "carpet": [
           {
            "aaxis": {
             "endlinecolor": "#2a3f5f",
             "gridcolor": "white",
             "linecolor": "white",
             "minorgridcolor": "white",
             "startlinecolor": "#2a3f5f"
            },
            "baxis": {
             "endlinecolor": "#2a3f5f",
             "gridcolor": "white",
             "linecolor": "white",
             "minorgridcolor": "white",
             "startlinecolor": "#2a3f5f"
            },
            "type": "carpet"
           }
          ],
          "choropleth": [
           {
            "colorbar": {
             "outlinewidth": 0,
             "ticks": ""
            },
            "type": "choropleth"
           }
          ],
          "contour": [
           {
            "colorbar": {
             "outlinewidth": 0,
             "ticks": ""
            },
            "colorscale": [
             [
              0,
              "#0d0887"
             ],
             [
              0.1111111111111111,
              "#46039f"
             ],
             [
              0.2222222222222222,
              "#7201a8"
             ],
             [
              0.3333333333333333,
              "#9c179e"
             ],
             [
              0.4444444444444444,
              "#bd3786"
             ],
             [
              0.5555555555555556,
              "#d8576b"
             ],
             [
              0.6666666666666666,
              "#ed7953"
             ],
             [
              0.7777777777777778,
              "#fb9f3a"
             ],
             [
              0.8888888888888888,
              "#fdca26"
             ],
             [
              1,
              "#f0f921"
             ]
            ],
            "type": "contour"
           }
          ],
          "contourcarpet": [
           {
            "colorbar": {
             "outlinewidth": 0,
             "ticks": ""
            },
            "type": "contourcarpet"
           }
          ],
          "heatmap": [
           {
            "colorbar": {
             "outlinewidth": 0,
             "ticks": ""
            },
            "colorscale": [
             [
              0,
              "#0d0887"
             ],
             [
              0.1111111111111111,
              "#46039f"
             ],
             [
              0.2222222222222222,
              "#7201a8"
             ],
             [
              0.3333333333333333,
              "#9c179e"
             ],
             [
              0.4444444444444444,
              "#bd3786"
             ],
             [
              0.5555555555555556,
              "#d8576b"
             ],
             [
              0.6666666666666666,
              "#ed7953"
             ],
             [
              0.7777777777777778,
              "#fb9f3a"
             ],
             [
              0.8888888888888888,
              "#fdca26"
             ],
             [
              1,
              "#f0f921"
             ]
            ],
            "type": "heatmap"
           }
          ],
          "heatmapgl": [
           {
            "colorbar": {
             "outlinewidth": 0,
             "ticks": ""
            },
            "colorscale": [
             [
              0,
              "#0d0887"
             ],
             [
              0.1111111111111111,
              "#46039f"
             ],
             [
              0.2222222222222222,
              "#7201a8"
             ],
             [
              0.3333333333333333,
              "#9c179e"
             ],
             [
              0.4444444444444444,
              "#bd3786"
             ],
             [
              0.5555555555555556,
              "#d8576b"
             ],
             [
              0.6666666666666666,
              "#ed7953"
             ],
             [
              0.7777777777777778,
              "#fb9f3a"
             ],
             [
              0.8888888888888888,
              "#fdca26"
             ],
             [
              1,
              "#f0f921"
             ]
            ],
            "type": "heatmapgl"
           }
          ],
          "histogram": [
           {
            "marker": {
             "pattern": {
              "fillmode": "overlay",
              "size": 10,
              "solidity": 0.2
             }
            },
            "type": "histogram"
           }
          ],
          "histogram2d": [
           {
            "colorbar": {
             "outlinewidth": 0,
             "ticks": ""
            },
            "colorscale": [
             [
              0,
              "#0d0887"
             ],
             [
              0.1111111111111111,
              "#46039f"
             ],
             [
              0.2222222222222222,
              "#7201a8"
             ],
             [
              0.3333333333333333,
              "#9c179e"
             ],
             [
              0.4444444444444444,
              "#bd3786"
             ],
             [
              0.5555555555555556,
              "#d8576b"
             ],
             [
              0.6666666666666666,
              "#ed7953"
             ],
             [
              0.7777777777777778,
              "#fb9f3a"
             ],
             [
              0.8888888888888888,
              "#fdca26"
             ],
             [
              1,
              "#f0f921"
             ]
            ],
            "type": "histogram2d"
           }
          ],
          "histogram2dcontour": [
           {
            "colorbar": {
             "outlinewidth": 0,
             "ticks": ""
            },
            "colorscale": [
             [
              0,
              "#0d0887"
             ],
             [
              0.1111111111111111,
              "#46039f"
             ],
             [
              0.2222222222222222,
              "#7201a8"
             ],
             [
              0.3333333333333333,
              "#9c179e"
             ],
             [
              0.4444444444444444,
              "#bd3786"
             ],
             [
              0.5555555555555556,
              "#d8576b"
             ],
             [
              0.6666666666666666,
              "#ed7953"
             ],
             [
              0.7777777777777778,
              "#fb9f3a"
             ],
             [
              0.8888888888888888,
              "#fdca26"
             ],
             [
              1,
              "#f0f921"
             ]
            ],
            "type": "histogram2dcontour"
           }
          ],
          "mesh3d": [
           {
            "colorbar": {
             "outlinewidth": 0,
             "ticks": ""
            },
            "type": "mesh3d"
           }
          ],
          "parcoords": [
           {
            "line": {
             "colorbar": {
              "outlinewidth": 0,
              "ticks": ""
             }
            },
            "type": "parcoords"
           }
          ],
          "pie": [
           {
            "automargin": true,
            "type": "pie"
           }
          ],
          "scatter": [
           {
            "fillpattern": {
             "fillmode": "overlay",
             "size": 10,
             "solidity": 0.2
            },
            "type": "scatter"
           }
          ],
          "scatter3d": [
           {
            "line": {
             "colorbar": {
              "outlinewidth": 0,
              "ticks": ""
             }
            },
            "marker": {
             "colorbar": {
              "outlinewidth": 0,
              "ticks": ""
             }
            },
            "type": "scatter3d"
           }
          ],
          "scattercarpet": [
           {
            "marker": {
             "colorbar": {
              "outlinewidth": 0,
              "ticks": ""
             }
            },
            "type": "scattercarpet"
           }
          ],
          "scattergeo": [
           {
            "marker": {
             "colorbar": {
              "outlinewidth": 0,
              "ticks": ""
             }
            },
            "type": "scattergeo"
           }
          ],
          "scattergl": [
           {
            "marker": {
             "colorbar": {
              "outlinewidth": 0,
              "ticks": ""
             }
            },
            "type": "scattergl"
           }
          ],
          "scattermapbox": [
           {
            "marker": {
             "colorbar": {
              "outlinewidth": 0,
              "ticks": ""
             }
            },
            "type": "scattermapbox"
           }
          ],
          "scatterpolar": [
           {
            "marker": {
             "colorbar": {
              "outlinewidth": 0,
              "ticks": ""
             }
            },
            "type": "scatterpolar"
           }
          ],
          "scatterpolargl": [
           {
            "marker": {
             "colorbar": {
              "outlinewidth": 0,
              "ticks": ""
             }
            },
            "type": "scatterpolargl"
           }
          ],
          "scatterternary": [
           {
            "marker": {
             "colorbar": {
              "outlinewidth": 0,
              "ticks": ""
             }
            },
            "type": "scatterternary"
           }
          ],
          "surface": [
           {
            "colorbar": {
             "outlinewidth": 0,
             "ticks": ""
            },
            "colorscale": [
             [
              0,
              "#0d0887"
             ],
             [
              0.1111111111111111,
              "#46039f"
             ],
             [
              0.2222222222222222,
              "#7201a8"
             ],
             [
              0.3333333333333333,
              "#9c179e"
             ],
             [
              0.4444444444444444,
              "#bd3786"
             ],
             [
              0.5555555555555556,
              "#d8576b"
             ],
             [
              0.6666666666666666,
              "#ed7953"
             ],
             [
              0.7777777777777778,
              "#fb9f3a"
             ],
             [
              0.8888888888888888,
              "#fdca26"
             ],
             [
              1,
              "#f0f921"
             ]
            ],
            "type": "surface"
           }
          ],
          "table": [
           {
            "cells": {
             "fill": {
              "color": "#EBF0F8"
             },
             "line": {
              "color": "white"
             }
            },
            "header": {
             "fill": {
              "color": "#C8D4E3"
             },
             "line": {
              "color": "white"
             }
            },
            "type": "table"
           }
          ]
         },
         "layout": {
          "annotationdefaults": {
           "arrowcolor": "#2a3f5f",
           "arrowhead": 0,
           "arrowwidth": 1
          },
          "autotypenumbers": "strict",
          "coloraxis": {
           "colorbar": {
            "outlinewidth": 0,
            "ticks": ""
           }
          },
          "colorscale": {
           "diverging": [
            [
             0,
             "#8e0152"
            ],
            [
             0.1,
             "#c51b7d"
            ],
            [
             0.2,
             "#de77ae"
            ],
            [
             0.3,
             "#f1b6da"
            ],
            [
             0.4,
             "#fde0ef"
            ],
            [
             0.5,
             "#f7f7f7"
            ],
            [
             0.6,
             "#e6f5d0"
            ],
            [
             0.7,
             "#b8e186"
            ],
            [
             0.8,
             "#7fbc41"
            ],
            [
             0.9,
             "#4d9221"
            ],
            [
             1,
             "#276419"
            ]
           ],
           "sequential": [
            [
             0,
             "#0d0887"
            ],
            [
             0.1111111111111111,
             "#46039f"
            ],
            [
             0.2222222222222222,
             "#7201a8"
            ],
            [
             0.3333333333333333,
             "#9c179e"
            ],
            [
             0.4444444444444444,
             "#bd3786"
            ],
            [
             0.5555555555555556,
             "#d8576b"
            ],
            [
             0.6666666666666666,
             "#ed7953"
            ],
            [
             0.7777777777777778,
             "#fb9f3a"
            ],
            [
             0.8888888888888888,
             "#fdca26"
            ],
            [
             1,
             "#f0f921"
            ]
           ],
           "sequentialminus": [
            [
             0,
             "#0d0887"
            ],
            [
             0.1111111111111111,
             "#46039f"
            ],
            [
             0.2222222222222222,
             "#7201a8"
            ],
            [
             0.3333333333333333,
             "#9c179e"
            ],
            [
             0.4444444444444444,
             "#bd3786"
            ],
            [
             0.5555555555555556,
             "#d8576b"
            ],
            [
             0.6666666666666666,
             "#ed7953"
            ],
            [
             0.7777777777777778,
             "#fb9f3a"
            ],
            [
             0.8888888888888888,
             "#fdca26"
            ],
            [
             1,
             "#f0f921"
            ]
           ]
          },
          "colorway": [
           "#636efa",
           "#EF553B",
           "#00cc96",
           "#ab63fa",
           "#FFA15A",
           "#19d3f3",
           "#FF6692",
           "#B6E880",
           "#FF97FF",
           "#FECB52"
          ],
          "font": {
           "color": "#2a3f5f"
          },
          "geo": {
           "bgcolor": "white",
           "lakecolor": "white",
           "landcolor": "#E5ECF6",
           "showlakes": true,
           "showland": true,
           "subunitcolor": "white"
          },
          "hoverlabel": {
           "align": "left"
          },
          "hovermode": "closest",
          "mapbox": {
           "style": "light"
          },
          "paper_bgcolor": "white",
          "plot_bgcolor": "#E5ECF6",
          "polar": {
           "angularaxis": {
            "gridcolor": "white",
            "linecolor": "white",
            "ticks": ""
           },
           "bgcolor": "#E5ECF6",
           "radialaxis": {
            "gridcolor": "white",
            "linecolor": "white",
            "ticks": ""
           }
          },
          "scene": {
           "xaxis": {
            "backgroundcolor": "#E5ECF6",
            "gridcolor": "white",
            "gridwidth": 2,
            "linecolor": "white",
            "showbackground": true,
            "ticks": "",
            "zerolinecolor": "white"
           },
           "yaxis": {
            "backgroundcolor": "#E5ECF6",
            "gridcolor": "white",
            "gridwidth": 2,
            "linecolor": "white",
            "showbackground": true,
            "ticks": "",
            "zerolinecolor": "white"
           },
           "zaxis": {
            "backgroundcolor": "#E5ECF6",
            "gridcolor": "white",
            "gridwidth": 2,
            "linecolor": "white",
            "showbackground": true,
            "ticks": "",
            "zerolinecolor": "white"
           }
          },
          "shapedefaults": {
           "line": {
            "color": "#2a3f5f"
           }
          },
          "ternary": {
           "aaxis": {
            "gridcolor": "white",
            "linecolor": "white",
            "ticks": ""
           },
           "baxis": {
            "gridcolor": "white",
            "linecolor": "white",
            "ticks": ""
           },
           "bgcolor": "#E5ECF6",
           "caxis": {
            "gridcolor": "white",
            "linecolor": "white",
            "ticks": ""
           }
          },
          "title": {
           "x": 0.05
          },
          "xaxis": {
           "automargin": true,
           "gridcolor": "white",
           "linecolor": "white",
           "ticks": "",
           "title": {
            "standoff": 15
           },
           "zerolinecolor": "white",
           "zerolinewidth": 2
          },
          "yaxis": {
           "automargin": true,
           "gridcolor": "white",
           "linecolor": "white",
           "ticks": "",
           "title": {
            "standoff": 15
           },
           "zerolinecolor": "white",
           "zerolinewidth": 2
          }
         }
        }
       }
      },
      "text/html": [
       "<div>                            <div id=\"92ac6782-ca25-4b5d-ac40-b1892d74f977\" class=\"plotly-graph-div\" style=\"height:525px; width:100%;\"></div>            <script type=\"text/javascript\">                require([\"plotly\"], function(Plotly) {                    window.PLOTLYENV=window.PLOTLYENV || {};                                    if (document.getElementById(\"92ac6782-ca25-4b5d-ac40-b1892d74f977\")) {                    Plotly.newPlot(                        \"92ac6782-ca25-4b5d-ac40-b1892d74f977\",                        [{\"hovertemplate\":\"feature1=%{x}<br>feature2=%{y}<br>target=%{z}<extra></extra>\",\"legendgroup\":\"\",\"marker\":{\"color\":\"#636efa\",\"symbol\":\"circle\"},\"mode\":\"markers\",\"name\":\"\",\"scene\":\"scene\",\"showlegend\":false,\"x\":[-2.7404214310930133,0.756298938777305,0.7363664016493839,1.3978587689737527,0.4315219956711879,0.3992393097624814,0.37376581891640304,0.26550829522157426,1.5076164674199892,-0.4084738821038356,1.4793752141996492,-0.7474512803501561,0.42367773084813654,0.5393179012108041,-1.0216127703638322,0.361988524492243,-1.0229940281647134,1.0992299653186934,-0.38867040479896703,-0.44309260579723686,-1.5657086853466538,-0.24426487891244694,0.7651214596299497,-0.7937246542055413,2.103248775082058,0.788015283069314,-0.02936313610990527,0.463248810246937,-1.5560511426554615,-1.4112490548387608,0.3666164488066735,0.2115485467770326,-0.9150384302830085,0.5741693463565865,-1.8092855402207366,1.325919604807037,0.3533030230113455,-1.8570330749671897,0.7371764160320069,1.0006755220852908,-0.43940606264341675,-0.9657555627515988,-1.5422977390776398,-0.45304284867779654,1.9804138696806275,-1.077638152681857,1.1383170838764987,-0.8758381740739317,-0.674201702848922,1.5249600821652416,0.3971213371560235,1.0190007075457537,0.6896264922579272,-0.8677473962497055,0.6596295998286604,-1.1764369620467232,0.059540336749803115,0.6732152894755405,0.4015068969797587,0.10198258317231526,-1.6371031370099338,-0.053028685180200354,1.0341963335568753,1.5685820876832328,0.06072725714055917,0.08870149043851416,-0.23354654060165633,0.9922991509714498,-1.42145383084429,-0.5269855872603837,-2.5330626210269998,-1.0201740689171301,-1.2005791611210874,0.8272720694875421,-1.8450583156600675,-0.18092820278958718,0.6760031111535906,2.458145659828142,-1.4746528319438896,0.57855225373747,0.1441841072713185,1.1881929564721943,-0.9697402518303501,0.4958023385859116,0.5155446731829938,1.1826385105159563,-0.8615918403319165,0.6253659238010879,-0.2692670568115434,-0.7285479259428495,-1.4943648794959685,0.6018325619945405,-0.42080175196246494,-0.1757096594588406,0.3381165367775282,0.6270903372238696,0.4364941293908397,0.25943991723387066,0.33614685674755096,0.5242078192553201,0.8276996436209203,-0.7476092780672899,-0.8795670462319346,-0.8115295449386162,-1.245642168810563,-1.4935441818769362,-0.9214865273016474,0.07214463789101971,0.5967149191014381,-0.004666769379821463,-0.07177039778452644,-0.23981430334981152,0.7597274642458374,-1.0380760601413788,1.0220724789377242,1.8403093831192814,0.6574434406283387,-0.5790359637334612,-1.224370922596681,-0.14655813337220688,-0.33078505761487786,0.10450619270054476,0.8173595543913869,-1.2838037288797333,-1.5740871318788279,0.9993927771128988,-1.0146695934333507,0.6264798087322719,-0.6537837571446528,1.7846143894260138,-1.3663732739145937,-0.9792267808770964,-0.17985857289103432,0.764360540138168,0.5829042265224819,-0.5590579210307043,1.3282113625769036,0.14232826531490272,0.23140965774215294,-0.8640519542183781,0.5701080338593009,-0.0867012428989616,-0.5347702063463131,1.2499320520220114,-0.08719207241558352,-0.5407594004447006,0.3310834928944406,0.9486170886205822,-2.1471444561280726,1.6246228584003481,-0.4792127902314807,0.8103071874540028,-1.0830719753648512,-0.07510036785025839,0.4585456169490373,-0.24771740897529315,0.5882539190925763,-0.001781426547957886,-0.5945240120150787,0.09283767034450549,-1.8221901239478264,0.22612918952248434,0.6973268011457368,-0.3355557206491432,0.7548063270781508,0.3514795238549474,0.4817078740394855,-0.3481280582223469,-0.11338228445969524,0.4213132805346624,0.679706215649143,0.2678922057840874,-0.697393164396531,-0.2854040598702138,-0.3755280974459029,-0.547192975970595,1.2588180052829636,-1.3274501418934088,0.09622499375325567,1.6518147387670048,-1.1454962582852737,1.8341592224631917,0.6348895322500112,0.44806671653370495,0.6646118708011874,-1.0948777822705278,0.8990198602411588,-0.02608153949809387,0.47281857579863823,0.17574108394044738,-1.2153257861235736,1.0628430759048824,0.8534823574237286,-0.110314778797973,0.04817021431759646,0.6308545670819519,-0.04267489862256465,-0.4256338314300946,-0.18349575338789478,-0.1717551809505416],\"y\":[0.3449693168652559,-1.5536209358804252,0.5798529465041892,2.2065070404971148,-0.864248247043304,0.5014608550825753,-0.8322472909005199,0.4117161109690246,1.0497571713361262,-0.4840728306429534,0.04598486161346908,0.8537962653651716,1.8548987158552748,-0.07129005630226519,-1.2408820401641307,-1.2034155220763463,-1.2910994683972927,-0.1583939994627977,-0.9172175147725683,0.46481149045929215,-0.41787177920777363,-0.12260306944119817,-1.5889876398084362,-1.2692401649775849,2.007943475011101,0.8143540557926388,0.5312082845466601,0.3679850908585404,2.054462827148719,0.3939084826824076,-0.6601469852165045,-0.15426684440142113,-0.659499936960472,-0.5326546174170824,-0.5834741891577425,0.31914706090177813,-0.2444626990122522,-0.11541100209316087,0.5922912412389303,-0.2679308804119594,-0.07550399013802975,-0.31556556858057055,0.5533980795298881,0.20010917260064112,-0.017933636622856724,0.03242764080775955,-2.2575800830841852,-0.1606190736526602,-1.0021201516090623,0.02879034602062702,-1.563814404176309,-0.29966271054844673,0.8448343226877557,0.7441021785050004,0.24318269341181784,0.535624686031647,0.020230256612552566,-0.19381322333357426,0.5623372366344741,0.40519734032995075,-0.8407484585037434,0.8751104073398459,0.06792032359047644,-0.22188979621150187,0.1906852754761893,0.3903309519519775,-0.05076192178402993,-0.9459082271378318,-0.302576351503677,0.20815020840287127,0.8059557369080798,-1.9053898329854373,0.10232803779958723,0.3642085158269869,-1.553424143996662,2.6608960952643974,-0.007317893819040483,-0.6325197833323587,1.02944200351822,0.6269650278651903,-1.7025490722464198,-0.618292027210444,0.17727000524925537,0.2389116727194623,-0.27020996916092854,-2.228654407067271,-0.8684103036555167,0.17891646153403062,-1.696890818479976,0.05863236512533004,0.9995690974179172,0.30308324252845437,1.1554038599662713,-1.184177500609756,0.5412852849643979,-0.4302828930783831,0.4659153355770083,-0.2692795798115742,0.041255915578476465,-0.20296851004826436,0.5104839868659314,0.27180927215499145,-0.7828795243620958,1.1346619139967367,-2.0248206561065247,1.539770368097492,0.465510346708212,-0.683814943839369,-1.301504892238512,0.910316411148885,-0.5026762430372367,-0.1910208619255626,0.4969792319622857,-1.3664335860086014,0.8156391028867419,-1.7850806497584641,1.539889351729457,-0.14246871266889544,0.5194878836182734,-0.7572474043434616,0.894761609448463,-0.7430094672172333,-0.5631459178589063,0.6588374598336517,0.98694613443432,0.37685244291479636,0.12279473209345895,-0.7481762394359939,-1.3051952939376201,0.6423359525283183,-0.2528182663811908,0.19072354830391325,-0.15396701389988476,-0.6597304406373338,-0.919365114782285,-0.8723639375777668,-0.9827029163769265,-0.7081940999493784,-0.13219332950432539,-2.097437383403791,-1.0698012071755418,1.2378753961858129,0.5893481357454812,-0.5240075361033153,0.0005058003102440981,0.7894812587138563,0.3787627868541867,0.17270657104516052,0.5732859776490717,1.2535060721701121,1.2657334585315427,1.5484435505894296,-0.8950709906267009,-0.25291479781145704,-0.6538347005336015,0.7518129789509828,0.5916190851980656,0.5092220636936825,0.048118758590599935,-0.9600973074210131,0.3374962005415619,-1.8486262237589968,0.8911136370651813,-0.9527839619996875,-0.0910685381574486,0.8357344922137714,0.42695571125379794,-1.184957645088585,-1.2778107581251044,-1.095659154027167,1.0176237721553842,1.2919174861406406,-0.03241362551011702,1.5693399224094575,-0.002021032019801926,-2.296039658340236,-1.6473966265004216,1.0139302845570664,0.6848195723977176,-0.36556003132188486,-0.47289356571621083,-0.32743414915638724,1.6308535677315084,1.4974708600635775,-0.1276354770875392,0.2793511816252689,-0.204821252546674,-0.31898441900793495,1.366666783347189,-0.5997604079188171,0.9587549613612666,-0.8919098556637698,-0.5886757719188691,0.8108678569173443,0.6364905866313099,-1.0649457377633063,-2.1722887276820484,2.0666677335276735,0.4359994127062807,-2.100204046056216],\"z\":[-48.06363927055246,-97.85230056142943,64.15645058279664,206.03743760222739,-54.14005856740725,49.03758738090365,-53.26881268933461,38.57184405227586,120.8822849765197,-47.96332404496701,43.63862933465647,44.77264743004805,152.81911456216312,9.19995116731726,-122.2589556417174,-81.867659358228,-126.12249794157978,17.75375518914596,-80.427383151104,23.39303837702722,-74.31492118797092,-15.967974412821142,-100.30753951224283,-118.23702157979695,210.0459019339723,83.42432535944745,39.676180373740806,40.60462014445173,114.31442146016423,-8.274882684663316,-40.350439515698106,-6.0143475512638735,-75.0720826580243,-25.005935022973027,-93.54035227940216,60.28766708776257,-9.040615975940955,-59.17396467567668,65.12610054212354,6.734378287891158,-17.67361871580811,-50.24364227364451,0.32132568725304217,2.955404045078166,52.36171466411394,-26.765360441251723,-141.12294782573719,-35.99882479533359,-94.64250564380875,43.56528290003466,-108.37333040404323,4.81388526834048,83.07735826154433,33.151447444124045,36.42367369313806,8.89287118853233,3.1566574218254067,3.4975020642796397,53.737281906356415,33.638771225095475,-108.47083487763358,65.23606592779362,33.2323139282169,25.649399307933276,16.175837336192163,32.145787750870156,-10.203607101065435,-45.148008957313024,-61.61696073430831,1.562005079314502,-7.31546655304439,-172.84881649010475,-24.77500009772553,50.19273281629111,-168.41140859039712,197.82531641038403,17.782226310034247,18.497086855893144,38.426331140974206,63.464469047890816,-125.80565085613006,-14.872364475723186,-12.802571015114772,31.653676136089903,-6.600731160555501,-137.71667064279868,-89.53898605219275,30.597661223492274,-136.59136366599,-15.298099635642085,35.61553007240517,39.41948284425638,76.61406109849808,-94.98951600107682,50.41356941445155,-15.7704947950064,47.34008484819236,-13.477895810794703,12.262862015298369,-1.2425712174361987,61.34907053873364,0.42673372302630835,-83.51005271109784,64.43339409788565,-188.06514584005112,76.79576569755059,10.46758972760233,-50.14264148682263,-82.97303286373352,69.23045904961701,-40.24604701127807,-21.059987638019248,58.47607597983693,-132.27138066397902,89.87214006117061,-86.07832834452918,135.16052934290846,-26.563785860295138,6.362972082041551,-61.67081107360465,59.197838875651044,-53.774716098130945,-20.731386239197676,15.367629885986753,32.49094307248387,55.82566156473541,-18.171966248245024,-40.00737322125373,-117.17988745186301,97.35571241420018,-56.33156870809281,-12.034911590166354,-16.610270164197537,-29.528015952678686,-54.232458360790844,-81.6325522660145,-38.83819351183912,-50.096028625669305,-3.793738562103815,-183.24538226309213,-66.04135129176825,91.96162711423528,30.394305664545357,-6.013858342317063,-2.326959809472723,45.47997628373005,37.84016506707727,38.89424380479976,-14.572737910419617,139.58027809665737,83.43540518064073,139.95942541739473,-97.57896024832121,-21.307047245440266,-37.37549326770305,50.56017561452774,61.034662845696936,38.749332900564895,-12.463100354709876,-70.63121669348776,-23.7216555246145,-134.71213125417827,86.81228951316139,-81.6962064377514,13.539168627956897,73.2102080092229,45.598384875787026,-99.72661865071701,-100.43251563052168,-72.04823039691173,95.97306341970996,105.69911952447904,-21.389679598125877,111.82517878334117,-10.341955807351681,-189.78060635155,-91.3638735415503,41.238060452632524,54.78700566299179,16.96123341451177,-67.10678799147894,24.813002207857036,141.47921765430783,126.24832915671358,8.306180536228384,-8.419946008077456,8.784815041329056,-25.011028795150594,116.95386903702,-40.927977988987934,40.076151659454496,-39.12003234534613,-21.696505859803253,58.7872659388448,49.80110420761042,-64.02337614134368,-166.66457914586945,145.9122225547277,28.240634964331104,-164.67435481221906],\"type\":\"scatter3d\"},{\"x\":[-5.0,-3.888888888888889,-2.7777777777777777,-1.6666666666666665,-0.5555555555555554,0.5555555555555554,1.666666666666667,2.7777777777777786,3.8888888888888893,5.0],\"y\":[-5.0,-3.888888888888889,-2.7777777777777777,-1.6666666666666665,-0.5555555555555554,0.5555555555555554,1.666666666666667,2.7777777777777786,3.8888888888888893,5.0],\"z\":[[-516.5989434685556,-486.4548068537412,-456.31067023892683,-426.16653362411245,-396.02239700929806,-365.8782603944837,-335.7341237796693,-305.58998716485485,-275.4458505500405,-245.3017139352261],[-431.9433148681354,-401.79917825332103,-371.65504163850665,-341.51090502369226,-311.3667684088779,-281.2226317940635,-251.07849517924907,-220.9343585644347,-190.7902219496203,-160.64608533480592],[-347.28768626771523,-317.14354965290084,-286.99941303808646,-256.8552764232721,-226.71113980845766,-196.56700319364327,-166.4228665788289,-136.27872996401447,-106.1345933492001,-75.99045673438572],[-262.63205766729504,-232.48792105248063,-202.34378443766624,-172.19964782285186,-142.05551120803747,-111.91137459322309,-81.76723797840869,-51.62310136359429,-21.478964748779894,8.665171866034488],[-177.97642906687486,-147.83229245206044,-117.68815583724606,-87.54401922243166,-57.39988260761727,-27.255745992802893,2.888390622011513,33.03252723682591,63.1766638516403,93.32080046645468],[-93.32080046645468,-63.176663851640285,-33.0325272368259,-2.8883906220114954,27.255745992802893,57.39988260761727,87.54401922243167,117.68815583724607,147.83229245206047,177.97642906687486],[-8.66517186603445,21.47896474877995,51.62310136359434,81.76723797840873,111.91137459322313,142.0555112080375,172.19964782285192,202.3437844376663,232.4879210524807,262.6320576672951],[75.99045673438577,106.13459334920017,136.27872996401456,166.42286657882897,196.56700319364336,226.71113980845774,256.85527642327213,286.9994130380865,317.1435496529009,347.2876862677153],[160.64608533480595,190.79022194962033,220.93435856443472,251.07849517924913,281.2226317940635,311.3667684088779,341.5109050236923,371.6550416385067,401.7991782533211,431.9433148681355],[245.3017139352261,275.4458505500405,305.5899871648549,335.7341237796693,365.8782603944837,396.02239700929806,426.16653362411245,456.31067023892683,486.4548068537413,516.5989434685556]],\"type\":\"surface\"}],                        {\"template\":{\"data\":{\"histogram2dcontour\":[{\"type\":\"histogram2dcontour\",\"colorbar\":{\"outlinewidth\":0,\"ticks\":\"\"},\"colorscale\":[[0.0,\"#0d0887\"],[0.1111111111111111,\"#46039f\"],[0.2222222222222222,\"#7201a8\"],[0.3333333333333333,\"#9c179e\"],[0.4444444444444444,\"#bd3786\"],[0.5555555555555556,\"#d8576b\"],[0.6666666666666666,\"#ed7953\"],[0.7777777777777778,\"#fb9f3a\"],[0.8888888888888888,\"#fdca26\"],[1.0,\"#f0f921\"]]}],\"choropleth\":[{\"type\":\"choropleth\",\"colorbar\":{\"outlinewidth\":0,\"ticks\":\"\"}}],\"histogram2d\":[{\"type\":\"histogram2d\",\"colorbar\":{\"outlinewidth\":0,\"ticks\":\"\"},\"colorscale\":[[0.0,\"#0d0887\"],[0.1111111111111111,\"#46039f\"],[0.2222222222222222,\"#7201a8\"],[0.3333333333333333,\"#9c179e\"],[0.4444444444444444,\"#bd3786\"],[0.5555555555555556,\"#d8576b\"],[0.6666666666666666,\"#ed7953\"],[0.7777777777777778,\"#fb9f3a\"],[0.8888888888888888,\"#fdca26\"],[1.0,\"#f0f921\"]]}],\"heatmap\":[{\"type\":\"heatmap\",\"colorbar\":{\"outlinewidth\":0,\"ticks\":\"\"},\"colorscale\":[[0.0,\"#0d0887\"],[0.1111111111111111,\"#46039f\"],[0.2222222222222222,\"#7201a8\"],[0.3333333333333333,\"#9c179e\"],[0.4444444444444444,\"#bd3786\"],[0.5555555555555556,\"#d8576b\"],[0.6666666666666666,\"#ed7953\"],[0.7777777777777778,\"#fb9f3a\"],[0.8888888888888888,\"#fdca26\"],[1.0,\"#f0f921\"]]}],\"heatmapgl\":[{\"type\":\"heatmapgl\",\"colorbar\":{\"outlinewidth\":0,\"ticks\":\"\"},\"colorscale\":[[0.0,\"#0d0887\"],[0.1111111111111111,\"#46039f\"],[0.2222222222222222,\"#7201a8\"],[0.3333333333333333,\"#9c179e\"],[0.4444444444444444,\"#bd3786\"],[0.5555555555555556,\"#d8576b\"],[0.6666666666666666,\"#ed7953\"],[0.7777777777777778,\"#fb9f3a\"],[0.8888888888888888,\"#fdca26\"],[1.0,\"#f0f921\"]]}],\"contourcarpet\":[{\"type\":\"contourcarpet\",\"colorbar\":{\"outlinewidth\":0,\"ticks\":\"\"}}],\"contour\":[{\"type\":\"contour\",\"colorbar\":{\"outlinewidth\":0,\"ticks\":\"\"},\"colorscale\":[[0.0,\"#0d0887\"],[0.1111111111111111,\"#46039f\"],[0.2222222222222222,\"#7201a8\"],[0.3333333333333333,\"#9c179e\"],[0.4444444444444444,\"#bd3786\"],[0.5555555555555556,\"#d8576b\"],[0.6666666666666666,\"#ed7953\"],[0.7777777777777778,\"#fb9f3a\"],[0.8888888888888888,\"#fdca26\"],[1.0,\"#f0f921\"]]}],\"surface\":[{\"type\":\"surface\",\"colorbar\":{\"outlinewidth\":0,\"ticks\":\"\"},\"colorscale\":[[0.0,\"#0d0887\"],[0.1111111111111111,\"#46039f\"],[0.2222222222222222,\"#7201a8\"],[0.3333333333333333,\"#9c179e\"],[0.4444444444444444,\"#bd3786\"],[0.5555555555555556,\"#d8576b\"],[0.6666666666666666,\"#ed7953\"],[0.7777777777777778,\"#fb9f3a\"],[0.8888888888888888,\"#fdca26\"],[1.0,\"#f0f921\"]]}],\"mesh3d\":[{\"type\":\"mesh3d\",\"colorbar\":{\"outlinewidth\":0,\"ticks\":\"\"}}],\"scatter\":[{\"fillpattern\":{\"fillmode\":\"overlay\",\"size\":10,\"solidity\":0.2},\"type\":\"scatter\"}],\"parcoords\":[{\"type\":\"parcoords\",\"line\":{\"colorbar\":{\"outlinewidth\":0,\"ticks\":\"\"}}}],\"scatterpolargl\":[{\"type\":\"scatterpolargl\",\"marker\":{\"colorbar\":{\"outlinewidth\":0,\"ticks\":\"\"}}}],\"bar\":[{\"error_x\":{\"color\":\"#2a3f5f\"},\"error_y\":{\"color\":\"#2a3f5f\"},\"marker\":{\"line\":{\"color\":\"#E5ECF6\",\"width\":0.5},\"pattern\":{\"fillmode\":\"overlay\",\"size\":10,\"solidity\":0.2}},\"type\":\"bar\"}],\"scattergeo\":[{\"type\":\"scattergeo\",\"marker\":{\"colorbar\":{\"outlinewidth\":0,\"ticks\":\"\"}}}],\"scatterpolar\":[{\"type\":\"scatterpolar\",\"marker\":{\"colorbar\":{\"outlinewidth\":0,\"ticks\":\"\"}}}],\"histogram\":[{\"marker\":{\"pattern\":{\"fillmode\":\"overlay\",\"size\":10,\"solidity\":0.2}},\"type\":\"histogram\"}],\"scattergl\":[{\"type\":\"scattergl\",\"marker\":{\"colorbar\":{\"outlinewidth\":0,\"ticks\":\"\"}}}],\"scatter3d\":[{\"type\":\"scatter3d\",\"line\":{\"colorbar\":{\"outlinewidth\":0,\"ticks\":\"\"}},\"marker\":{\"colorbar\":{\"outlinewidth\":0,\"ticks\":\"\"}}}],\"scattermapbox\":[{\"type\":\"scattermapbox\",\"marker\":{\"colorbar\":{\"outlinewidth\":0,\"ticks\":\"\"}}}],\"scatterternary\":[{\"type\":\"scatterternary\",\"marker\":{\"colorbar\":{\"outlinewidth\":0,\"ticks\":\"\"}}}],\"scattercarpet\":[{\"type\":\"scattercarpet\",\"marker\":{\"colorbar\":{\"outlinewidth\":0,\"ticks\":\"\"}}}],\"carpet\":[{\"aaxis\":{\"endlinecolor\":\"#2a3f5f\",\"gridcolor\":\"white\",\"linecolor\":\"white\",\"minorgridcolor\":\"white\",\"startlinecolor\":\"#2a3f5f\"},\"baxis\":{\"endlinecolor\":\"#2a3f5f\",\"gridcolor\":\"white\",\"linecolor\":\"white\",\"minorgridcolor\":\"white\",\"startlinecolor\":\"#2a3f5f\"},\"type\":\"carpet\"}],\"table\":[{\"cells\":{\"fill\":{\"color\":\"#EBF0F8\"},\"line\":{\"color\":\"white\"}},\"header\":{\"fill\":{\"color\":\"#C8D4E3\"},\"line\":{\"color\":\"white\"}},\"type\":\"table\"}],\"barpolar\":[{\"marker\":{\"line\":{\"color\":\"#E5ECF6\",\"width\":0.5},\"pattern\":{\"fillmode\":\"overlay\",\"size\":10,\"solidity\":0.2}},\"type\":\"barpolar\"}],\"pie\":[{\"automargin\":true,\"type\":\"pie\"}]},\"layout\":{\"autotypenumbers\":\"strict\",\"colorway\":[\"#636efa\",\"#EF553B\",\"#00cc96\",\"#ab63fa\",\"#FFA15A\",\"#19d3f3\",\"#FF6692\",\"#B6E880\",\"#FF97FF\",\"#FECB52\"],\"font\":{\"color\":\"#2a3f5f\"},\"hovermode\":\"closest\",\"hoverlabel\":{\"align\":\"left\"},\"paper_bgcolor\":\"white\",\"plot_bgcolor\":\"#E5ECF6\",\"polar\":{\"bgcolor\":\"#E5ECF6\",\"angularaxis\":{\"gridcolor\":\"white\",\"linecolor\":\"white\",\"ticks\":\"\"},\"radialaxis\":{\"gridcolor\":\"white\",\"linecolor\":\"white\",\"ticks\":\"\"}},\"ternary\":{\"bgcolor\":\"#E5ECF6\",\"aaxis\":{\"gridcolor\":\"white\",\"linecolor\":\"white\",\"ticks\":\"\"},\"baxis\":{\"gridcolor\":\"white\",\"linecolor\":\"white\",\"ticks\":\"\"},\"caxis\":{\"gridcolor\":\"white\",\"linecolor\":\"white\",\"ticks\":\"\"}},\"coloraxis\":{\"colorbar\":{\"outlinewidth\":0,\"ticks\":\"\"}},\"colorscale\":{\"sequential\":[[0.0,\"#0d0887\"],[0.1111111111111111,\"#46039f\"],[0.2222222222222222,\"#7201a8\"],[0.3333333333333333,\"#9c179e\"],[0.4444444444444444,\"#bd3786\"],[0.5555555555555556,\"#d8576b\"],[0.6666666666666666,\"#ed7953\"],[0.7777777777777778,\"#fb9f3a\"],[0.8888888888888888,\"#fdca26\"],[1.0,\"#f0f921\"]],\"sequentialminus\":[[0.0,\"#0d0887\"],[0.1111111111111111,\"#46039f\"],[0.2222222222222222,\"#7201a8\"],[0.3333333333333333,\"#9c179e\"],[0.4444444444444444,\"#bd3786\"],[0.5555555555555556,\"#d8576b\"],[0.6666666666666666,\"#ed7953\"],[0.7777777777777778,\"#fb9f3a\"],[0.8888888888888888,\"#fdca26\"],[1.0,\"#f0f921\"]],\"diverging\":[[0,\"#8e0152\"],[0.1,\"#c51b7d\"],[0.2,\"#de77ae\"],[0.3,\"#f1b6da\"],[0.4,\"#fde0ef\"],[0.5,\"#f7f7f7\"],[0.6,\"#e6f5d0\"],[0.7,\"#b8e186\"],[0.8,\"#7fbc41\"],[0.9,\"#4d9221\"],[1,\"#276419\"]]},\"xaxis\":{\"gridcolor\":\"white\",\"linecolor\":\"white\",\"ticks\":\"\",\"title\":{\"standoff\":15},\"zerolinecolor\":\"white\",\"automargin\":true,\"zerolinewidth\":2},\"yaxis\":{\"gridcolor\":\"white\",\"linecolor\":\"white\",\"ticks\":\"\",\"title\":{\"standoff\":15},\"zerolinecolor\":\"white\",\"automargin\":true,\"zerolinewidth\":2},\"scene\":{\"xaxis\":{\"backgroundcolor\":\"#E5ECF6\",\"gridcolor\":\"white\",\"linecolor\":\"white\",\"showbackground\":true,\"ticks\":\"\",\"zerolinecolor\":\"white\",\"gridwidth\":2},\"yaxis\":{\"backgroundcolor\":\"#E5ECF6\",\"gridcolor\":\"white\",\"linecolor\":\"white\",\"showbackground\":true,\"ticks\":\"\",\"zerolinecolor\":\"white\",\"gridwidth\":2},\"zaxis\":{\"backgroundcolor\":\"#E5ECF6\",\"gridcolor\":\"white\",\"linecolor\":\"white\",\"showbackground\":true,\"ticks\":\"\",\"zerolinecolor\":\"white\",\"gridwidth\":2}},\"shapedefaults\":{\"line\":{\"color\":\"#2a3f5f\"}},\"annotationdefaults\":{\"arrowcolor\":\"#2a3f5f\",\"arrowhead\":0,\"arrowwidth\":1},\"geo\":{\"bgcolor\":\"white\",\"landcolor\":\"#E5ECF6\",\"subunitcolor\":\"white\",\"showland\":true,\"showlakes\":true,\"lakecolor\":\"white\"},\"title\":{\"x\":0.05},\"mapbox\":{\"style\":\"light\"}}},\"scene\":{\"domain\":{\"x\":[0.0,1.0],\"y\":[0.0,1.0]},\"xaxis\":{\"title\":{\"text\":\"feature1\"}},\"yaxis\":{\"title\":{\"text\":\"feature2\"}},\"zaxis\":{\"title\":{\"text\":\"target\"}}},\"legend\":{\"tracegroupgap\":0},\"margin\":{\"t\":60}},                        {\"responsive\": true}                    ).then(function(){\n",
       "                            \n",
       "var gd = document.getElementById('92ac6782-ca25-4b5d-ac40-b1892d74f977');\n",
       "var x = new MutationObserver(function (mutations, observer) {{\n",
       "        var display = window.getComputedStyle(gd).display;\n",
       "        if (!display || display === 'none') {{\n",
       "            console.log([gd, 'removed!']);\n",
       "            Plotly.purge(gd);\n",
       "            observer.disconnect();\n",
       "        }}\n",
       "}});\n",
       "\n",
       "// Listen for the removal of the full notebook cells\n",
       "var notebookContainer = gd.closest('#notebook-container');\n",
       "if (notebookContainer) {{\n",
       "    x.observe(notebookContainer, {childList: true});\n",
       "}}\n",
       "\n",
       "// Listen for the clearing of the current output cell\n",
       "var outputEl = gd.closest('.output');\n",
       "if (outputEl) {{\n",
       "    x.observe(outputEl, {childList: true});\n",
       "}}\n",
       "\n",
       "                        })                };                });            </script>        </div>"
      ]
     },
     "metadata": {},
     "output_type": "display_data"
    }
   ],
   "source": [
    "\n",
    "fig = px.scatter_3d(df, x='feature1', y='feature2', z='target')\n",
    "\n",
    "fig.add_trace(go.Surface(x = x, y = y, z =z ))\n",
    "\n",
    "fig.show()"
   ]
  },
  {
   "cell_type": "code",
   "execution_count": null,
   "id": "61637a64",
   "metadata": {},
   "outputs": [],
   "source": []
  }
 ],
 "metadata": {
  "kernelspec": {
   "display_name": "Python 3 (ipykernel)",
   "language": "python",
   "name": "python3"
  },
  "language_info": {
   "codemirror_mode": {
    "name": "ipython",
    "version": 3
   },
   "file_extension": ".py",
   "mimetype": "text/x-python",
   "name": "python",
   "nbconvert_exporter": "python",
   "pygments_lexer": "ipython3",
   "version": "3.11.3"
  }
 },
 "nbformat": 4,
 "nbformat_minor": 5
}
