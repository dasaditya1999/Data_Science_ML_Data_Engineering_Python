{
 "cells": [
  {
   "cell_type": "code",
   "execution_count": 1,
   "id": "93f4430b",
   "metadata": {},
   "outputs": [],
   "source": [
    "import numpy as np\n",
    "import pandas as pd\n",
    "import matplotlib.pyplot as plt\n",
    "import seaborn as sns\n",
    "\n",
    "from sklearn.model_selection import train_test_split"
   ]
  },
  {
   "cell_type": "code",
   "execution_count": 2,
   "id": "e113216c",
   "metadata": {},
   "outputs": [],
   "source": [
    "# ls"
   ]
  },
  {
   "cell_type": "markdown",
   "id": "a6ce68f1",
   "metadata": {},
   "source": [
    "### Random Sampling for Numerical Data"
   ]
  },
  {
   "cell_type": "code",
   "execution_count": 3,
   "id": "7f23aed5",
   "metadata": {},
   "outputs": [],
   "source": [
    "df = pd.read_csv('train-2.csv')"
   ]
  },
  {
   "cell_type": "code",
   "execution_count": 4,
   "id": "69b2601d",
   "metadata": {},
   "outputs": [
    {
     "data": {
      "text/html": [
       "<div>\n",
       "<style scoped>\n",
       "    .dataframe tbody tr th:only-of-type {\n",
       "        vertical-align: middle;\n",
       "    }\n",
       "\n",
       "    .dataframe tbody tr th {\n",
       "        vertical-align: top;\n",
       "    }\n",
       "\n",
       "    .dataframe thead th {\n",
       "        text-align: right;\n",
       "    }\n",
       "</style>\n",
       "<table border=\"1\" class=\"dataframe\">\n",
       "  <thead>\n",
       "    <tr style=\"text-align: right;\">\n",
       "      <th></th>\n",
       "      <th>PassengerId</th>\n",
       "      <th>Survived</th>\n",
       "      <th>Pclass</th>\n",
       "      <th>Name</th>\n",
       "      <th>Sex</th>\n",
       "      <th>Age</th>\n",
       "      <th>SibSp</th>\n",
       "      <th>Parch</th>\n",
       "      <th>Ticket</th>\n",
       "      <th>Fare</th>\n",
       "      <th>Cabin</th>\n",
       "      <th>Embarked</th>\n",
       "    </tr>\n",
       "  </thead>\n",
       "  <tbody>\n",
       "    <tr>\n",
       "      <th>190</th>\n",
       "      <td>191</td>\n",
       "      <td>1</td>\n",
       "      <td>2</td>\n",
       "      <td>Pinsky, Mrs. (Rosa)</td>\n",
       "      <td>female</td>\n",
       "      <td>32.0</td>\n",
       "      <td>0</td>\n",
       "      <td>0</td>\n",
       "      <td>234604</td>\n",
       "      <td>13.0000</td>\n",
       "      <td>NaN</td>\n",
       "      <td>S</td>\n",
       "    </tr>\n",
       "    <tr>\n",
       "      <th>447</th>\n",
       "      <td>448</td>\n",
       "      <td>1</td>\n",
       "      <td>1</td>\n",
       "      <td>Seward, Mr. Frederic Kimber</td>\n",
       "      <td>male</td>\n",
       "      <td>34.0</td>\n",
       "      <td>0</td>\n",
       "      <td>0</td>\n",
       "      <td>113794</td>\n",
       "      <td>26.5500</td>\n",
       "      <td>NaN</td>\n",
       "      <td>S</td>\n",
       "    </tr>\n",
       "    <tr>\n",
       "      <th>47</th>\n",
       "      <td>48</td>\n",
       "      <td>1</td>\n",
       "      <td>3</td>\n",
       "      <td>O'Driscoll, Miss. Bridget</td>\n",
       "      <td>female</td>\n",
       "      <td>NaN</td>\n",
       "      <td>0</td>\n",
       "      <td>0</td>\n",
       "      <td>14311</td>\n",
       "      <td>7.7500</td>\n",
       "      <td>NaN</td>\n",
       "      <td>Q</td>\n",
       "    </tr>\n",
       "    <tr>\n",
       "      <th>769</th>\n",
       "      <td>770</td>\n",
       "      <td>0</td>\n",
       "      <td>3</td>\n",
       "      <td>Gronnestad, Mr. Daniel Danielsen</td>\n",
       "      <td>male</td>\n",
       "      <td>32.0</td>\n",
       "      <td>0</td>\n",
       "      <td>0</td>\n",
       "      <td>8471</td>\n",
       "      <td>8.3625</td>\n",
       "      <td>NaN</td>\n",
       "      <td>S</td>\n",
       "    </tr>\n",
       "    <tr>\n",
       "      <th>404</th>\n",
       "      <td>405</td>\n",
       "      <td>0</td>\n",
       "      <td>3</td>\n",
       "      <td>Oreskovic, Miss. Marija</td>\n",
       "      <td>female</td>\n",
       "      <td>20.0</td>\n",
       "      <td>0</td>\n",
       "      <td>0</td>\n",
       "      <td>315096</td>\n",
       "      <td>8.6625</td>\n",
       "      <td>NaN</td>\n",
       "      <td>S</td>\n",
       "    </tr>\n",
       "  </tbody>\n",
       "</table>\n",
       "</div>"
      ],
      "text/plain": [
       "     PassengerId  Survived  Pclass                              Name     Sex  \\\n",
       "190          191         1       2               Pinsky, Mrs. (Rosa)  female   \n",
       "447          448         1       1       Seward, Mr. Frederic Kimber    male   \n",
       "47            48         1       3         O'Driscoll, Miss. Bridget  female   \n",
       "769          770         0       3  Gronnestad, Mr. Daniel Danielsen    male   \n",
       "404          405         0       3           Oreskovic, Miss. Marija  female   \n",
       "\n",
       "      Age  SibSp  Parch  Ticket     Fare Cabin Embarked  \n",
       "190  32.0      0      0  234604  13.0000   NaN        S  \n",
       "447  34.0      0      0  113794  26.5500   NaN        S  \n",
       "47    NaN      0      0   14311   7.7500   NaN        Q  \n",
       "769  32.0      0      0    8471   8.3625   NaN        S  \n",
       "404  20.0      0      0  315096   8.6625   NaN        S  "
      ]
     },
     "execution_count": 4,
     "metadata": {},
     "output_type": "execute_result"
    }
   ],
   "source": [
    "df.sample(5)"
   ]
  },
  {
   "cell_type": "code",
   "execution_count": 5,
   "id": "efce9b3d",
   "metadata": {},
   "outputs": [
    {
     "data": {
      "text/plain": [
       "Index(['PassengerId', 'Survived', 'Pclass', 'Name', 'Sex', 'Age', 'SibSp',\n",
       "       'Parch', 'Ticket', 'Fare', 'Cabin', 'Embarked'],\n",
       "      dtype='object')"
      ]
     },
     "execution_count": 5,
     "metadata": {},
     "output_type": "execute_result"
    }
   ],
   "source": [
    "df.columns"
   ]
  },
  {
   "cell_type": "code",
   "execution_count": 6,
   "id": "a0793834",
   "metadata": {},
   "outputs": [],
   "source": [
    "df_needed = df[['Survived','Age','Fare']]"
   ]
  },
  {
   "cell_type": "code",
   "execution_count": 7,
   "id": "d90ad976",
   "metadata": {},
   "outputs": [
    {
     "data": {
      "text/plain": [
       "Survived      0\n",
       "Age         177\n",
       "Fare          0\n",
       "dtype: int64"
      ]
     },
     "execution_count": 7,
     "metadata": {},
     "output_type": "execute_result"
    }
   ],
   "source": [
    "df_needed.isnull().sum()"
   ]
  },
  {
   "cell_type": "code",
   "execution_count": 8,
   "id": "d66b2a39",
   "metadata": {},
   "outputs": [
    {
     "data": {
      "text/plain": [
       "Survived      int64\n",
       "Age         float64\n",
       "Fare        float64\n",
       "dtype: object"
      ]
     },
     "execution_count": 8,
     "metadata": {},
     "output_type": "execute_result"
    }
   ],
   "source": [
    "df_needed.dtypes"
   ]
  },
  {
   "cell_type": "code",
   "execution_count": 9,
   "id": "515c3201",
   "metadata": {},
   "outputs": [],
   "source": [
    "# print()"
   ]
  },
  {
   "cell_type": "code",
   "execution_count": 10,
   "id": "bbcc83a4",
   "metadata": {},
   "outputs": [],
   "source": [
    "x = df_needed.drop(columns=['Survived'])\n",
    "y = df['Survived']\n"
   ]
  },
  {
   "cell_type": "code",
   "execution_count": 11,
   "id": "b8ee4771",
   "metadata": {},
   "outputs": [],
   "source": [
    "# x\n",
    "# y"
   ]
  },
  {
   "cell_type": "code",
   "execution_count": 12,
   "id": "45318751",
   "metadata": {},
   "outputs": [],
   "source": [
    "X_train, X_test, y_train, y_test = train_test_split(x,y,test_size=0.2)"
   ]
  },
  {
   "cell_type": "code",
   "execution_count": 13,
   "id": "c9976f56",
   "metadata": {},
   "outputs": [
    {
     "data": {
      "text/html": [
       "<div>\n",
       "<style scoped>\n",
       "    .dataframe tbody tr th:only-of-type {\n",
       "        vertical-align: middle;\n",
       "    }\n",
       "\n",
       "    .dataframe tbody tr th {\n",
       "        vertical-align: top;\n",
       "    }\n",
       "\n",
       "    .dataframe thead th {\n",
       "        text-align: right;\n",
       "    }\n",
       "</style>\n",
       "<table border=\"1\" class=\"dataframe\">\n",
       "  <thead>\n",
       "    <tr style=\"text-align: right;\">\n",
       "      <th></th>\n",
       "      <th>Age</th>\n",
       "      <th>Fare</th>\n",
       "    </tr>\n",
       "  </thead>\n",
       "  <tbody>\n",
       "    <tr>\n",
       "      <th>79</th>\n",
       "      <td>30.0</td>\n",
       "      <td>12.4750</td>\n",
       "    </tr>\n",
       "    <tr>\n",
       "      <th>214</th>\n",
       "      <td>NaN</td>\n",
       "      <td>7.7500</td>\n",
       "    </tr>\n",
       "    <tr>\n",
       "      <th>163</th>\n",
       "      <td>17.0</td>\n",
       "      <td>8.6625</td>\n",
       "    </tr>\n",
       "    <tr>\n",
       "      <th>21</th>\n",
       "      <td>34.0</td>\n",
       "      <td>13.0000</td>\n",
       "    </tr>\n",
       "    <tr>\n",
       "      <th>764</th>\n",
       "      <td>16.0</td>\n",
       "      <td>7.7750</td>\n",
       "    </tr>\n",
       "  </tbody>\n",
       "</table>\n",
       "</div>"
      ],
      "text/plain": [
       "      Age     Fare\n",
       "79   30.0  12.4750\n",
       "214   NaN   7.7500\n",
       "163  17.0   8.6625\n",
       "21   34.0  13.0000\n",
       "764  16.0   7.7750"
      ]
     },
     "execution_count": 13,
     "metadata": {},
     "output_type": "execute_result"
    }
   ],
   "source": [
    "X_train.tail()"
   ]
  },
  {
   "cell_type": "code",
   "execution_count": 14,
   "id": "6401bf70",
   "metadata": {},
   "outputs": [
    {
     "data": {
      "text/plain": [
       "Age     136\n",
       "Fare      0\n",
       "dtype: int64"
      ]
     },
     "execution_count": 14,
     "metadata": {},
     "output_type": "execute_result"
    }
   ],
   "source": [
    "X_train.isnull().sum()"
   ]
  },
  {
   "cell_type": "code",
   "execution_count": 15,
   "id": "f96b5aab",
   "metadata": {},
   "outputs": [],
   "source": [
    "# X_train.dtypes"
   ]
  },
  {
   "cell_type": "code",
   "execution_count": 16,
   "id": "91fed12e",
   "metadata": {},
   "outputs": [],
   "source": [
    "X_train['Age_imputed'] = X_train['Age']\n",
    "X_test['Age_imputed'] = X_test['Age']"
   ]
  },
  {
   "cell_type": "code",
   "execution_count": null,
   "id": "8a903a43",
   "metadata": {},
   "outputs": [],
   "source": []
  },
  {
   "cell_type": "markdown",
   "id": "dc215339",
   "metadata": {},
   "source": [
    "### Replacing the missing data with the random sample data"
   ]
  },
  {
   "cell_type": "markdown",
   "id": "dc038c18",
   "metadata": {},
   "source": [
    "#### X_train missing data replacing with random Sample data"
   ]
  },
  {
   "cell_type": "code",
   "execution_count": 17,
   "id": "b289f7fd",
   "metadata": {},
   "outputs": [],
   "source": [
    "X_train['Age_imputed'][X_train['Age_imputed'].isnull()] = X_train['Age'].dropna().sample(X_train['Age'].isnull().sum()).values"
   ]
  },
  {
   "cell_type": "code",
   "execution_count": 18,
   "id": "f9430e9e",
   "metadata": {},
   "outputs": [
    {
     "data": {
      "text/plain": [
       "0"
      ]
     },
     "execution_count": 18,
     "metadata": {},
     "output_type": "execute_result"
    }
   ],
   "source": [
    "X_train['Age_imputed'].isnull().sum()"
   ]
  },
  {
   "cell_type": "markdown",
   "id": "2dcb16e1",
   "metadata": {},
   "source": [
    "#### X_test missing data replacing with random sample data"
   ]
  },
  {
   "cell_type": "code",
   "execution_count": 19,
   "id": "d85619eb",
   "metadata": {},
   "outputs": [
    {
     "data": {
      "text/plain": [
       "41"
      ]
     },
     "execution_count": 19,
     "metadata": {},
     "output_type": "execute_result"
    }
   ],
   "source": [
    "X_test['Age_imputed'].isnull().sum()"
   ]
  },
  {
   "cell_type": "code",
   "execution_count": 20,
   "id": "0d605c1c",
   "metadata": {},
   "outputs": [],
   "source": [
    "X_test['Age_imputed'][X_test['Age_imputed'].isnull()] = X_test['Age'].dropna().sample(X_test['Age'].isnull().sum()).values"
   ]
  },
  {
   "cell_type": "code",
   "execution_count": 22,
   "id": "344b3acb",
   "metadata": {},
   "outputs": [
    {
     "data": {
      "text/plain": [
       "0"
      ]
     },
     "execution_count": 22,
     "metadata": {},
     "output_type": "execute_result"
    }
   ],
   "source": [
    "X_test['Age_imputed'].isnull().sum()"
   ]
  },
  {
   "cell_type": "code",
   "execution_count": 23,
   "id": "89177d5f",
   "metadata": {},
   "outputs": [
    {
     "data": {
      "text/plain": [
       "Age            136\n",
       "Fare             0\n",
       "Age_imputed      0\n",
       "dtype: int64"
      ]
     },
     "execution_count": 23,
     "metadata": {},
     "output_type": "execute_result"
    }
   ],
   "source": [
    "X_train.isnull().sum()"
   ]
  },
  {
   "cell_type": "code",
   "execution_count": 24,
   "id": "8a2fa42f",
   "metadata": {},
   "outputs": [
    {
     "data": {
      "text/plain": [
       "Age            41\n",
       "Fare            0\n",
       "Age_imputed     0\n",
       "dtype: int64"
      ]
     },
     "execution_count": 24,
     "metadata": {},
     "output_type": "execute_result"
    }
   ],
   "source": [
    "X_test.isnull().sum()"
   ]
  },
  {
   "cell_type": "code",
   "execution_count": 25,
   "id": "327a0f03",
   "metadata": {},
   "outputs": [
    {
     "data": {
      "text/plain": [
       "(712, 3)"
      ]
     },
     "execution_count": 25,
     "metadata": {},
     "output_type": "execute_result"
    }
   ],
   "source": [
    "X_train.shape"
   ]
  },
  {
   "cell_type": "code",
   "execution_count": 26,
   "id": "34fbdb40",
   "metadata": {},
   "outputs": [
    {
     "data": {
      "text/plain": [
       "(179, 3)"
      ]
     },
     "execution_count": 26,
     "metadata": {},
     "output_type": "execute_result"
    }
   ],
   "source": [
    "X_test.shape"
   ]
  },
  {
   "cell_type": "code",
   "execution_count": 28,
   "id": "74008965",
   "metadata": {},
   "outputs": [
    {
     "data": {
      "text/plain": [
       "pandas.core.series.Series"
      ]
     },
     "execution_count": 28,
     "metadata": {},
     "output_type": "execute_result"
    }
   ],
   "source": [
    "type(X_train['Age'])"
   ]
  },
  {
   "cell_type": "code",
   "execution_count": 37,
   "id": "0a6707ee",
   "metadata": {},
   "outputs": [],
   "source": [
    "# X_train['Age'].values"
   ]
  },
  {
   "cell_type": "markdown",
   "id": "e38d4dbb",
   "metadata": {},
   "source": [
    "#### To convert the Pandas Series into numpy array: we need to use .values"
   ]
  },
  {
   "cell_type": "code",
   "execution_count": 48,
   "id": "e2bf8c33",
   "metadata": {},
   "outputs": [],
   "source": [
    "# X_train.loc[ X_train['Age'] == 'NaN', 'Age']"
   ]
  },
  {
   "cell_type": "code",
   "execution_count": 58,
   "id": "bd90c6cf",
   "metadata": {},
   "outputs": [],
   "source": [
    "# X_train.loc[X_train['Age']==30.0]"
   ]
  },
  {
   "cell_type": "markdown",
   "id": "949cdbad",
   "metadata": {},
   "source": [
    "### Now visualizing the Age data vs age_imputed data"
   ]
  },
  {
   "cell_type": "code",
   "execution_count": 59,
   "id": "b128cb8a",
   "metadata": {},
   "outputs": [
    {
     "data": {
      "text/plain": [
       "Index(['Age', 'Fare', 'Age_imputed'], dtype='object')"
      ]
     },
     "execution_count": 59,
     "metadata": {},
     "output_type": "execute_result"
    }
   ],
   "source": [
    "X_train.columns"
   ]
  },
  {
   "cell_type": "code",
   "execution_count": 72,
   "id": "6649b76a",
   "metadata": {},
   "outputs": [
    {
     "data": {
      "text/plain": [
       "<Axes: ylabel='Density'>"
      ]
     },
     "execution_count": 72,
     "metadata": {},
     "output_type": "execute_result"
    },
    {
     "data": {
      "image/png": "[encoded data removed]",
      "text/plain": [
       "<Figure size 640x480 with 1 Axes>"
      ]
     },
     "metadata": {},
     "output_type": "display_data"
    }
   ],
   "source": [
    "X_train['Age'].plot(kind='kde', color='Green', legend=True)\n",
    "X_train['Age_imputed'].plot(kind='kde', color='Red', legend=True)\n"
   ]
  },
  {
   "cell_type": "code",
   "execution_count": 76,
   "id": "1874b479",
   "metadata": {},
   "outputs": [
    {
     "data": {
      "text/plain": [
       "<Axes: >"
      ]
     },
     "execution_count": 76,
     "metadata": {},
     "output_type": "execute_result"
    },
    {
     "data": {
      "image/png": "[encoded data removed]",
      "text/plain": [
       "<Figure size 640x480 with 1 Axes>"
      ]
     },
     "metadata": {},
     "output_type": "display_data"
    }
   ],
   "source": [
    "X_train[['Age', 'Age_imputed']].boxplot()"
   ]
  },
  {
   "cell_type": "markdown",
   "id": "e848b108",
   "metadata": {},
   "source": [
    "#### We can see the distribution is remaining as it is after doing random sampling. The Outlier is also pretty much same before & after the random sampling"
   ]
  },
  {
   "cell_type": "code",
   "execution_count": null,
   "id": "296bb4fc",
   "metadata": {},
   "outputs": [],
   "source": []
  },
  {
   "cell_type": "code",
   "execution_count": null,
   "id": "dd0b5be4",
   "metadata": {},
   "outputs": [],
   "source": [
    "X_train['Age_imputed'][X_train['Age_imputed'].isnull()] = X_train['Age'].dropna().sample(X_train['Age'].isnull().sum()).values"
   ]
  },
  {
   "cell_type": "markdown",
   "id": "0f501d63",
   "metadata": {},
   "source": [
    "#### To Handle the production & to make sure that a particular input should have only one particular output, we have to make sure the input is consistent for a particular input value."
   ]
  },
  {
   "cell_type": "code",
   "execution_count": 80,
   "id": "e7280ff6",
   "metadata": {},
   "outputs": [],
   "source": [
    "# sampled_value = X_train['Age'].dropna().sample(1, random_state=int(observation['Fare']))"
   ]
  },
  {
   "cell_type": "code",
   "execution_count": null,
   "id": "0dbb2dc7",
   "metadata": {},
   "outputs": [],
   "source": []
  },
  {
   "cell_type": "markdown",
   "id": "14c53515",
   "metadata": {},
   "source": [
    "### Random Sampling for Categorical Data"
   ]
  },
  {
   "cell_type": "code",
   "execution_count": 81,
   "id": "6ece460d",
   "metadata": {},
   "outputs": [],
   "source": [
    "house_df = pd.read_csv('house-train.csv')"
   ]
  },
  {
   "cell_type": "code",
   "execution_count": 83,
   "id": "40c1c578",
   "metadata": {},
   "outputs": [
    {
     "data": {
      "text/plain": [
       "Index(['Id', 'MSSubClass', 'MSZoning', 'LotFrontage', 'LotArea', 'Street',\n",
       "       'Alley', 'LotShape', 'LandContour', 'Utilities', 'LotConfig',\n",
       "       'LandSlope', 'Neighborhood', 'Condition1', 'Condition2', 'BldgType',\n",
       "       'HouseStyle', 'OverallQual', 'OverallCond', 'YearBuilt', 'YearRemodAdd',\n",
       "       'RoofStyle', 'RoofMatl', 'Exterior1st', 'Exterior2nd', 'MasVnrType',\n",
       "       'MasVnrArea', 'ExterQual', 'ExterCond', 'Foundation', 'BsmtQual',\n",
       "       'BsmtCond', 'BsmtExposure', 'BsmtFinType1', 'BsmtFinSF1',\n",
       "       'BsmtFinType2', 'BsmtFinSF2', 'BsmtUnfSF', 'TotalBsmtSF', 'Heating',\n",
       "       'HeatingQC', 'CentralAir', 'Electrical', '1stFlrSF', '2ndFlrSF',\n",
       "       'LowQualFinSF', 'GrLivArea', 'BsmtFullBath', 'BsmtHalfBath', 'FullBath',\n",
       "       'HalfBath', 'BedroomAbvGr', 'KitchenAbvGr', 'KitchenQual',\n",
       "       'TotRmsAbvGrd', 'Functional', 'Fireplaces', 'FireplaceQu', 'GarageType',\n",
       "       'GarageYrBlt', 'GarageFinish', 'GarageCars', 'GarageArea', 'GarageQual',\n",
       "       'GarageCond', 'PavedDrive', 'WoodDeckSF', 'OpenPorchSF',\n",
       "       'EnclosedPorch', '3SsnPorch', 'ScreenPorch', 'PoolArea', 'PoolQC',\n",
       "       'Fence', 'MiscFeature', 'MiscVal', 'MoSold', 'YrSold', 'SaleType',\n",
       "       'SaleCondition', 'SalePrice'],\n",
       "      dtype='object')"
      ]
     },
     "execution_count": 83,
     "metadata": {},
     "output_type": "execute_result"
    }
   ],
   "source": [
    "house_df.columns"
   ]
  },
  {
   "cell_type": "code",
   "execution_count": 85,
   "id": "87498020",
   "metadata": {},
   "outputs": [
    {
     "data": {
      "text/html": [
       "<div>\n",
       "<style scoped>\n",
       "    .dataframe tbody tr th:only-of-type {\n",
       "        vertical-align: middle;\n",
       "    }\n",
       "\n",
       "    .dataframe tbody tr th {\n",
       "        vertical-align: top;\n",
       "    }\n",
       "\n",
       "    .dataframe thead th {\n",
       "        text-align: right;\n",
       "    }\n",
       "</style>\n",
       "<table border=\"1\" class=\"dataframe\">\n",
       "  <thead>\n",
       "    <tr style=\"text-align: right;\">\n",
       "      <th></th>\n",
       "      <th>FireplaceQu</th>\n",
       "      <th>GarageQual</th>\n",
       "      <th>SalePrice</th>\n",
       "    </tr>\n",
       "  </thead>\n",
       "  <tbody>\n",
       "    <tr>\n",
       "      <th>526</th>\n",
       "      <td>NaN</td>\n",
       "      <td>TA</td>\n",
       "      <td>132000</td>\n",
       "    </tr>\n",
       "    <tr>\n",
       "      <th>1110</th>\n",
       "      <td>TA</td>\n",
       "      <td>TA</td>\n",
       "      <td>188000</td>\n",
       "    </tr>\n",
       "    <tr>\n",
       "      <th>178</th>\n",
       "      <td>Gd</td>\n",
       "      <td>TA</td>\n",
       "      <td>501837</td>\n",
       "    </tr>\n",
       "    <tr>\n",
       "      <th>1003</th>\n",
       "      <td>NaN</td>\n",
       "      <td>TA</td>\n",
       "      <td>136905</td>\n",
       "    </tr>\n",
       "    <tr>\n",
       "      <th>504</th>\n",
       "      <td>Fa</td>\n",
       "      <td>TA</td>\n",
       "      <td>147000</td>\n",
       "    </tr>\n",
       "    <tr>\n",
       "      <th>1047</th>\n",
       "      <td>NaN</td>\n",
       "      <td>TA</td>\n",
       "      <td>145000</td>\n",
       "    </tr>\n",
       "    <tr>\n",
       "      <th>457</th>\n",
       "      <td>Gd</td>\n",
       "      <td>TA</td>\n",
       "      <td>256000</td>\n",
       "    </tr>\n",
       "    <tr>\n",
       "      <th>733</th>\n",
       "      <td>TA</td>\n",
       "      <td>TA</td>\n",
       "      <td>131400</td>\n",
       "    </tr>\n",
       "    <tr>\n",
       "      <th>924</th>\n",
       "      <td>TA</td>\n",
       "      <td>TA</td>\n",
       "      <td>207500</td>\n",
       "    </tr>\n",
       "    <tr>\n",
       "      <th>522</th>\n",
       "      <td>Gd</td>\n",
       "      <td>TA</td>\n",
       "      <td>159000</td>\n",
       "    </tr>\n",
       "  </tbody>\n",
       "</table>\n",
       "</div>"
      ],
      "text/plain": [
       "     FireplaceQu GarageQual  SalePrice\n",
       "526          NaN         TA     132000\n",
       "1110          TA         TA     188000\n",
       "178           Gd         TA     501837\n",
       "1003         NaN         TA     136905\n",
       "504           Fa         TA     147000\n",
       "1047         NaN         TA     145000\n",
       "457           Gd         TA     256000\n",
       "733           TA         TA     131400\n",
       "924           TA         TA     207500\n",
       "522           Gd         TA     159000"
      ]
     },
     "execution_count": 85,
     "metadata": {},
     "output_type": "execute_result"
    }
   ],
   "source": [
    "house_needed_df = house_df[['FireplaceQu', 'GarageQual', 'SalePrice']]\n",
    "house_needed_df.sample(10)"
   ]
  },
  {
   "cell_type": "code",
   "execution_count": 87,
   "id": "52721480",
   "metadata": {},
   "outputs": [
    {
     "data": {
      "text/plain": [
       "FireplaceQu    object\n",
       "GarageQual     object\n",
       "SalePrice       int64\n",
       "dtype: object"
      ]
     },
     "execution_count": 87,
     "metadata": {},
     "output_type": "execute_result"
    }
   ],
   "source": [
    "house_needed_df.dtypes"
   ]
  },
  {
   "cell_type": "code",
   "execution_count": 91,
   "id": "cad635ff",
   "metadata": {},
   "outputs": [],
   "source": [
    "# house_needed_df.loc[house_needed_df['FireplaceQu']=='TA']"
   ]
  },
  {
   "cell_type": "code",
   "execution_count": 92,
   "id": "31b33833",
   "metadata": {},
   "outputs": [
    {
     "data": {
      "text/plain": [
       "FireplaceQu    690\n",
       "GarageQual      81\n",
       "SalePrice        0\n",
       "dtype: int64"
      ]
     },
     "execution_count": 92,
     "metadata": {},
     "output_type": "execute_result"
    }
   ],
   "source": [
    "house_needed_df.isnull().sum()"
   ]
  },
  {
   "cell_type": "code",
   "execution_count": 96,
   "id": "28ca16b0",
   "metadata": {},
   "outputs": [
    {
     "name": "stdout",
     "output_type": "stream",
     "text": [
      "Missing in Percentage\n"
     ]
    },
    {
     "data": {
      "text/plain": [
       "FireplaceQu    47.260274\n",
       "GarageQual      5.547945\n",
       "SalePrice       0.000000\n",
       "dtype: float64"
      ]
     },
     "execution_count": 96,
     "metadata": {},
     "output_type": "execute_result"
    }
   ],
   "source": [
    "print(\"Missing in Percentage\")\n",
    "house_needed_df.isnull().mean()*100"
   ]
  },
  {
   "cell_type": "code",
   "execution_count": null,
   "id": "ec2e4081",
   "metadata": {},
   "outputs": [],
   "source": []
  },
  {
   "cell_type": "markdown",
   "id": "0db50aaa",
   "metadata": {},
   "source": [
    "#### Train Test Split"
   ]
  },
  {
   "cell_type": "code",
   "execution_count": 97,
   "id": "d5721f71",
   "metadata": {},
   "outputs": [],
   "source": [
    "X = house_needed_df\n",
    "y = house_needed_df['SalePrice']"
   ]
  },
  {
   "cell_type": "code",
   "execution_count": 98,
   "id": "f41dda5d",
   "metadata": {},
   "outputs": [],
   "source": [
    "X_train, X_test, y_train, y_test = train_test_split(X,y,test_size=0.2)"
   ]
  },
  {
   "cell_type": "code",
   "execution_count": 102,
   "id": "2c0729db",
   "metadata": {},
   "outputs": [],
   "source": [
    "# X_test"
   ]
  },
  {
   "cell_type": "markdown",
   "id": "e75fb0a5",
   "metadata": {},
   "source": [
    "#### Now to understand better & compare the data we will add a new column to the existing dataframe."
   ]
  },
  {
   "cell_type": "code",
   "execution_count": 103,
   "id": "1b02036d",
   "metadata": {},
   "outputs": [],
   "source": [
    "X_train['Imputed_FireplaceQu'] = X_train['FireplaceQu']\n",
    "X_train['Imputed_GarageQual'] = X_train['GarageQual']\n",
    "\n",
    "X_test['Imputed_FireplaceQu'] = X_test['FireplaceQu']\n",
    "X_test['Imputed_GarageQual'] = X_test['GarageQual']"
   ]
  },
  {
   "cell_type": "code",
   "execution_count": 104,
   "id": "00273d92",
   "metadata": {},
   "outputs": [
    {
     "data": {
      "text/html": [
       "<div>\n",
       "<style scoped>\n",
       "    .dataframe tbody tr th:only-of-type {\n",
       "        vertical-align: middle;\n",
       "    }\n",
       "\n",
       "    .dataframe tbody tr th {\n",
       "        vertical-align: top;\n",
       "    }\n",
       "\n",
       "    .dataframe thead th {\n",
       "        text-align: right;\n",
       "    }\n",
       "</style>\n",
       "<table border=\"1\" class=\"dataframe\">\n",
       "  <thead>\n",
       "    <tr style=\"text-align: right;\">\n",
       "      <th></th>\n",
       "      <th>FireplaceQu</th>\n",
       "      <th>GarageQual</th>\n",
       "      <th>SalePrice</th>\n",
       "      <th>Imputed_FireplaceQu</th>\n",
       "      <th>Imputed_GarageQual</th>\n",
       "    </tr>\n",
       "  </thead>\n",
       "  <tbody>\n",
       "    <tr>\n",
       "      <th>800</th>\n",
       "      <td>NaN</td>\n",
       "      <td>TA</td>\n",
       "      <td>200000</td>\n",
       "      <td>NaN</td>\n",
       "      <td>TA</td>\n",
       "    </tr>\n",
       "    <tr>\n",
       "      <th>114</th>\n",
       "      <td>TA</td>\n",
       "      <td>TA</td>\n",
       "      <td>259500</td>\n",
       "      <td>TA</td>\n",
       "      <td>TA</td>\n",
       "    </tr>\n",
       "    <tr>\n",
       "      <th>883</th>\n",
       "      <td>NaN</td>\n",
       "      <td>TA</td>\n",
       "      <td>118500</td>\n",
       "      <td>NaN</td>\n",
       "      <td>TA</td>\n",
       "    </tr>\n",
       "    <tr>\n",
       "      <th>1143</th>\n",
       "      <td>NaN</td>\n",
       "      <td>NaN</td>\n",
       "      <td>80000</td>\n",
       "      <td>NaN</td>\n",
       "      <td>NaN</td>\n",
       "    </tr>\n",
       "    <tr>\n",
       "      <th>1148</th>\n",
       "      <td>Gd</td>\n",
       "      <td>TA</td>\n",
       "      <td>116900</td>\n",
       "      <td>Gd</td>\n",
       "      <td>TA</td>\n",
       "    </tr>\n",
       "  </tbody>\n",
       "</table>\n",
       "</div>"
      ],
      "text/plain": [
       "     FireplaceQu GarageQual  SalePrice Imputed_FireplaceQu Imputed_GarageQual\n",
       "800          NaN         TA     200000                 NaN                 TA\n",
       "114           TA         TA     259500                  TA                 TA\n",
       "883          NaN         TA     118500                 NaN                 TA\n",
       "1143         NaN        NaN      80000                 NaN                NaN\n",
       "1148          Gd         TA     116900                  Gd                 TA"
      ]
     },
     "execution_count": 104,
     "metadata": {},
     "output_type": "execute_result"
    }
   ],
   "source": [
    "X_train.head()"
   ]
  },
  {
   "cell_type": "code",
   "execution_count": 105,
   "id": "b0619397",
   "metadata": {},
   "outputs": [
    {
     "data": {
      "text/html": [
       "<div>\n",
       "<style scoped>\n",
       "    .dataframe tbody tr th:only-of-type {\n",
       "        vertical-align: middle;\n",
       "    }\n",
       "\n",
       "    .dataframe tbody tr th {\n",
       "        vertical-align: top;\n",
       "    }\n",
       "\n",
       "    .dataframe thead th {\n",
       "        text-align: right;\n",
       "    }\n",
       "</style>\n",
       "<table border=\"1\" class=\"dataframe\">\n",
       "  <thead>\n",
       "    <tr style=\"text-align: right;\">\n",
       "      <th></th>\n",
       "      <th>FireplaceQu</th>\n",
       "      <th>GarageQual</th>\n",
       "      <th>SalePrice</th>\n",
       "      <th>Imputed_FireplaceQu</th>\n",
       "      <th>Imputed_GarageQual</th>\n",
       "    </tr>\n",
       "  </thead>\n",
       "  <tbody>\n",
       "    <tr>\n",
       "      <th>1067</th>\n",
       "      <td>NaN</td>\n",
       "      <td>TA</td>\n",
       "      <td>167900</td>\n",
       "      <td>NaN</td>\n",
       "      <td>TA</td>\n",
       "    </tr>\n",
       "    <tr>\n",
       "      <th>661</th>\n",
       "      <td>TA</td>\n",
       "      <td>TA</td>\n",
       "      <td>402000</td>\n",
       "      <td>TA</td>\n",
       "      <td>TA</td>\n",
       "    </tr>\n",
       "    <tr>\n",
       "      <th>684</th>\n",
       "      <td>NaN</td>\n",
       "      <td>TA</td>\n",
       "      <td>221000</td>\n",
       "      <td>NaN</td>\n",
       "      <td>TA</td>\n",
       "    </tr>\n",
       "    <tr>\n",
       "      <th>937</th>\n",
       "      <td>Gd</td>\n",
       "      <td>TA</td>\n",
       "      <td>253000</td>\n",
       "      <td>Gd</td>\n",
       "      <td>TA</td>\n",
       "    </tr>\n",
       "    <tr>\n",
       "      <th>1445</th>\n",
       "      <td>NaN</td>\n",
       "      <td>TA</td>\n",
       "      <td>129000</td>\n",
       "      <td>NaN</td>\n",
       "      <td>TA</td>\n",
       "    </tr>\n",
       "  </tbody>\n",
       "</table>\n",
       "</div>"
      ],
      "text/plain": [
       "     FireplaceQu GarageQual  SalePrice Imputed_FireplaceQu Imputed_GarageQual\n",
       "1067         NaN         TA     167900                 NaN                 TA\n",
       "661           TA         TA     402000                  TA                 TA\n",
       "684          NaN         TA     221000                 NaN                 TA\n",
       "937           Gd         TA     253000                  Gd                 TA\n",
       "1445         NaN         TA     129000                 NaN                 TA"
      ]
     },
     "execution_count": 105,
     "metadata": {},
     "output_type": "execute_result"
    }
   ],
   "source": [
    "X_test.head()"
   ]
  },
  {
   "cell_type": "code",
   "execution_count": null,
   "id": "d1c4daa6",
   "metadata": {},
   "outputs": [],
   "source": []
  },
  {
   "cell_type": "markdown",
   "id": "f5dd0a54",
   "metadata": {},
   "source": [
    "#### Random sample imputing for NaN values"
   ]
  },
  {
   "cell_type": "code",
   "execution_count": 107,
   "id": "c7924280",
   "metadata": {},
   "outputs": [
    {
     "data": {
      "text/plain": [
       "531"
      ]
     },
     "execution_count": 107,
     "metadata": {},
     "output_type": "execute_result"
    }
   ],
   "source": [
    "print(X_train['Imputed_FireplaceQu'].isnull().sum())\n",
    "print(X_train['Imputed_GarageQual'].isnull().sum())"
   ]
  },
  {
   "cell_type": "code",
   "execution_count": 108,
   "id": "2c700359",
   "metadata": {},
   "outputs": [
    {
     "name": "stderr",
     "output_type": "stream",
     "text": [
      "/var/folders/03/17q0xl853nxgk_46r8x0vbkr0000gn/T/ipykernel_3289/4139863110.py:1: SettingWithCopyWarning: \n",
      "A value is trying to be set on a copy of a slice from a DataFrame\n",
      "\n",
      "See the caveats in the documentation: https://pandas.pydata.org/pandas-docs/stable/user_guide/indexing.html#returning-a-view-versus-a-copy\n",
      "  X_train['Imputed_FireplaceQu'][X_train['Imputed_FireplaceQu'].isnull()] = X_train['FireplaceQu'].dropna().sample(X_train['Imputed_FireplaceQu'].isnull().sum()).values\n"
     ]
    }
   ],
   "source": [
    "X_train['Imputed_FireplaceQu'][X_train['Imputed_FireplaceQu'].isnull()] = X_train['FireplaceQu'].dropna().sample(X_train['Imputed_FireplaceQu'].isnull().sum()).values"
   ]
  },
  {
   "cell_type": "code",
   "execution_count": 109,
   "id": "5d4b6dea",
   "metadata": {},
   "outputs": [
    {
     "data": {
      "text/plain": [
       "0"
      ]
     },
     "execution_count": 109,
     "metadata": {},
     "output_type": "execute_result"
    }
   ],
   "source": [
    "X_train['Imputed_FireplaceQu'].isnull().sum()"
   ]
  },
  {
   "cell_type": "code",
   "execution_count": 114,
   "id": "059ccdf4",
   "metadata": {},
   "outputs": [
    {
     "name": "stderr",
     "output_type": "stream",
     "text": [
      "/var/folders/03/17q0xl853nxgk_46r8x0vbkr0000gn/T/ipykernel_3289/1859706746.py:1: SettingWithCopyWarning: \n",
      "A value is trying to be set on a copy of a slice from a DataFrame\n",
      "\n",
      "See the caveats in the documentation: https://pandas.pydata.org/pandas-docs/stable/user_guide/indexing.html#returning-a-view-versus-a-copy\n",
      "  X_train['Imputed_GarageQual'][X_train['Imputed_GarageQual'].isnull()] = (X_train['GarageQual'].dropna().sample(X_train['Imputed_GarageQual'].isnull().sum()).values)\n"
     ]
    }
   ],
   "source": [
    "X_train['Imputed_GarageQual'][X_train['Imputed_GarageQual'].isnull()] = (X_train['GarageQual'].dropna().sample(X_train['Imputed_GarageQual'].isnull().sum()).values)"
   ]
  },
  {
   "cell_type": "code",
   "execution_count": 115,
   "id": "225d9802",
   "metadata": {},
   "outputs": [
    {
     "data": {
      "text/plain": [
       "0"
      ]
     },
     "execution_count": 115,
     "metadata": {},
     "output_type": "execute_result"
    }
   ],
   "source": [
    "X_train['Imputed_GarageQual'].isnull().sum()"
   ]
  },
  {
   "cell_type": "code",
   "execution_count": null,
   "id": "dd634cf1",
   "metadata": {},
   "outputs": [],
   "source": []
  },
  {
   "cell_type": "code",
   "execution_count": 116,
   "id": "eb5192cb",
   "metadata": {},
   "outputs": [],
   "source": [
    "columns = ['Imputed_FireplaceQu', 'Imputed_GarageQual']"
   ]
  },
  {
   "cell_type": "code",
   "execution_count": 118,
   "id": "214e88a3",
   "metadata": {},
   "outputs": [
    {
     "name": "stdout",
     "output_type": "stream",
     "text": [
      "159\n",
      "21\n"
     ]
    }
   ],
   "source": [
    "print(X_test['Imputed_FireplaceQu'].isnull().sum())\n",
    "print(X_test['Imputed_GarageQual'].isnull().sum())"
   ]
  },
  {
   "cell_type": "code",
   "execution_count": 123,
   "id": "dec1195f",
   "metadata": {},
   "outputs": [
    {
     "name": "stdout",
     "output_type": "stream",
     "text": [
      "Imputed_FireplaceQu\n",
      "Imputed_GarageQual\n"
     ]
    },
    {
     "name": "stderr",
     "output_type": "stream",
     "text": [
      "/var/folders/03/17q0xl853nxgk_46r8x0vbkr0000gn/T/ipykernel_3289/2883604239.py:3: SettingWithCopyWarning: \n",
      "A value is trying to be set on a copy of a slice from a DataFrame\n",
      "\n",
      "See the caveats in the documentation: https://pandas.pydata.org/pandas-docs/stable/user_guide/indexing.html#returning-a-view-versus-a-copy\n",
      "  X_test[i][X_test[i].isnull()] = X_test[i[8:]].dropna().sample(X_test[i].isnull().sum(), replace=True).values\n",
      "/var/folders/03/17q0xl853nxgk_46r8x0vbkr0000gn/T/ipykernel_3289/2883604239.py:3: SettingWithCopyWarning: \n",
      "A value is trying to be set on a copy of a slice from a DataFrame\n",
      "\n",
      "See the caveats in the documentation: https://pandas.pydata.org/pandas-docs/stable/user_guide/indexing.html#returning-a-view-versus-a-copy\n",
      "  X_test[i][X_test[i].isnull()] = X_test[i[8:]].dropna().sample(X_test[i].isnull().sum(), replace=True).values\n"
     ]
    }
   ],
   "source": [
    "for i in columns:\n",
    "    print(i)\n",
    "    X_test[i][X_test[i].isnull()] = X_test[i[8:]].dropna().sample(X_test[i].isnull().sum(), replace=True).values"
   ]
  },
  {
   "cell_type": "code",
   "execution_count": 125,
   "id": "7c60f52c",
   "metadata": {},
   "outputs": [
    {
     "data": {
      "text/plain": [
       "0"
      ]
     },
     "execution_count": 125,
     "metadata": {},
     "output_type": "execute_result"
    }
   ],
   "source": [
    "X_test['Imputed_FireplaceQu'].isnull().sum()"
   ]
  },
  {
   "cell_type": "code",
   "execution_count": 126,
   "id": "3691d5d7",
   "metadata": {},
   "outputs": [
    {
     "data": {
      "text/plain": [
       "0"
      ]
     },
     "execution_count": 126,
     "metadata": {},
     "output_type": "execute_result"
    }
   ],
   "source": [
    "X_test['Imputed_GarageQual'].isnull().sum()"
   ]
  },
  {
   "cell_type": "code",
   "execution_count": null,
   "id": "c46af5c8",
   "metadata": {},
   "outputs": [],
   "source": []
  },
  {
   "cell_type": "markdown",
   "id": "52ddbcf4",
   "metadata": {},
   "source": [
    "#### Visualizing the test data columns before & after Imputation"
   ]
  },
  {
   "cell_type": "code",
   "execution_count": 134,
   "id": "691bd675",
   "metadata": {},
   "outputs": [
    {
     "data": {
      "text/plain": [
       "54.45205479452054"
      ]
     },
     "execution_count": 134,
     "metadata": {},
     "output_type": "execute_result"
    }
   ],
   "source": [
    "X_test['FireplaceQu'].isnull().mean()*100"
   ]
  },
  {
   "cell_type": "code",
   "execution_count": 150,
   "id": "bb52ae1b",
   "metadata": {},
   "outputs": [
    {
     "data": {
      "text/plain": [
       "<Axes: >"
      ]
     },
     "execution_count": 150,
     "metadata": {},
     "output_type": "execute_result"
    },
    {
     "data": {
      "image/png": "[encoded data removed]",
      "text/plain": [
       "<Figure size 640x480 with 1 Axes>"
      ]
     },
     "metadata": {},
     "output_type": "display_data"
    }
   ],
   "source": [
    "X_test['Imputed_FireplaceQu'].value_counts().plot(kind='bar', color='Green', legend=True)\n",
    "X_test['FireplaceQu'].value_counts().plot(kind='bar', color='Red', legend=True)"
   ]
  },
  {
   "cell_type": "code",
   "execution_count": 149,
   "id": "c42f8ae9",
   "metadata": {},
   "outputs": [
    {
     "data": {
      "text/plain": [
       "<Axes: >"
      ]
     },
     "execution_count": 149,
     "metadata": {},
     "output_type": "execute_result"
    },
    {
     "data": {
      "image/png": "[encoded data removed]",
      "text/plain": [
       "<Figure size 640x480 with 1 Axes>"
      ]
     },
     "metadata": {},
     "output_type": "display_data"
    }
   ],
   "source": [
    "X_test['Imputed_GarageQual'].value_counts().plot(kind='bar', color='Green', legend=True)\n",
    "X_test['GarageQual'].value_counts().plot(kind='bar', color='Red', legend=True)"
   ]
  },
  {
   "cell_type": "code",
   "execution_count": 152,
   "id": "51a0240f",
   "metadata": {},
   "outputs": [
    {
     "data": {
      "text/plain": [
       "TA    272\n",
       "Fa     17\n",
       "Gd      2\n",
       "Ex      1\n",
       "Name: Imputed_GarageQual, dtype: int64"
      ]
     },
     "execution_count": 152,
     "metadata": {},
     "output_type": "execute_result"
    }
   ],
   "source": [
    "X_test['Imputed_GarageQual'].value_counts()"
   ]
  },
  {
   "cell_type": "code",
   "execution_count": 153,
   "id": "50505752",
   "metadata": {},
   "outputs": [
    {
     "data": {
      "text/plain": [
       "TA    253\n",
       "Fa     15\n",
       "Gd      2\n",
       "Ex      1\n",
       "Name: GarageQual, dtype: int64"
      ]
     },
     "execution_count": 153,
     "metadata": {},
     "output_type": "execute_result"
    }
   ],
   "source": [
    "X_test['GarageQual'].value_counts()"
   ]
  },
  {
   "cell_type": "markdown",
   "id": "db37c9a5",
   "metadata": {},
   "source": [
    "#### Visualizing the train data columns before & after Imputation"
   ]
  },
  {
   "cell_type": "code",
   "execution_count": 138,
   "id": "a95b0ef7",
   "metadata": {},
   "outputs": [
    {
     "data": {
      "text/plain": [
       "45.46232876712329"
      ]
     },
     "execution_count": 138,
     "metadata": {},
     "output_type": "execute_result"
    }
   ],
   "source": [
    "X_train['FireplaceQu'].isnull().mean()*100"
   ]
  },
  {
   "cell_type": "code",
   "execution_count": 146,
   "id": "ae6fa3e9",
   "metadata": {},
   "outputs": [
    {
     "data": {
      "text/plain": [
       "<Axes: >"
      ]
     },
     "execution_count": 146,
     "metadata": {},
     "output_type": "execute_result"
    },
    {
     "data": {
      "image/png": "[encoded data removed]",
      "text/plain": [
       "<Figure size 640x480 with 1 Axes>"
      ]
     },
     "metadata": {},
     "output_type": "display_data"
    }
   ],
   "source": [
    "X_train['Imputed_FireplaceQu'].value_counts().plot(kind='bar', color='Green', legend=True)\n",
    "X_train['FireplaceQu'].value_counts().plot(kind='bar', color='Red', legend=True)"
   ]
  },
  {
   "cell_type": "code",
   "execution_count": 154,
   "id": "7fb3389c",
   "metadata": {},
   "outputs": [
    {
     "name": "stdout",
     "output_type": "stream",
     "text": [
      "Gd    316\n",
      "TA    261\n",
      "Fa     25\n",
      "Ex     19\n",
      "Po     16\n",
      "Name: FireplaceQu, dtype: int64\n",
      "Gd    580\n",
      "TA    478\n",
      "Fa     44\n",
      "Ex     35\n",
      "Po     31\n",
      "Name: Imputed_FireplaceQu, dtype: int64\n"
     ]
    }
   ],
   "source": [
    "print(X_train['FireplaceQu'].value_counts())\n",
    "print(X_train['Imputed_FireplaceQu'].value_counts())"
   ]
  },
  {
   "cell_type": "code",
   "execution_count": 142,
   "id": "1bdfc7dc",
   "metadata": {},
   "outputs": [
    {
     "data": {
      "text/plain": [
       "5.136986301369863"
      ]
     },
     "execution_count": 142,
     "metadata": {},
     "output_type": "execute_result"
    }
   ],
   "source": [
    "X_train['GarageQual'].isnull().mean()*100"
   ]
  },
  {
   "cell_type": "code",
   "execution_count": 147,
   "id": "9dd9890d",
   "metadata": {},
   "outputs": [
    {
     "data": {
      "text/plain": [
       "<Axes: >"
      ]
     },
     "execution_count": 147,
     "metadata": {},
     "output_type": "execute_result"
    },
    {
     "data": {
      "image/png": "[encoded data removed]",
      "text/plain": [
       "<Figure size 640x480 with 1 Axes>"
      ]
     },
     "metadata": {},
     "output_type": "display_data"
    }
   ],
   "source": [
    "X_train['Imputed_GarageQual'].value_counts().plot(kind='bar', color='green', legend=True)\n",
    "X_train['GarageQual'].value_counts().plot(kind='bar',color='Red',legend=True)"
   ]
  },
  {
   "cell_type": "code",
   "execution_count": 167,
   "id": "f0dcfcb0",
   "metadata": {},
   "outputs": [
    {
     "data": {
      "text/plain": [
       "TA    1117\n",
       "Fa      33\n",
       "Gd      13\n",
       "Po       3\n",
       "Ex       2\n",
       "Name: Imputed_GarageQual, dtype: int64"
      ]
     },
     "execution_count": 167,
     "metadata": {},
     "output_type": "execute_result"
    }
   ],
   "source": [
    "X_train['Imputed_GarageQual'].value_counts()"
   ]
  },
  {
   "cell_type": "code",
   "execution_count": 173,
   "id": "7c1c70a8",
   "metadata": {},
   "outputs": [],
   "source": [
    "frequency_of_each_value = []\n",
    "for i in X_train['Imputed_GarageQual'].value_counts():\n",
    "    frequency_of_each_value.append(i)"
   ]
  },
  {
   "cell_type": "code",
   "execution_count": 171,
   "id": "cc248d4c",
   "metadata": {},
   "outputs": [
    {
     "data": {
      "text/plain": [
       "1117"
      ]
     },
     "execution_count": 171,
     "metadata": {},
     "output_type": "execute_result"
    }
   ],
   "source": [
    "X_train['Imputed_GarageQual'].value_counts()['TA']"
   ]
  },
  {
   "cell_type": "code",
   "execution_count": 179,
   "id": "543b6812",
   "metadata": {},
   "outputs": [],
   "source": [
    "# fig = plt.figure()\n",
    "# ax = fig.add_subplot(111)\n",
    "\n",
    "# index = np.arange(len(X_train['Imputed_GarageQual'].value_counts()))\n",
    "# ax.bar(index, frequency_of_each_value, color='pink')"
   ]
  },
  {
   "cell_type": "code",
   "execution_count": 190,
   "id": "f08e23d3",
   "metadata": {},
   "outputs": [
    {
     "data": {
      "text/plain": [
       "[Text(0.5, 1.0, 'X_train[Imputed_FireplaceQu]')]"
      ]
     },
     "execution_count": 190,
     "metadata": {},
     "output_type": "execute_result"
    },
    {
     "data": {
      "image/png": "[encoded data removed]",
      "text/plain": [
       "<Figure size 1200x800 with 4 Axes>"
      ]
     },
     "metadata": {},
     "output_type": "display_data"
    }
   ],
   "source": [
    "fig = plt.figure(figsize=(12,8))\n",
    "\n",
    "##Plot1\n",
    "ax1 = plt.subplot(2,2,1)\n",
    "frequency_of_each_value_1 = []\n",
    "for i in X_train['GarageQual'].value_counts():\n",
    "    frequency_of_each_value_1.append(i)\n",
    "\n",
    "index = np.arange(len(X_train['GarageQual'].value_counts()))\n",
    "ax1.bar(index, frequency_of_each_value_1, color='blue')\n",
    "ax1.set(title='X_train[GarageQual]')\n",
    "\n",
    "##plot2\n",
    "ax2 = plt.subplot(2,2,2)\n",
    "frequency_of_each_value_2 = []\n",
    "for i in X_train['Imputed_GarageQual'].value_counts():\n",
    "    frequency_of_each_value_2.append(i)\n",
    "\n",
    "index = np.arange(len(X_train['Imputed_GarageQual'].value_counts()))\n",
    "ax2.bar(index, frequency_of_each_value_2, color='indigo')\n",
    "ax2.set(title='X_train[Imputed_GarageQual]')\n",
    "\n",
    "\n",
    "##Plot3\n",
    "ax3 = plt.subplot(2,2,3)\n",
    "frequency_of_each_value_3 = []\n",
    "for i in X_train['FireplaceQu'].value_counts():\n",
    "    frequency_of_each_value_3.append(i)\n",
    "\n",
    "index = np.arange(len(X_test['FireplaceQu'].value_counts()))\n",
    "ax3.bar(index, frequency_of_each_value_3, color='green')\n",
    "ax3.set(title='X_train[FireplaceQu]')\n",
    "\n",
    "##plot4\n",
    "ax4 = plt.subplot(2,2,4)\n",
    "frequency_of_each_value_4 = []\n",
    "for i in X_train['Imputed_FireplaceQu'].value_counts():\n",
    "    frequency_of_each_value_4.append(i)\n",
    "\n",
    "index = np.arange(len(X_test['Imputed_FireplaceQu'].value_counts()))\n",
    "ax4.bar(index, frequency_of_each_value_4, color='violet')\n",
    "ax4.set(title='X_train[Imputed_FireplaceQu]')"
   ]
  }
 ],
 "metadata": {
  "kernelspec": {
   "display_name": "Python 3 (ipykernel)",
   "language": "python",
   "name": "python3"
  },
  "language_info": {
   "codemirror_mode": {
    "name": "ipython",
    "version": 3
   },
   "file_extension": ".py",
   "mimetype": "text/x-python",
   "name": "python",
   "nbconvert_exporter": "python",
   "pygments_lexer": "ipython3",
   "version": "3.11.3"
  }
 },
 "nbformat": 4,
 "nbformat_minor": 5
}
