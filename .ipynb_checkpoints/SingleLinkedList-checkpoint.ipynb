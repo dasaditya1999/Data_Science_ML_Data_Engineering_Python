{
 "cells": [
  {
   "cell_type": "code",
   "execution_count": 37,
   "id": "b196dbc6",
   "metadata": {},
   "outputs": [],
   "source": [
    "class Node:\n",
    "    def __init__(self,data=None,nxt=None):\n",
    "        self.data = data\n",
    "        self.nxt = nxt"
   ]
  },
  {
   "cell_type": "code",
   "execution_count": 66,
   "id": "609ade07",
   "metadata": {},
   "outputs": [],
   "source": [
    "class LinkedList:\n",
    "    def __init__(self, head=None):\n",
    "        self.head = None\n",
    "        \n",
    "    def insert_at_beginning(self,data):\n",
    "        \n",
    "        # Check if the LL is empty\n",
    "        if self.head == None:\n",
    "            node = Node(data)\n",
    "            self.head = node\n",
    "        else:\n",
    "            node = Node(data)\n",
    "            node.nxt = self.head\n",
    "            self.head = node\n",
    "        \n",
    "    def traverse_linkedlist(self):\n",
    "        \n",
    "        # check if the LL is empty\n",
    "        if self.head == None:\n",
    "            print(\"The linkedlist is empty\")\n",
    "        \n",
    "        else:    \n",
    "            itr = self.head\n",
    "            \n",
    "            while itr:\n",
    "                print(f'{itr.data}, | {itr.nxt}', end=' --> ')\n",
    "                itr = itr.nxt\n",
    "                \n",
    "    def insert_at_any_pos(self,data,pos):\n",
    "        if pos == 0:\n",
    "            self.insert_at_beginning(data)\n",
    "        else:\n",
    "            itr = self.head\n",
    "            count = 0\n",
    "            while itr:\n",
    "                count = count + 1\n",
    "                if count == pos:\n",
    "                    break\n",
    "                itr = itr.nxt\n",
    "                \n",
    "            # create a new node \n",
    "            node = Node(data)\n",
    "            next_address = itr.nxt\n",
    "            node.nxt = next_address\n",
    "            itr.nxt = node"
   ]
  },
  {
   "cell_type": "code",
   "execution_count": null,
   "id": "76b600e3",
   "metadata": {},
   "outputs": [],
   "source": []
  },
  {
   "cell_type": "code",
   "execution_count": 77,
   "id": "44749651",
   "metadata": {},
   "outputs": [],
   "source": [
    "ll = LinkedList()"
   ]
  },
  {
   "cell_type": "code",
   "execution_count": 78,
   "id": "2dd47b62",
   "metadata": {},
   "outputs": [],
   "source": [
    "ll.insert_at_beginning(30)\n",
    "ll.insert_at_beginning(40)\n",
    "ll.insert_at_beginning(80)\n",
    "ll.insert_at_any_pos(100,0)\n",
    "ll.insert_at_any_pos(111,1)"
   ]
  },
  {
   "cell_type": "code",
   "execution_count": 79,
   "id": "b9d69751",
   "metadata": {},
   "outputs": [
    {
     "name": "stdout",
     "output_type": "stream",
     "text": [
      "100, | <__main__.Node object at 0x1076ee550> --> 111, | <__main__.Node object at 0x1076ef650> --> 80, | <__main__.Node object at 0x1076ee0d0> --> 40, | <__main__.Node object at 0x1076ed050> --> 30, | None --> "
     ]
    }
   ],
   "source": [
    "ll.traverse_linkedlist()"
   ]
  }
 ],
 "metadata": {
  "kernelspec": {
   "display_name": "Python 3 (ipykernel)",
   "language": "python",
   "name": "python3"
  },
  "language_info": {
   "codemirror_mode": {
    "name": "ipython",
    "version": 3
   },
   "file_extension": ".py",
   "mimetype": "text/x-python",
   "name": "python",
   "nbconvert_exporter": "python",
   "pygments_lexer": "ipython3",
   "version": "3.11.4"
  }
 },
 "nbformat": 4,
 "nbformat_minor": 5
}
