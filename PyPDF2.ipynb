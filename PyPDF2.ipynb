{
 "cells": [
  {
   "cell_type": "code",
   "execution_count": 2,
   "id": "81642552",
   "metadata": {},
   "outputs": [],
   "source": [
    "from platform import python_version"
   ]
  },
  {
   "cell_type": "code",
   "execution_count": 4,
   "id": "0e01a01a",
   "metadata": {},
   "outputs": [
    {
     "data": {
      "text/plain": [
       "'3.11.4'"
      ]
     },
     "execution_count": 4,
     "metadata": {},
     "output_type": "execute_result"
    }
   ],
   "source": [
    "python_version()"
   ]
  },
  {
   "cell_type": "code",
   "execution_count": 6,
   "id": "03761318",
   "metadata": {},
   "outputs": [],
   "source": [
    "# f = open('Aditya Narayan Das-OfferLetter.pdf')\n",
    "# f.read()"
   ]
  },
  {
   "cell_type": "code",
   "execution_count": 8,
   "id": "37efde3a",
   "metadata": {},
   "outputs": [
    {
     "name": "stdout",
     "output_type": "stream",
     "text": [
      "Collecting PyPDF2\n",
      "  Obtaining dependency information for PyPDF2 from https://files.pythonhosted.org/packages/8e/5e/c86a5643653825d3c913719e788e41386bee415c2b87b4f955432f2de6b2/pypdf2-3.0.1-py3-none-any.whl.metadata\n",
      "  Downloading pypdf2-3.0.1-py3-none-any.whl.metadata (6.8 kB)\n",
      "Downloading pypdf2-3.0.1-py3-none-any.whl (232 kB)\n",
      "\u001b[2K   \u001b[90m━━━━━━━━━━━━━━━━━━━━━━━━━━━━━━━━━━━━━━━━\u001b[0m \u001b[32m232.6/232.6 kB\u001b[0m \u001b[31m3.5 MB/s\u001b[0m eta \u001b[36m0:00:00\u001b[0ma \u001b[36m0:00:01\u001b[0m\n",
      "\u001b[?25hInstalling collected packages: PyPDF2\n",
      "Successfully installed PyPDF2-3.0.1\n"
     ]
    }
   ],
   "source": [
    "!pip install PyPDF2"
   ]
  },
  {
   "cell_type": "code",
   "execution_count": 9,
   "id": "72902a21",
   "metadata": {},
   "outputs": [],
   "source": [
    "import PyPDF2"
   ]
  },
  {
   "cell_type": "code",
   "execution_count": 12,
   "id": "0711fc2d",
   "metadata": {},
   "outputs": [],
   "source": [
    "reader = PyPDF2.PdfReader('Aditya Narayan Das-OfferLetter.pdf')"
   ]
  },
  {
   "cell_type": "code",
   "execution_count": 16,
   "id": "4ac423fe",
   "metadata": {},
   "outputs": [
    {
     "data": {
      "text/plain": [
       "PyPDF2._reader.PdfReader"
      ]
     },
     "execution_count": 16,
     "metadata": {},
     "output_type": "execute_result"
    }
   ],
   "source": [
    "type(reader)"
   ]
  },
  {
   "cell_type": "code",
   "execution_count": 22,
   "id": "d43c2108",
   "metadata": {},
   "outputs": [
    {
     "name": "stdout",
     "output_type": "stream",
     "text": [
      "7\n"
     ]
    }
   ],
   "source": [
    "# for i in reader.pages:\n",
    "#     print(i)\n",
    "    \n",
    "#     print(type(i[0].text))\n",
    "#     print('-------')\n",
    "\n",
    "print(len(reader.pages))"
   ]
  },
  {
   "cell_type": "code",
   "execution_count": 38,
   "id": "7686dd9b",
   "metadata": {},
   "outputs": [],
   "source": [
    "# reader.pages[0].extract_text()"
   ]
  },
  {
   "cell_type": "code",
   "execution_count": 39,
   "id": "b8b6b3f2",
   "metadata": {},
   "outputs": [],
   "source": [
    "# "
   ]
  },
  {
   "cell_type": "code",
   "execution_count": 36,
   "id": "5e15e3f4",
   "metadata": {},
   "outputs": [
    {
     "name": "stdout",
     "output_type": "stream",
     "text": [
      "Aditya Narayan Das\n",
      "14 February 2024\n",
      "Dear Aditya,\n",
      "We are pleased to extend to you a position with Tiger Analytics India Consulting Private Limited  (the\n",
      "Company) as Senior Analyst within our MLE-MLOPS team. Your employment is subject to satisfactory\n",
      "completion  of  background  and  reference  checks,  the  absence  of  any  bars  or  restrictions  on  your\n",
      "employment with the Company and your acceptance of these terms and conditions.\n",
      "1.Date of Commencement  \n",
      "Your commencement date will be 15 May 2024.\n",
      "2.Place of Work  \n",
      "Your normal place of work is Bangalore. You may be required to work at other locations approved by\n",
      "the Company from time to time.\n",
      "3.Duties  \n",
      "Your duties will be as per our discussions during various conversations.\n",
      "4.Time sheets  \n",
      "You are required to accurately complete and submit a weekly time sheet each Monday covering the\n",
      "prior week.\n",
      "5.Salary  \n",
      "For the first year, the detailed breakdown of your salary expressed as total cost to the Company is\n",
      "attached. Your salary will be reviewed, considering your performance, annually in accordance with\n",
      "the Company salary review timetables. \n",
      "6.Provident Fund  \n",
      "There  is  an  employee  provident  fund  plan.  The  employee  and  company  contributions  to  the\n",
      "provident fund are deducted from the above-mentioned CTC (indicated in line item #5). \n",
      "7.Health Insurance  \n",
      "The company provides health insurance to the employee and their immediate dependents (spouse\n",
      "and three children). Additional insurance can be purchased for dependent parents. \n",
      "8.Leave Entitlements  \n",
      "You are entitled to 21 days of paid leave per year. Leave would be accrued at a rate of 1.75 days per\n",
      "month. Any leave accrued above 30 days would lapse, i.e. you cannot have more than 30 days of\n",
      "leave at any point. \n",
      "TIGER ANALYTICS INDIA CONSULTING PVT LTD \n",
      "(CIN: U74999TN2021FTC146673)\n",
      "RMZ Millenia Business Park-2,Campus 5(2nd Floor) No. 143, Kandanchavadi,\n",
      "MGR Road, Perungudi, Chennai 600096. www.tigeranalytics.com\n",
      "\n",
      "---------End of Page 1----------\n",
      "\n",
      "Maximum leave request can be for a period of 15 calendar days at a stretch. Request for leaves\n",
      "beyond 15 calendar days will need special approval. You are requested to give at least one month’s\n",
      "notice of taking paid leave so as to fit in with other staff and client deadlines. The Company may\n",
      "request for annual leave be taken on different dates, although every effort will be made to comply\n",
      "with the requested dates. \n",
      "Leave cannot be encashed except when you choose to leave the company. During separation from\n",
      "the company, the Basic component of the salary for the leave balance will be paid during the full and\n",
      "final settlement. Leave is not approved during the notice period. \n",
      "Other special leave entitlements will  be  granted  in  line with  local legislative  requirements  and\n",
      "Company policy.\n",
      "9.Safety  \n",
      "The Company is committed to providing a safe working environment for all employees and therefore\n",
      "required to abide by all safety rules and procedures operating within the Company.\n",
      "10.Conduct  \n",
      "You  will  be  expected  to  dress  appropriately  for  a  business  setting.  Behavior  unbecoming  of  a\n",
      "business  environment  (as  perceived  the  Company)  will  not  be  tolerated  and  might  lead  to\n",
      "termination of employment.\n",
      "11.Confidentiality  \n",
      "During  your  employment  with  the  Company,  you  will  make  use  of  Confidential  Information  in\n",
      "carrying out your duties. Without limitation, “Confidential Information” includes:\n",
      "1.Information relating to the goods and services and proprietary  techniques provided by the\n",
      "Company and clients of the Company\n",
      "2.All information concerning the business, its methods of operation, marketing and other activities\n",
      "3.All databases, lists compiled by the company, client proposals, reports, software, algorithms, and\n",
      "computer programs\n",
      "4.Competitive and financial information concerning the business, which is not in the public domain\n",
      "5.information concerning the business of the Company’s clients\n",
      "You must not, whether during employment or after termination of your employment with the\n",
      "Company, without written authority, divulge ‘Confidential Information’ to anyone other than an\n",
      "employee authorized to receive the information, or use such information for your own personal\n",
      "gain.\n",
      "You will  be required to sign additional confidentiality agreements in line with your role in the\n",
      "company. \n",
      "12.Inventions and Copyright  \n",
      "You assign to the Company your entire right, title and interest in and to any copyright and any\n",
      "industrial  or  intellectual  property  rights  in  any  and  all  works,  designs,  computer  programs,\n",
      "inventions,  processes,  concepts,  strategies,  plans  and  lists  (Confidential  Property)  which  (either\n",
      "TIGER ANALYTICS INDIA CONSULTING PVT LTD \n",
      "(CIN: U74999TN2021FTC146673)\n",
      "RMZ Millenia Business Park-2,Campus 5(2nd Floor) No. 143, Kandanchavadi,\n",
      "MGR Road, Perungudi, Chennai 600096. www.tigeranalytics.com\n",
      "\n",
      "---------End of Page 2----------\n",
      "\n",
      "solely or jointly with others) you have developed or may develop during and/or as a result of your\n",
      "employment with the Company. \n",
      "You also agree promptly to disclose to the Company or to its attorneys any and all such Confidential\n",
      "Property developed by you and agree to execute upon demand, at the expense of the Company, all\n",
      "documents which may be desirable to secure to the Company the best copyright, patent or other\n",
      "protection in India and elsewhere and/or rights relating to such Confidential Property. \n",
      "13.Termination of Employment  \n",
      "Your employment with the Company will terminate:\n",
      "a.By either party giving two months written notice to the other. The Company may, at its\n",
      "discretion, choose to pay your salary in lieu of such notice. Alternatively, the Company may\n",
      "require that you do not attend the workplace during the notice period. \n",
      "b.Notwithstanding any provision to the contrary herein contained, the Company may at any\n",
      "time terminate this Agreement and dismiss you summarily without notice or payment in lieu\n",
      "of notice in the event you:\n",
      "i.Willfully disobey a lawful and reasonable order of the Company\n",
      "ii.Act (in the opinion of the Company) in serious. Willful or persistent breach of your\n",
      "responsibilities herein set out\n",
      "iii.Are guilty of fraud, dishonesty or any criminal act as the Company has a zero-\n",
      "tolerance attitude towards fraud\n",
      "iv.Are habitually late or are absent from the office without reasonable cause\n",
      "v.Have acted in such manner as shall in the reasonable opinion of the Company be\n",
      "prejudicial to the interests of the Company\n",
      "vi.Are  engaged  in  other  employment  or  are  involved  in  any  trade,  business  or\n",
      "occupation which has not been disclosed to and approved by the Company\n",
      "vii.Will be absent from employment without reasonable cause or permission of the\n",
      "Company\n",
      "viii.Become of unsound mind or become a person subject to any order of supervision\n",
      "under any applicable law relating to mental health\n",
      "ix.Will act in such manner as to entitle the Company to terminate this Agreement\n",
      "without notice at common law.\n",
      "The provisions of this contract of employment relating to Confidential Information and Confidential\n",
      "Property  shall  remain  in  full  force  and  effect  notwithstanding  termination  of  this  contract  of\n",
      "employment.\n",
      "14.Following Termination of Employment  \n",
      "14.1Confidentiality\n",
      "You agree that upon termination of your employment with the Company you shall return to\n",
      "the Company:\n",
      "a.All documents and any other materials constituting or containing Confidential Property\n",
      "or  Confidential  Information  including,  without  limitation,  customers  or  contacts,\n",
      "TIGER ANALYTICS INDIA CONSULTING PVT LTD \n",
      "(CIN: U74999TN2021FTC146673)\n",
      "RMZ Millenia Business Park-2,Campus 5(2nd Floor) No. 143, Kandanchavadi,\n",
      "MGR Road, Perungudi, Chennai 600096. www.tigeranalytics.com\n",
      "\n",
      "---------End of Page 3----------\n",
      "\n",
      "correspondence  and  other  written  material  relating  to  Confidential  Information  or\n",
      "Confidential Property and that you will not retain any such documents or material or\n",
      "copies of such documents or material\n",
      "b.Company mobile phone, blackberry, or other electronic telecommunications devices\n",
      "that the company has issued to you. The telephone number of the company owned\n",
      "telecommunications devices will remain property of the company\n",
      "c.And other property of the Company including, without limitation, security access cards,\n",
      "credit cards, computers and computer software (which must be deleted immediately\n",
      "from any storage device owned by you).\n",
      "The Company shall not be obliged to pay to you any amount due to you on termination of\n",
      "your employment until it is satisfied that you have complied with this Clause 14.1\n",
      "14.2Clients – non-rendering of services to clients\n",
      "You also agree that you will not, during your employment with the Company or Group and\n",
      "for a period of twelve months after termination, contact, or assist anyone else to contact,\n",
      "any Client of the Company with a view to obtaining business from those Clients; or to\n",
      "persuade those Clients to cease to do business with the Company or to reduce the amount\n",
      "of business which any such Clients has customarily done or is reasonable expected to do\n",
      "with the Company.\n",
      "The definition of Client includes any prospective client to whom you or the Company has\n",
      "made a formal presentation at any time during the twelve months immediately preceding\n",
      "termination.\n",
      "You also agree that, if such clients approach you in that period, you will inform them of this\n",
      "agreement and refer them to the appropriate person at the Company. \n",
      "14.3Staff – non-hire of staff\n",
      "You also agree that, for six months following termination of your employment with the\n",
      "Company, you will not hire or encourage a third party to hire any member of staff of the\n",
      "Company.\n",
      "15.Invalidity  \n",
      "In any terms of provisions in this agreement shall be held illegal or unenforceable, in whole or in\n",
      "part, under any enactment or rule of law, such term or provision or part shall to that extent be\n",
      "deemed  not  to  form  part  of  this  agreement  but  the  enforceability  of  the  remainder  of  this\n",
      "agreement shall not be affected. \n",
      "16.Variation  \n",
      "The terms of this contract of employment may be varied by the Company from time to time. You will\n",
      "be notified of any variations.\n",
      "17.Adherence to Company Policies  \n",
      "TIGER ANALYTICS INDIA CONSULTING PVT LTD \n",
      "(CIN: U74999TN2021FTC146673)\n",
      "RMZ Millenia Business Park-2,Campus 5(2nd Floor) No. 143, Kandanchavadi,\n",
      "MGR Road, Perungudi, Chennai 600096. www.tigeranalytics.com\n",
      "\n",
      "---------End of Page 4----------\n",
      "\n",
      "When you join the Company, it will also be a condition of employment that you review and adhere\n",
      "to  company  policies  which  you  will  be  notified  of  subsequently.  You  agree  to  adhere  to  the\n",
      "Company’s project financing contracts (e.g. BOT) with the clients.\n",
      "18.Retirement Age  \n",
      "You will retire from the services of the Company on the last working day of the month in which you\n",
      "attain the age of 60.\n",
      "19.Governing Laws and Jurisdiction  \n",
      "This contract will be governed by the law in force in Chennai, India\n",
      "20.Personal Information and Consent  \n",
      "By accepting this offer, you are giving your implicit consent to Tiger Analytics India Consulting Private\n",
      "Limited  to  collect  and  use  your  personal  information  for  business  purposes.  Your  personal\n",
      "information  may  be  shared  with  the  Clients  and  prospective  Clients  of  Tiger  Analytics  India\n",
      "Consulting Private Limited as a part of selection or onboarding process to work in  projects. Tiger\n",
      "Analytics India Consulting Private Limited will also share your personal information with a third party\n",
      "for carrying out the background verification as required. Tiger Analytics India Consulting Private\n",
      "Limited  will  store  your  employment,  financial  and  personal  information  during  the  period  of\n",
      "employment and for Data Retention Period after your separation, as per the data retention policy to\n",
      "comply with statutory requirements.\n",
      "21.Acceptance  \n",
      "Please  sign  and  return  the  duplicate  copy  of  this  letter  signifying  your  acceptance  of  the\n",
      "appointment and the conditions of service specified in this letter.\n",
      "We are pleased to welcome you to the Company. If the preceding terms and conditions of your\n",
      "employment with the Company are acceptable to you, please indicate your acceptance by initialing\n",
      "each page and signing the last page of the attached copy and returning it to me. \n",
      "Regards\n",
      "Pradeep Gulipalli\n",
      "General Manager\n",
      "Tiger Analytics India Consulting Private Limited\n",
      "TIGER ANALYTICS INDIA CONSULTING PVT LTD \n",
      "(CIN: U74999TN2021FTC146673)\n",
      "RMZ Millenia Business Park-2,Campus 5(2nd Floor) No. 143, Kandanchavadi,\n",
      "MGR Road, Perungudi, Chennai 600096. www.tigeranalytics.com\n",
      "\n",
      "---------End of Page 5----------\n",
      "\n",
      "Acknowledgement\n",
      "I, the employee, acknowledge and understand the terms and conditions contained in this agreement,\n",
      "and  I  was  given  a  copy  of  the  intended  agreement  and  given  a  reasonable  opportunity  to  seek\n",
      "independent advice before I entered into it. I was not induced to enter into this agreement by any\n",
      "oppressive means, undue influence or duress by the Company.\n",
      "Name      :_______________________\n",
      "Signature   :_______________________                             \n",
      "Date      :________________________\n",
      "TIGER ANALYTICS INDIA CONSULTING PVT LTD \n",
      "(CIN: U74999TN2021FTC146673)\n",
      "RMZ Millenia Business Park-2,Campus 5(2nd Floor) No. 143, Kandanchavadi,\n",
      "MGR Road, Perungudi, Chennai 600096. www.tigeranalytics.com\n",
      "\n",
      "---------End of Page 6----------\n",
      "\n",
      "ADDENDUM\n",
      "Name :Aditya Narayan Das\n",
      "Designation :Senior Analyst – MLE-MLOPS\n",
      "Date of Joining :15 May 2024\n",
      "Date of Offer                    : 14 February 2024\n",
      "  Salary Breakup Annual (INR)\n",
      "Basic           4,54,546 \n",
      "Flexi Benefits 1,23,000\n",
      "HRA 2,27,273\n",
      "Special Allowance             2,76,999\n",
      "Performance Incentive 1,13,636\n",
      "Employer PF Contribution             54,546 \n",
      "Total Salary 12,50,000\n",
      "Other Benefits\n",
      "Group Health Insurance 8,00,000\n",
      "Group Accident Cover                           25,00,000\n",
      "Salary Breakup The salary breakup might be revised in the future depending on company policy\n",
      "Employee’s contribution to PF 12% of Basic, will be deducted from the Basic\n",
      "Flexi benefits Includes  some  tax-free  components  (Telephone/Wifi,  Meal  Vouchers,  LTA)  that  you  can  opt  for.\n",
      "Alternatively, you can get this amount as a taxable salary.\n",
      "Group Health Insurance The company pays for the health insurance premium for a self, spouse, and 3 children for a coverage of Rs\n",
      "8,00,000 as a floater  policy  with the option to buy  top-ups.  Additionally,  parental insurance  can be\n",
      "purchased at the time of joining\n",
      "Performance Incentive Instead  of a variable  performance-based  annual  bonus,  we  credit  the full  amount  as a fixed  salary\n",
      "expecting high performance.\n",
      "Relocation Reimbursement:You are eligible for relocation reimbursements up to a maximum total of INR  25,000. \n",
      "Reimbursements shall be made against the production of invoices / tickets within one month of \n",
      "joining. This will need to be returned if you choose to leave the company or if the company terminates you\n",
      "from your position with cause, within 24 months of your start date.\n",
      "TIGER ANALYTICS INDIA CONSULTING PVT LTD \n",
      "(CIN: U74999TN2021FTC146673)\n",
      "RMZ Millenia Business Park-2,Campus 5(2nd Floor) No. 143, Kandanchavadi,\n",
      "MGR Road, Perungudi, Chennai 600096. www.tigeranalytics.com\n",
      "\n",
      "---------End of Page 7----------\n",
      "\n"
     ]
    }
   ],
   "source": [
    "count = 0\n",
    "for i in reader.pages:\n",
    "    count = count + 1\n",
    "    print(i.extract_text())\n",
    "    print()\n",
    "    print(f'---------End of Page {count}----------')\n",
    "    print()"
   ]
  },
  {
   "cell_type": "code",
   "execution_count": 37,
   "id": "c707136a",
   "metadata": {},
   "outputs": [],
   "source": [
    "# reader.pages[0].extract_text()"
   ]
  }
 ],
 "metadata": {
  "kernelspec": {
   "display_name": "Python 3 (ipykernel)",
   "language": "python",
   "name": "python3"
  },
  "language_info": {
   "codemirror_mode": {
    "name": "ipython",
    "version": 3
   },
   "file_extension": ".py",
   "mimetype": "text/x-python",
   "name": "python",
   "nbconvert_exporter": "python",
   "pygments_lexer": "ipython3",
   "version": "3.11.4"
  }
 },
 "nbformat": 4,
 "nbformat_minor": 5
}
