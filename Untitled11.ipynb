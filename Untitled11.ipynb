{
 "cells": [
  {
   "cell_type": "markdown",
   "id": "a350240e",
   "metadata": {},
   "source": [
    "Suppose we have a lowercase alphabet string s. Find a string with all the vowels of s in sorted sequence followed by all consonants of s in sorted sequence."
   ]
  },
  {
   "cell_type": "markdown",
   "id": "627ba047",
   "metadata": {},
   "source": [
    "s = 'helloworld'\n",
    "expected output = 'eoodhlllrw'"
   ]
  },
  {
   "cell_type": "code",
   "execution_count": null,
   "id": "f77dfde9",
   "metadata": {},
   "outputs": [],
   "source": [
    "s = 'interview'\n",
    "expected output = 'enterviiw'"
   ]
  },
  {
   "cell_type": "code",
   "execution_count": null,
   "id": "61e3adb5",
   "metadata": {},
   "outputs": [],
   "source": []
  },
  {
   "cell_type": "code",
   "execution_count": null,
   "id": "36bc39c4",
   "metadata": {},
   "outputs": [],
   "source": [
    "i, e, i, e"
   ]
  },
  {
   "cell_type": "code",
   "execution_count": null,
   "id": "2985354f",
   "metadata": {},
   "outputs": [],
   "source": [
    "e, e, i, i"
   ]
  },
  {
   "cell_type": "code",
   "execution_count": null,
   "id": "a4e9d59c",
   "metadata": {},
   "outputs": [],
   "source": []
  },
  {
   "cell_type": "code",
   "execution_count": 13,
   "id": "09003ead",
   "metadata": {},
   "outputs": [
    {
     "name": "stdout",
     "output_type": "stream",
     "text": [
      "enterviiw\n"
     ]
    }
   ],
   "source": [
    "s = 'interview'\n",
    "# vowels = ['a','e','i','o','u']\n",
    "\n",
    "\n",
    "list_of_vowels_from_string = []\n",
    "\n",
    "## Traversing through the string in order to find the vowels & consonants\n",
    "for items in s:\n",
    "    if items == 'a' or items=='e' or items == 'i' or items == 'o' or items == 'u':\n",
    "        list_of_vowels_from_string.append(items)\n",
    "\n",
    "##Sorting the vowels in a list\n",
    "list_of_vowels_from_string.sort() ##e,e,i,i\n",
    "\n",
    "## Initializing the result string\n",
    "result_string = \"\"\n",
    "\n",
    "\n",
    "## Developing the new string based on vowel position\n",
    "counter = 0\n",
    "for items in s:\n",
    "    if items == 'a' or items=='e' or items == 'i' or items == 'o' or items == 'u':\n",
    "        result_string = result_string + list_of_vowels_from_string[counter]\n",
    "        counter = counter + 1\n",
    "#         del list_of_vowels_from_string[0]\n",
    "    else:\n",
    "        result_string = result_string + items\n",
    "\n",
    "## Printing the result\n",
    "print(result_string)"
   ]
  },
  {
   "cell_type": "code",
   "execution_count": 6,
   "id": "1c6141b7",
   "metadata": {},
   "outputs": [],
   "source": [
    "l = [1,2,3]"
   ]
  },
  {
   "cell_type": "code",
   "execution_count": 7,
   "id": "b8527071",
   "metadata": {},
   "outputs": [],
   "source": [
    "del l[0]"
   ]
  },
  {
   "cell_type": "code",
   "execution_count": 8,
   "id": "fded58da",
   "metadata": {},
   "outputs": [
    {
     "data": {
      "text/plain": [
       "[2, 3]"
      ]
     },
     "execution_count": 8,
     "metadata": {},
     "output_type": "execute_result"
    }
   ],
   "source": [
    "l"
   ]
  },
  {
   "cell_type": "code",
   "execution_count": null,
   "id": "eb973939",
   "metadata": {},
   "outputs": [],
   "source": []
  },
  {
   "cell_type": "code",
   "execution_count": 5,
   "id": "2ca4f059",
   "metadata": {},
   "outputs": [
    {
     "name": "stdout",
     "output_type": "stream",
     "text": [
      "eoodhlllrw\n"
     ]
    }
   ],
   "source": [
    "s = 'helloworld'\n",
    "vowels = ['a','e','i','o','u']\n",
    "\n",
    "\n",
    "list_of_vowels_from_string = []\n",
    "list_of_consonants_from_string = []\n",
    "\n",
    "## Traversing through the string in order to find the vowels & consonants\n",
    "for items in s:\n",
    "    \n",
    "    if items == 'a' or items=='e' or items == 'i' or items == 'o' or items == 'u':\n",
    "        list_of_vowels_from_string.append(items)\n",
    "    else:\n",
    "        list_of_consonants_from_string.append(items)\n",
    "    \n",
    "#     if items in vowels:\n",
    "#         list_of_vowels_from_string.append(items)\n",
    "#     else:\n",
    "#         list_of_consonants_from_string.append(items)\n",
    "        \n",
    "\n",
    "##Sorting both the lists in increasing order\n",
    "list_of_vowels_from_string.sort()\n",
    "list_of_consonants_from_string.sort()\n",
    "\n",
    "## Merging both the lists\n",
    "resultant_list = list_of_vowels_from_string+list_of_consonants_from_string\n",
    "\n",
    "## Getting the final string from the list\n",
    "result = \"\"\n",
    "for i in resultant_list:\n",
    "    result = result + i\n",
    "\n",
    "print(result)"
   ]
  },
  {
   "cell_type": "code",
   "execution_count": null,
   "id": "fd174589",
   "metadata": {},
   "outputs": [],
   "source": []
  }
 ],
 "metadata": {
  "kernelspec": {
   "display_name": "Python 3 (ipykernel)",
   "language": "python",
   "name": "python3"
  },
  "language_info": {
   "codemirror_mode": {
    "name": "ipython",
    "version": 3
   },
   "file_extension": ".py",
   "mimetype": "text/x-python",
   "name": "python",
   "nbconvert_exporter": "python",
   "pygments_lexer": "ipython3",
   "version": "3.11.4"
  }
 },
 "nbformat": 4,
 "nbformat_minor": 5
}
